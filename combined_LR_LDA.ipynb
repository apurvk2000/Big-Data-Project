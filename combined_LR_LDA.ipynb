{
 "cells": [
  {
   "cell_type": "markdown",
   "metadata": {},
   "source": [
    "## Import modules"
   ]
  },
  {
   "cell_type": "code",
   "execution_count": 9,
   "metadata": {
    "pycharm": {
     "name": "#%%\n"
    }
   },
   "outputs": [],
   "source": [
    "import imblearn\n",
    "import pandas as pd\n",
    "import sklearn\n",
    "import seaborn as sns\n",
    "import dill\n",
    "import matplotlib.pyplot as plt\n",
    "import matplotlib\n",
    "import numpy as np\n",
    "\n",
    "\n",
    "from sklearn.preprocessing import MinMaxScaler\n",
    "from sklearn.model_selection import train_test_split, KFold, GridSearchCV, RandomizedSearchCV\n",
    "from sklearn.linear_model import LogisticRegression\n",
    "from sklearn.discriminant_analysis import LinearDiscriminantAnalysis\n",
    "from sklearn.neighbors import KNeighborsClassifier\n",
    "from sklearn import preprocessing\n",
    "from sklearn.metrics import plot_precision_recall_curve, plot_roc_curve, confusion_matrix\n",
    "from sklearn.pipeline import Pipeline\n",
    "from joblib import dump, load\n",
    "from imblearn.pipeline import Pipeline as imbpipeline\n",
    "from imblearn.over_sampling import SMOTE\n",
    "from sklearn.ensemble import RandomForestClassifier"
   ]
  },
  {
   "cell_type": "markdown",
   "metadata": {},
   "source": [
    "## Data loading"
   ]
  },
  {
   "cell_type": "code",
   "execution_count": 11,
   "metadata": {
    "pycharm": {
     "name": "#%%\n"
    },
    "scrolled": true
   },
   "outputs": [],
   "source": [
    "random_state = 809\n",
    "# Load data from sources\n",
    "data=pd.read_csv('C:\\\\Users\\\\apurv Khandelwal\\\\Desktop\\\\Lending Club\\\\Lending Club\\\\Lending_Club_Data.csv')\n",
    "# Load jupyter session\n",
    "#dill.load_session('logistic_forest.db')\n",
    "# Create test andd train\n",
    "random_state = 809"
   ]
  },
  {
   "cell_type": "markdown",
   "metadata": {},
   "source": [
    "## Data preprocessing"
   ]
  },
  {
   "cell_type": "code",
   "execution_count": 13,
   "metadata": {
    "pycharm": {
     "name": "#%%\n"
    }
   },
   "outputs": [
    {
     "data": {
      "text/html": [
       "<div>\n",
       "<style scoped>\n",
       "    .dataframe tbody tr th:only-of-type {\n",
       "        vertical-align: middle;\n",
       "    }\n",
       "\n",
       "    .dataframe tbody tr th {\n",
       "        vertical-align: top;\n",
       "    }\n",
       "\n",
       "    .dataframe thead th {\n",
       "        text-align: right;\n",
       "    }\n",
       "</style>\n",
       "<table border=\"1\" class=\"dataframe\">\n",
       "  <thead>\n",
       "    <tr style=\"text-align: right;\">\n",
       "      <th></th>\n",
       "      <th>loan_status</th>\n",
       "      <th>loan_amnt</th>\n",
       "      <th>term</th>\n",
       "      <th>sub_grade</th>\n",
       "      <th>installment</th>\n",
       "      <th>issue_d</th>\n",
       "      <th>annual_inc</th>\n",
       "      <th>emp_length</th>\n",
       "      <th>verification_status</th>\n",
       "      <th>purpose</th>\n",
       "      <th>...</th>\n",
       "      <th>revol_util</th>\n",
       "      <th>tax_liens</th>\n",
       "      <th>tot_cur_bal</th>\n",
       "      <th>tot_hi_cred_lim</th>\n",
       "      <th>total_acc</th>\n",
       "      <th>total_bal_ex_mort</th>\n",
       "      <th>total_bc_limit</th>\n",
       "      <th>revol_bal_joint</th>\n",
       "      <th>annual_inc_joint</th>\n",
       "      <th>verification_status_joint</th>\n",
       "    </tr>\n",
       "  </thead>\n",
       "  <tbody>\n",
       "    <tr>\n",
       "      <th>0</th>\n",
       "      <td>1.0</td>\n",
       "      <td>1320.0</td>\n",
       "      <td>1.0</td>\n",
       "      <td>15.0</td>\n",
       "      <td>53744.0</td>\n",
       "      <td>0.0</td>\n",
       "      <td>38792.0</td>\n",
       "      <td>3.0</td>\n",
       "      <td>2.0</td>\n",
       "      <td>2.0</td>\n",
       "      <td>...</td>\n",
       "      <td>1083.0</td>\n",
       "      <td>0.0</td>\n",
       "      <td>333044.0</td>\n",
       "      <td>352334.0</td>\n",
       "      <td>29.0</td>\n",
       "      <td>144867.0</td>\n",
       "      <td>1008.0</td>\n",
       "      <td>0.0</td>\n",
       "      <td>0.0</td>\n",
       "      <td>0.0</td>\n",
       "    </tr>\n",
       "    <tr>\n",
       "      <th>1</th>\n",
       "      <td>0.0</td>\n",
       "      <td>760.0</td>\n",
       "      <td>1.0</td>\n",
       "      <td>12.0</td>\n",
       "      <td>30020.0</td>\n",
       "      <td>0.0</td>\n",
       "      <td>16885.0</td>\n",
       "      <td>3.0</td>\n",
       "      <td>2.0</td>\n",
       "      <td>2.0</td>\n",
       "      <td>...</td>\n",
       "      <td>924.0</td>\n",
       "      <td>0.0</td>\n",
       "      <td>125061.0</td>\n",
       "      <td>262323.0</td>\n",
       "      <td>29.0</td>\n",
       "      <td>30574.0</td>\n",
       "      <td>875.0</td>\n",
       "      <td>0.0</td>\n",
       "      <td>0.0</td>\n",
       "      <td>0.0</td>\n",
       "    </tr>\n",
       "    <tr>\n",
       "      <th>2</th>\n",
       "      <td>0.0</td>\n",
       "      <td>560.0</td>\n",
       "      <td>1.0</td>\n",
       "      <td>19.0</td>\n",
       "      <td>24962.0</td>\n",
       "      <td>0.0</td>\n",
       "      <td>27275.0</td>\n",
       "      <td>1.0</td>\n",
       "      <td>0.0</td>\n",
       "      <td>2.0</td>\n",
       "      <td>...</td>\n",
       "      <td>1188.0</td>\n",
       "      <td>0.0</td>\n",
       "      <td>13020.0</td>\n",
       "      <td>3148.0</td>\n",
       "      <td>5.0</td>\n",
       "      <td>13061.0</td>\n",
       "      <td>744.0</td>\n",
       "      <td>0.0</td>\n",
       "      <td>0.0</td>\n",
       "      <td>0.0</td>\n",
       "    </tr>\n",
       "    <tr>\n",
       "      <th>3</th>\n",
       "      <td>0.0</td>\n",
       "      <td>408.0</td>\n",
       "      <td>0.0</td>\n",
       "      <td>10.0</td>\n",
       "      <td>23288.0</td>\n",
       "      <td>0.0</td>\n",
       "      <td>32096.0</td>\n",
       "      <td>2.0</td>\n",
       "      <td>1.0</td>\n",
       "      <td>2.0</td>\n",
       "      <td>...</td>\n",
       "      <td>713.0</td>\n",
       "      <td>0.0</td>\n",
       "      <td>89648.0</td>\n",
       "      <td>78688.0</td>\n",
       "      <td>23.0</td>\n",
       "      <td>91867.0</td>\n",
       "      <td>435.0</td>\n",
       "      <td>0.0</td>\n",
       "      <td>0.0</td>\n",
       "      <td>0.0</td>\n",
       "    </tr>\n",
       "    <tr>\n",
       "      <th>4</th>\n",
       "      <td>0.0</td>\n",
       "      <td>623.0</td>\n",
       "      <td>0.0</td>\n",
       "      <td>8.0</td>\n",
       "      <td>35716.0</td>\n",
       "      <td>0.0</td>\n",
       "      <td>13341.0</td>\n",
       "      <td>11.0</td>\n",
       "      <td>0.0</td>\n",
       "      <td>2.0</td>\n",
       "      <td>...</td>\n",
       "      <td>325.0</td>\n",
       "      <td>0.0</td>\n",
       "      <td>15830.0</td>\n",
       "      <td>68466.0</td>\n",
       "      <td>13.0</td>\n",
       "      <td>15871.0</td>\n",
       "      <td>4067.0</td>\n",
       "      <td>0.0</td>\n",
       "      <td>0.0</td>\n",
       "      <td>0.0</td>\n",
       "    </tr>\n",
       "    <tr>\n",
       "      <th>5</th>\n",
       "      <td>0.0</td>\n",
       "      <td>1160.0</td>\n",
       "      <td>1.0</td>\n",
       "      <td>18.0</td>\n",
       "      <td>50840.0</td>\n",
       "      <td>0.0</td>\n",
       "      <td>22400.0</td>\n",
       "      <td>7.0</td>\n",
       "      <td>2.0</td>\n",
       "      <td>8.0</td>\n",
       "      <td>...</td>\n",
       "      <td>455.0</td>\n",
       "      <td>0.0</td>\n",
       "      <td>9677.0</td>\n",
       "      <td>15605.0</td>\n",
       "      <td>7.0</td>\n",
       "      <td>9717.0</td>\n",
       "      <td>1424.0</td>\n",
       "      <td>0.0</td>\n",
       "      <td>0.0</td>\n",
       "      <td>0.0</td>\n",
       "    </tr>\n",
       "    <tr>\n",
       "      <th>6</th>\n",
       "      <td>0.0</td>\n",
       "      <td>560.0</td>\n",
       "      <td>0.0</td>\n",
       "      <td>17.0</td>\n",
       "      <td>35958.0</td>\n",
       "      <td>0.0</td>\n",
       "      <td>33120.0</td>\n",
       "      <td>0.0</td>\n",
       "      <td>0.0</td>\n",
       "      <td>10.0</td>\n",
       "      <td>...</td>\n",
       "      <td>536.0</td>\n",
       "      <td>0.0</td>\n",
       "      <td>90505.0</td>\n",
       "      <td>110099.0</td>\n",
       "      <td>21.0</td>\n",
       "      <td>92790.0</td>\n",
       "      <td>232.0</td>\n",
       "      <td>0.0</td>\n",
       "      <td>0.0</td>\n",
       "      <td>0.0</td>\n",
       "    </tr>\n",
       "    <tr>\n",
       "      <th>7</th>\n",
       "      <td>0.0</td>\n",
       "      <td>560.0</td>\n",
       "      <td>0.0</td>\n",
       "      <td>0.0</td>\n",
       "      <td>29280.0</td>\n",
       "      <td>0.0</td>\n",
       "      <td>29364.0</td>\n",
       "      <td>2.0</td>\n",
       "      <td>0.0</td>\n",
       "      <td>1.0</td>\n",
       "      <td>...</td>\n",
       "      <td>689.0</td>\n",
       "      <td>0.0</td>\n",
       "      <td>109098.0</td>\n",
       "      <td>113261.0</td>\n",
       "      <td>22.0</td>\n",
       "      <td>112214.0</td>\n",
       "      <td>1721.0</td>\n",
       "      <td>0.0</td>\n",
       "      <td>0.0</td>\n",
       "      <td>0.0</td>\n",
       "    </tr>\n",
       "    <tr>\n",
       "      <th>8</th>\n",
       "      <td>0.0</td>\n",
       "      <td>361.0</td>\n",
       "      <td>0.0</td>\n",
       "      <td>33.0</td>\n",
       "      <td>26810.0</td>\n",
       "      <td>0.0</td>\n",
       "      <td>25396.0</td>\n",
       "      <td>11.0</td>\n",
       "      <td>0.0</td>\n",
       "      <td>10.0</td>\n",
       "      <td>...</td>\n",
       "      <td>838.0</td>\n",
       "      <td>0.0</td>\n",
       "      <td>40488.0</td>\n",
       "      <td>33881.0</td>\n",
       "      <td>7.0</td>\n",
       "      <td>40537.0</td>\n",
       "      <td>477.0</td>\n",
       "      <td>0.0</td>\n",
       "      <td>0.0</td>\n",
       "      <td>0.0</td>\n",
       "    </tr>\n",
       "    <tr>\n",
       "      <th>9</th>\n",
       "      <td>0.0</td>\n",
       "      <td>80.0</td>\n",
       "      <td>0.0</td>\n",
       "      <td>16.0</td>\n",
       "      <td>4003.0</td>\n",
       "      <td>0.0</td>\n",
       "      <td>3618.0</td>\n",
       "      <td>4.0</td>\n",
       "      <td>2.0</td>\n",
       "      <td>9.0</td>\n",
       "      <td>...</td>\n",
       "      <td>841.0</td>\n",
       "      <td>0.0</td>\n",
       "      <td>7003.0</td>\n",
       "      <td>1999.0</td>\n",
       "      <td>11.0</td>\n",
       "      <td>7043.0</td>\n",
       "      <td>134.0</td>\n",
       "      <td>0.0</td>\n",
       "      <td>0.0</td>\n",
       "      <td>0.0</td>\n",
       "    </tr>\n",
       "  </tbody>\n",
       "</table>\n",
       "<p>10 rows × 41 columns</p>\n",
       "</div>"
      ],
      "text/plain": [
       "   loan_status  loan_amnt  term  sub_grade  installment  issue_d  annual_inc  \\\n",
       "0          1.0     1320.0   1.0       15.0      53744.0      0.0     38792.0   \n",
       "1          0.0      760.0   1.0       12.0      30020.0      0.0     16885.0   \n",
       "2          0.0      560.0   1.0       19.0      24962.0      0.0     27275.0   \n",
       "3          0.0      408.0   0.0       10.0      23288.0      0.0     32096.0   \n",
       "4          0.0      623.0   0.0        8.0      35716.0      0.0     13341.0   \n",
       "5          0.0     1160.0   1.0       18.0      50840.0      0.0     22400.0   \n",
       "6          0.0      560.0   0.0       17.0      35958.0      0.0     33120.0   \n",
       "7          0.0      560.0   0.0        0.0      29280.0      0.0     29364.0   \n",
       "8          0.0      361.0   0.0       33.0      26810.0      0.0     25396.0   \n",
       "9          0.0       80.0   0.0       16.0       4003.0      0.0      3618.0   \n",
       "\n",
       "   emp_length  verification_status  purpose  ...  revol_util  tax_liens  \\\n",
       "0         3.0                  2.0      2.0  ...      1083.0        0.0   \n",
       "1         3.0                  2.0      2.0  ...       924.0        0.0   \n",
       "2         1.0                  0.0      2.0  ...      1188.0        0.0   \n",
       "3         2.0                  1.0      2.0  ...       713.0        0.0   \n",
       "4        11.0                  0.0      2.0  ...       325.0        0.0   \n",
       "5         7.0                  2.0      8.0  ...       455.0        0.0   \n",
       "6         0.0                  0.0     10.0  ...       536.0        0.0   \n",
       "7         2.0                  0.0      1.0  ...       689.0        0.0   \n",
       "8        11.0                  0.0     10.0  ...       838.0        0.0   \n",
       "9         4.0                  2.0      9.0  ...       841.0        0.0   \n",
       "\n",
       "   tot_cur_bal  tot_hi_cred_lim  total_acc  total_bal_ex_mort  total_bc_limit  \\\n",
       "0     333044.0         352334.0       29.0           144867.0          1008.0   \n",
       "1     125061.0         262323.0       29.0            30574.0           875.0   \n",
       "2      13020.0           3148.0        5.0            13061.0           744.0   \n",
       "3      89648.0          78688.0       23.0            91867.0           435.0   \n",
       "4      15830.0          68466.0       13.0            15871.0          4067.0   \n",
       "5       9677.0          15605.0        7.0             9717.0          1424.0   \n",
       "6      90505.0         110099.0       21.0            92790.0           232.0   \n",
       "7     109098.0         113261.0       22.0           112214.0          1721.0   \n",
       "8      40488.0          33881.0        7.0            40537.0           477.0   \n",
       "9       7003.0           1999.0       11.0             7043.0           134.0   \n",
       "\n",
       "   revol_bal_joint  annual_inc_joint  verification_status_joint  \n",
       "0              0.0               0.0                        0.0  \n",
       "1              0.0               0.0                        0.0  \n",
       "2              0.0               0.0                        0.0  \n",
       "3              0.0               0.0                        0.0  \n",
       "4              0.0               0.0                        0.0  \n",
       "5              0.0               0.0                        0.0  \n",
       "6              0.0               0.0                        0.0  \n",
       "7              0.0               0.0                        0.0  \n",
       "8              0.0               0.0                        0.0  \n",
       "9              0.0               0.0                        0.0  \n",
       "\n",
       "[10 rows x 41 columns]"
      ]
     },
     "execution_count": 13,
     "metadata": {},
     "output_type": "execute_result"
    }
   ],
   "source": [
    "# Data cleaning and processing\n",
    "data = data.fillna(0) # Fill na values with 0\n",
    "for i in data.columns:  # Transform non-numeric types to string\n",
    "    if data[i].dtypes == 'object':\n",
    "        data[i] = data[i].astype('str')\n",
    "# Enumerating categorical data\n",
    "encoder = preprocessing.OrdinalEncoder()\n",
    "encoder.fit(data)\n",
    "data_encoded = encoder.transform(data)\n",
    "# Dataframe creation\n",
    "df = pd.DataFrame(data_encoded,columns=data.columns)\n",
    "df = df.drop([\"dti\",\n",
    "              \"dti_joint\",\n",
    "              \"emp_title\",\n",
    "              \"dti_joint.1\",\n",
    "              \"loan_id\",\n",
    "              \"int_rate\",\n",
    "              \"total_pymnt\",\n",
    "              \"total_rec_int\",\n",
    "              \"total_rec_late_fee\",\n",
    "              \"total_rec_prncp\",\n",
    "              \"recoveries\"], axis=1)\n",
    "variables = list(df.columns)\n",
    "variables.remove('loan_status')\n",
    "df.head(10)"
   ]
  },
  {
   "cell_type": "markdown",
   "metadata": {},
   "source": [
    "## Split data"
   ]
  },
  {
   "cell_type": "code",
   "execution_count": 14,
   "metadata": {},
   "outputs": [],
   "source": [
    "# function to plot vizualizations for Cross-validation splits. \n",
    "\n",
    "def plot_cv_indices (cv, X, y, n_splits, lw =10):\n",
    "    fig, ax=plt.subplots(figsize=(15,8))    \n",
    "# Generate the training/testing visualizations for each CV split\n",
    "    for ii, (tr, tt) in enumerate(cv.split(X=X, y=y)):# Fill in indices with the training/test groups\n",
    "        indices = np.array([np.nan]*len(X)) \n",
    "        indices[tt]=1\n",
    "        indices[tr]= 0\n",
    "        # Visualize the results\n",
    "        ax.scatter(range(len(indices)), [ii+.5]*len(indices),c=indices, marker='_', lw=lw, cmap=plt.cm.coolwarm,vmin=-.2, vmax=1.2)\n",
    "        # Plot the data classes\n",
    "    ax.scatter(range(len(X)), [ii+1.5]*len(X), c=y, marker='_', lw=lw,cmap=plt.cm.Paired)\n",
    "    # Formatting\n",
    "    yticklabels=list(range(n_splits))+['Class']\n",
    "    ax.set(yticks=np.arange(n_splits+1) + .5, yticklabels = yticklabels, xlabel='Sample index', ylabel=\"CV iteration\", ylim=[n_splits+2.2,-.2])\n",
    "    ax.set_title('{}'.format(type(cv).__name__), fontsize=15)\n",
    "    return ax\n",
    "\n",
    "def show_images():\n",
    "    plt.gray()\n",
    "    fig, ax=plt.subplots(nrows=2, ncols=5, figsize=(15,10))\n",
    "    ax=ax.flatten()\n",
    "    for index in range(0,10):\n",
    "        ax[index].matshow(datasets.load_digits().images[index])\n"
   ]
  },
  {
   "cell_type": "code",
   "execution_count": 15,
   "metadata": {},
   "outputs": [],
   "source": [
    "X_train, X_test, y_train, y_test = train_test_split(df.drop(['loan_status'], axis=1),\n",
    "                                                    df['loan_status'], test_size=0.3,\n",
    "                                                    random_state=random_state)"
   ]
  },
  {
   "cell_type": "code",
   "execution_count": 16,
   "metadata": {},
   "outputs": [],
   "source": [
    "df = pd.DataFrame(X_train, columns = variables)\n",
    "df['loan_status'] = y_train"
   ]
  },
  {
   "cell_type": "markdown",
   "metadata": {
    "pycharm": {
     "name": "#%% md\n"
    }
   },
   "source": [
    "## Check data balancing"
   ]
  },
  {
   "cell_type": "code",
   "execution_count": 56,
   "metadata": {
    "pycharm": {
     "name": "#%%\n"
    }
   },
   "outputs": [
    {
     "data": {
      "image/png": "[encoded data removed]",
      "text/plain": [
       "<Figure size 1080x720 with 2 Axes>"
      ]
     },
     "metadata": {
      "needs_background": "light"
     },
     "output_type": "display_data"
    }
   ],
   "source": [
    "df_0 = df[df['loan_status']==0]\n",
    "df_1 = df[df['loan_status']==1]\n",
    "\n",
    "# Plot of the outcome variable in both datasets\n",
    "fig, (ax, ax1) = plt.subplots(figsize=(15,10), ncols = 2)\n",
    "df['loan_status'].value_counts().plot(kind='bar', ax=ax, fontsize=14)\n",
    "df_0['loan_status'].value_counts().plot(kind='bar', ax=ax1, fontsize=14)\n",
    "ax.set_ylabel('Observation counts', fontsize=14)\n",
    "ax.set_xlabel('Class', fontsize=14)\n",
    "ax1.set_xlabel('Class', fontsize=14)\n",
    "ax.set_title('Original Dataset', fontsize=16)\n",
    "ax1.set_title('Imbalanced Dataset', fontsize=16)\n",
    "plt.show()"
   ]
  },
  {
   "cell_type": "markdown",
   "metadata": {
    "pycharm": {
     "name": "#%% md\n"
    }
   },
   "source": [
    "Clearly we appreciate a significant imbalance of class 0 with respect to class 1.\n",
    "\n",
    "Thus, we need to balance the data. In class we learned about several methods to balance imbalanced datasets.\n",
    "In this case, we will use smote procedure."
   ]
  },
  {
   "cell_type": "code",
   "execution_count": 57,
   "metadata": {
    "pycharm": {
     "name": "#%%\n"
    }
   },
   "outputs": [],
   "source": [
    "model_imb = LogisticRegression(penalty=\"l1\",\n",
    "                                    solver=\"liblinear\",\n",
    "                                    max_iter=int(1e6),\n",
    "                                    warm_start=True)\n",
    "model_imb.fit(df[variables], df['loan_status'])"
   ]
  },
  {
   "cell_type": "code",
   "execution_count": 77,
   "metadata": {
    "scrolled": true
   },
   "outputs": [
    {
     "name": "stdout",
     "output_type": "stream",
     "text": [
      "Logistic score imbalanced: 0.7243539234467055\n"
     ]
    }
   ],
   "source": [
    "print(f'Logistic score imbalanced: {model_imb.score(X_test, y_test)}')"
   ]
  },
  {
   "cell_type": "markdown",
   "metadata": {
    "pycharm": {
     "name": "#%% md\n"
    }
   },
   "source": [
    "### Confusion matrix"
   ]
  },
  {
   "cell_type": "code",
   "execution_count": 79,
   "metadata": {
    "pycharm": {
     "name": "#%%\n"
    }
   },
   "outputs": [
    {
     "data": {
      "image/png": "[encoded data removed]",
      "text/plain": [
       "<Figure size 432x288 with 2 Axes>"
      ]
     },
     "metadata": {
      "needs_background": "light"
     },
     "output_type": "display_data"
    }
   ],
   "source": [
    "imbalanced_predicted = model_imb.predict(X_test)\n",
    "cf_matrix = confusion_matrix( y_test, imbalanced_predicted)\n",
    "ax = sns.heatmap(cf_matrix, annot=True,cmap='Blues', fmt='g')\n",
    "\n",
    "ax.set_title('Seaborn Confusion Matrix with labels\\n\\n');\n",
    "ax.set_xlabel('\\nPredicted Values')\n",
    "ax.set_ylabel('Actual Values ');\n",
    "\n",
    "## Ticket labels - List must be in alphabetical order\n",
    "ax.xaxis.set_ticklabels(['False','True'])\n",
    "ax.yaxis.set_ticklabels(['False','True'])\n",
    "\n",
    "## Display the visualization of the Confusion Matrix.\n",
    "plt.show()\n",
    "\n"
   ]
  },
  {
   "cell_type": "markdown",
   "metadata": {
    "pycharm": {
     "name": "#%% md\n"
    }
   },
   "source": [
    "### Plot ROC curves"
   ]
  },
  {
   "cell_type": "code",
   "execution_count": 17,
   "metadata": {
    "pycharm": {
     "name": "#%%\n"
    }
   },
   "outputs": [],
   "source": [
    "def plot_roc_precision(model, X_test, y_test):\n",
    "    fig, (ax, ax1) = plt.subplots(ncols=2, figsize=(15,10))\n",
    "    plot_roc_curve(model, X_test, y_test, ax=ax)\n",
    "    plot_precision_recall_curve(model, X_test, y_test, ax=ax1)\n",
    "    ax.set_title('ROC', fontsize=18)\n",
    "    ax1.set_title('Precision Recall', fontsize=18)\n",
    "    ax.legend(fontsize=15)\n",
    "    ax1.legend(fontsize=15)\n",
    "    plt.suptitle('Balanced Dataset', fontsize=20)\n",
    "    plt.show()"
   ]
  },
  {
   "cell_type": "code",
   "execution_count": 81,
   "metadata": {
    "pycharm": {
     "name": "#%%\n"
    }
   },
   "outputs": [
    {
     "name": "stderr",
     "output_type": "stream",
     "text": [
      "/usr/local/lib/python3.9/site-packages/sklearn/utils/deprecation.py:87: FutureWarning: Function plot_roc_curve is deprecated; Function :func:`plot_roc_curve` is deprecated in 1.0 and will be removed in 1.2. Use one of the class methods: :meth:`sklearn.metric.RocCurveDisplay.from_predictions` or :meth:`sklearn.metric.RocCurveDisplay.from_estimator`.\n",
      "  warnings.warn(msg, category=FutureWarning)\n",
      "/usr/local/lib/python3.9/site-packages/sklearn/utils/deprecation.py:87: FutureWarning: Function plot_precision_recall_curve is deprecated; Function `plot_precision_recall_curve` is deprecated in 1.0 and will be removed in 1.2. Use one of the class methods: PrecisionRecallDisplay.from_predictions or PrecisionRecallDisplay.from_estimator.\n",
      "  warnings.warn(msg, category=FutureWarning)\n"
     ]
    },
    {
     "data": {
      "image/png": "[encoded data removed]",
      "text/plain": [
       "<Figure size 1080x720 with 2 Axes>"
      ]
     },
     "metadata": {
      "needs_background": "light"
     },
     "output_type": "display_data"
    }
   ],
   "source": [
    "plot_roc_precision(model_imb,  X_test, y_test)"
   ]
  },
  {
   "cell_type": "markdown",
   "metadata": {
    "pycharm": {
     "name": "#%% md\n"
    }
   },
   "source": [
    "The area under the curve is far from being maximized.\n",
    "\n",
    "### Data balancing with oversampling"
   ]
  },
  {
   "cell_type": "code",
   "execution_count": 61,
   "metadata": {
    "pycharm": {
     "name": "#%%\n"
    }
   },
   "outputs": [],
   "source": [
    "oversampler = imblearn.over_sampling.RandomOverSampler(sampling_strategy='minority')\n",
    "oversample_x, oversample_y = oversampler.fit_resample(df[variables], df['loan_status'])\n",
    "df_oversampled = pd.DataFrame(oversample_x, columns = variables)\n",
    "df_oversampled['loan_status'] = oversample_y"
   ]
  },
  {
   "cell_type": "code",
   "execution_count": 62,
   "metadata": {
    "pycharm": {
     "name": "#%%\n"
    }
   },
   "outputs": [
    {
     "data": {
      "image/png": "[encoded data removed]",
      "text/plain": [
       "<Figure size 1080x720 with 2 Axes>"
      ]
     },
     "metadata": {
      "needs_background": "light"
     },
     "output_type": "display_data"
    }
   ],
   "source": [
    "df_0_under = df_oversampled[df_oversampled['loan_status']==0]\n",
    "df_1_under = df_oversampled[df_oversampled['loan_status']==1]\n",
    "\n",
    "# Plot of the outcome variable in both datasets\n",
    "fig, (ax, ax1) = plt.subplots(figsize=(15,10), ncols = 2)\n",
    "df_oversampled['loan_status'].value_counts().plot(kind='bar', ax=ax, fontsize=14)\n",
    "df_0_under['loan_status'].value_counts().plot(kind='bar', ax=ax1, fontsize=14)\n",
    "ax.set_ylabel('Observation counts', fontsize=14)\n",
    "ax.set_xlabel('Class', fontsize=14)\n",
    "ax1.set_xlabel('Class', fontsize=14)\n",
    "ax.set_title('Original Dataset', fontsize=16)\n",
    "ax1.set_title('Imbalanced Dataset', fontsize=16)\n",
    "plt.show()"
   ]
  },
  {
   "cell_type": "code",
   "execution_count": 63,
   "metadata": {
    "pycharm": {
     "name": "#%%\n"
    }
   },
   "outputs": [],
   "source": [
    "model_balanced = LogisticRegression(penalty=\"l1\",\n",
    "                                    solver=\"liblinear\",\n",
    "                                    max_iter=int(1e6),\n",
    "                                    warm_start=True)\n",
    "model_balanced.fit(df_oversampled[variables], df_oversampled['loan_status'])\n",
    "balanced_predicted = model_balanced.predict(df_oversampled[variables])"
   ]
  },
  {
   "cell_type": "code",
   "execution_count": 83,
   "metadata": {},
   "outputs": [
    {
     "name": "stdout",
     "output_type": "stream",
     "text": [
      "Logistic score oversampled: 0.6533848989771207\n"
     ]
    }
   ],
   "source": [
    "print(f'Logistic score oversampled: {model_balanced.score(X_test, y_test)}')"
   ]
  },
  {
   "cell_type": "code",
   "execution_count": 82,
   "metadata": {
    "pycharm": {
     "name": "#%%\n"
    }
   },
   "outputs": [
    {
     "data": {
      "image/png": "[encoded data removed]",
      "text/plain": [
       "<Figure size 432x288 with 2 Axes>"
      ]
     },
     "metadata": {
      "needs_background": "light"
     },
     "output_type": "display_data"
    }
   ],
   "source": [
    "balanced_predicted = model_balanced.predict(X_test)\n",
    "cf_matrix_balanced = confusion_matrix( y_test, balanced_predicted)\n",
    "ax = sns.heatmap(cf_matrix_balanced, annot=True,cmap='Blues', fmt='g')\n",
    "\n",
    "ax.set_title('Seaborn Confusion Matrix with labels\\n\\n');\n",
    "ax.set_xlabel('\\nPredicted Values')\n",
    "ax.set_ylabel('Actual Values ');\n",
    "\n",
    "## Ticket labels - List must be in alphabetical order\n",
    "ax.xaxis.set_ticklabels(['False','True'])\n",
    "ax.yaxis.set_ticklabels(['False','True'])\n",
    "\n",
    "## Display the visualization of the Confusion Matrix.\n",
    "plt.show()"
   ]
  },
  {
   "cell_type": "code",
   "execution_count": 85,
   "metadata": {
    "pycharm": {
     "name": "#%%\n"
    }
   },
   "outputs": [
    {
     "name": "stderr",
     "output_type": "stream",
     "text": [
      "/usr/local/lib/python3.9/site-packages/sklearn/utils/deprecation.py:87: FutureWarning: Function plot_roc_curve is deprecated; Function :func:`plot_roc_curve` is deprecated in 1.0 and will be removed in 1.2. Use one of the class methods: :meth:`sklearn.metric.RocCurveDisplay.from_predictions` or :meth:`sklearn.metric.RocCurveDisplay.from_estimator`.\n",
      "  warnings.warn(msg, category=FutureWarning)\n",
      "/usr/local/lib/python3.9/site-packages/sklearn/utils/deprecation.py:87: FutureWarning: Function plot_precision_recall_curve is deprecated; Function `plot_precision_recall_curve` is deprecated in 1.0 and will be removed in 1.2. Use one of the class methods: PrecisionRecallDisplay.from_predictions or PrecisionRecallDisplay.from_estimator.\n",
      "  warnings.warn(msg, category=FutureWarning)\n"
     ]
    },
    {
     "data": {
      "image/png": "[encoded data removed]",
      "text/plain": [
       "<Figure size 1080x720 with 2 Axes>"
      ]
     },
     "metadata": {
      "needs_background": "light"
     },
     "output_type": "display_data"
    }
   ],
   "source": [
    "plot_roc_precision(model_imb,  X_test, y_test)"
   ]
  },
  {
   "cell_type": "markdown",
   "metadata": {},
   "source": [
    "Note that the ROC and precission recall curves indicate that oversampoling the dataset does not improve the performance of the model. "
   ]
  },
  {
   "cell_type": "code",
   "execution_count": 20,
   "metadata": {},
   "outputs": [
    {
     "name": "stdout",
     "output_type": "stream",
     "text": [
      "Fitting 3 folds for each of 1 candidates, totalling 3 fits\n",
      "Cross-validation score - LDA: 0.8446447762921423\n",
      "Test score - LDA: 0.845526604603455\n"
     ]
    },
    {
     "data": {
      "image/png": "[encoded data removed]",
      "text/plain": [
       "<Figure size 1080x576 with 1 Axes>"
      ]
     },
     "metadata": {
      "needs_background": "light"
     },
     "output_type": "display_data"
    }
   ],
   "source": [
    "\n",
    "pipeline = imbpipeline(steps = [['smote', SMOTE(random_state=random_state)],\n",
    "                                ['scaler', MinMaxScaler()],\n",
    "                                ['classifier', LinearDiscriminantAnalysis(\n",
    "                                                                    solver=\"svd\",\n",
    "                                                                    ) \n",
    "                                 ]])\n",
    "\n",
    "cv = KFold(n_splits=3, shuffle=True)\n",
    "\n",
    "plot = plot_cv_indices(cv, X_train, y_train, 3)\n",
    "\n",
    "param_grid = {}\n",
    "grid_search = GridSearchCV(estimator=pipeline,\n",
    "                            param_grid=param_grid,\n",
    "                            scoring='average_precision',\n",
    "                            cv=cv,\n",
    "                            verbose=True,\n",
    "                            n_jobs=-1)\n",
    "grid_search.fit(X_train, y_train)\n",
    "grid_search.fit_transform(X_test, y_test)\n",
    "cv_score = grid_search.best_score_\n",
    "LDA_coef = grid_search.best_estimator_[\"classifier\"]\n",
    "test_score = grid_search.score(X_test, y_test)\n",
    "print(f'Cross-validation score - LDA: {cv_score}\\nTest score - LDA: {test_score}')"
   ]
  },
  {
   "cell_type": "code",
   "execution_count": 18,
   "metadata": {
    "pycharm": {
     "name": "#%%\n"
    }
   },
   "outputs": [
    {
     "name": "stdout",
     "output_type": "stream",
     "text": [
      "Fitting 3 folds for each of 1 candidates, totalling 3 fits\n"
     ]
    },
    {
     "name": "stderr",
     "output_type": "stream",
     "text": [
      "C:\\Users\\apurv Khandelwal\\anaconda3\\lib\\site-packages\\sklearn\\model_selection\\_validation.py:372: FitFailedWarning: \n",
      "3 fits failed out of a total of 3.\n",
      "The score on these train-test partitions for these parameters will be set to nan.\n",
      "If these failures are not expected, you can try to debug them by setting error_score='raise'.\n",
      "\n",
      "Below are more details about the failures:\n",
      "--------------------------------------------------------------------------------\n",
      "3 fits failed with the following error:\n",
      "Traceback (most recent call last):\n",
      "  File \"C:\\Users\\apurv Khandelwal\\anaconda3\\lib\\site-packages\\sklearn\\model_selection\\_validation.py\", line 680, in _fit_and_score\n",
      "    estimator.fit(X_train, y_train, **fit_params)\n",
      "  File \"C:\\Users\\apurv Khandelwal\\anaconda3\\lib\\site-packages\\imblearn\\pipeline.py\", line 267, in fit\n",
      "    fit_params_steps = self._check_fit_params(**fit_params)\n",
      "  File \"C:\\Users\\apurv Khandelwal\\anaconda3\\lib\\site-packages\\sklearn\\pipeline.py\", line 297, in _check_fit_params\n",
      "    fit_params_steps = {name: {} for name, step in self.steps if step is not None}\n",
      "  File \"C:\\Users\\apurv Khandelwal\\anaconda3\\lib\\site-packages\\sklearn\\pipeline.py\", line 297, in <dictcomp>\n",
      "    fit_params_steps = {name: {} for name, step in self.steps if step is not None}\n",
      "ValueError: too many values to unpack (expected 2)\n",
      "\n",
      "  warnings.warn(some_fits_failed_message, FitFailedWarning)\n",
      "C:\\Users\\apurv Khandelwal\\anaconda3\\lib\\site-packages\\sklearn\\model_selection\\_search.py:969: UserWarning: One or more of the test scores are non-finite: [nan]\n",
      "  warnings.warn(\n"
     ]
    },
    {
     "ename": "ValueError",
     "evalue": "too many values to unpack (expected 2)",
     "output_type": "error",
     "traceback": [
      "\u001b[1;31m---------------------------------------------------------------------------\u001b[0m",
      "\u001b[1;31mValueError\u001b[0m                                Traceback (most recent call last)",
      "Input \u001b[1;32mIn [18]\u001b[0m, in \u001b[0;36m<cell line: 25>\u001b[1;34m()\u001b[0m\n\u001b[0;32m     18\u001b[0m param_grid \u001b[38;5;241m=\u001b[39m {}\n\u001b[0;32m     19\u001b[0m grid_search \u001b[38;5;241m=\u001b[39m GridSearchCV(estimator\u001b[38;5;241m=\u001b[39mpipeline,\n\u001b[0;32m     20\u001b[0m                             param_grid\u001b[38;5;241m=\u001b[39mparam_grid,\n\u001b[0;32m     21\u001b[0m                             scoring\u001b[38;5;241m=\u001b[39m\u001b[38;5;124m'\u001b[39m\u001b[38;5;124maverage_precision\u001b[39m\u001b[38;5;124m'\u001b[39m,\n\u001b[0;32m     22\u001b[0m                             cv\u001b[38;5;241m=\u001b[39mcv,\n\u001b[0;32m     23\u001b[0m                             verbose\u001b[38;5;241m=\u001b[39m\u001b[38;5;28;01mTrue\u001b[39;00m,\n\u001b[0;32m     24\u001b[0m                             n_jobs\u001b[38;5;241m=\u001b[39m\u001b[38;5;241m-\u001b[39m\u001b[38;5;241m1\u001b[39m)\n\u001b[1;32m---> 25\u001b[0m \u001b[43mgrid_search\u001b[49m\u001b[38;5;241;43m.\u001b[39;49m\u001b[43mfit\u001b[49m\u001b[43m(\u001b[49m\u001b[43mX_train\u001b[49m\u001b[43m,\u001b[49m\u001b[43m \u001b[49m\u001b[43my_train\u001b[49m\u001b[43m)\u001b[49m\n\u001b[0;32m     26\u001b[0m cv_score \u001b[38;5;241m=\u001b[39m grid_search\u001b[38;5;241m.\u001b[39mbest_score_\n\u001b[0;32m     27\u001b[0m test_score \u001b[38;5;241m=\u001b[39m grid_search\u001b[38;5;241m.\u001b[39mscore(X_test, y_test)\n",
      "File \u001b[1;32m~\\anaconda3\\lib\\site-packages\\sklearn\\model_selection\\_search.py:926\u001b[0m, in \u001b[0;36mBaseSearchCV.fit\u001b[1;34m(self, X, y, groups, **fit_params)\u001b[0m\n\u001b[0;32m    924\u001b[0m refit_start_time \u001b[38;5;241m=\u001b[39m time\u001b[38;5;241m.\u001b[39mtime()\n\u001b[0;32m    925\u001b[0m \u001b[38;5;28;01mif\u001b[39;00m y \u001b[38;5;129;01mis\u001b[39;00m \u001b[38;5;129;01mnot\u001b[39;00m \u001b[38;5;28;01mNone\u001b[39;00m:\n\u001b[1;32m--> 926\u001b[0m     \u001b[38;5;28;43mself\u001b[39;49m\u001b[38;5;241;43m.\u001b[39;49m\u001b[43mbest_estimator_\u001b[49m\u001b[38;5;241;43m.\u001b[39;49m\u001b[43mfit\u001b[49m\u001b[43m(\u001b[49m\u001b[43mX\u001b[49m\u001b[43m,\u001b[49m\u001b[43m \u001b[49m\u001b[43my\u001b[49m\u001b[43m,\u001b[49m\u001b[43m \u001b[49m\u001b[38;5;241;43m*\u001b[39;49m\u001b[38;5;241;43m*\u001b[39;49m\u001b[43mfit_params\u001b[49m\u001b[43m)\u001b[49m\n\u001b[0;32m    927\u001b[0m \u001b[38;5;28;01melse\u001b[39;00m:\n\u001b[0;32m    928\u001b[0m     \u001b[38;5;28mself\u001b[39m\u001b[38;5;241m.\u001b[39mbest_estimator_\u001b[38;5;241m.\u001b[39mfit(X, \u001b[38;5;241m*\u001b[39m\u001b[38;5;241m*\u001b[39mfit_params)\n",
      "File \u001b[1;32m~\\anaconda3\\lib\\site-packages\\imblearn\\pipeline.py:267\u001b[0m, in \u001b[0;36mPipeline.fit\u001b[1;34m(self, X, y, **fit_params)\u001b[0m\n\u001b[0;32m    240\u001b[0m \u001b[38;5;28;01mdef\u001b[39;00m \u001b[38;5;21mfit\u001b[39m(\u001b[38;5;28mself\u001b[39m, X, y\u001b[38;5;241m=\u001b[39m\u001b[38;5;28;01mNone\u001b[39;00m, \u001b[38;5;241m*\u001b[39m\u001b[38;5;241m*\u001b[39mfit_params):\n\u001b[0;32m    241\u001b[0m     \u001b[38;5;124;03m\"\"\"Fit the model.\u001b[39;00m\n\u001b[0;32m    242\u001b[0m \n\u001b[0;32m    243\u001b[0m \u001b[38;5;124;03m    Fit all the transforms/samplers one after the other and\u001b[39;00m\n\u001b[1;32m   (...)\u001b[0m\n\u001b[0;32m    265\u001b[0m \u001b[38;5;124;03m        This estimator.\u001b[39;00m\n\u001b[0;32m    266\u001b[0m \u001b[38;5;124;03m    \"\"\"\u001b[39;00m\n\u001b[1;32m--> 267\u001b[0m     fit_params_steps \u001b[38;5;241m=\u001b[39m \u001b[38;5;28;43mself\u001b[39;49m\u001b[38;5;241;43m.\u001b[39;49m\u001b[43m_check_fit_params\u001b[49m\u001b[43m(\u001b[49m\u001b[38;5;241;43m*\u001b[39;49m\u001b[38;5;241;43m*\u001b[39;49m\u001b[43mfit_params\u001b[49m\u001b[43m)\u001b[49m\n\u001b[0;32m    268\u001b[0m     Xt, yt \u001b[38;5;241m=\u001b[39m \u001b[38;5;28mself\u001b[39m\u001b[38;5;241m.\u001b[39m_fit(X, y, \u001b[38;5;241m*\u001b[39m\u001b[38;5;241m*\u001b[39mfit_params_steps)\n\u001b[0;32m    269\u001b[0m     \u001b[38;5;28;01mwith\u001b[39;00m _print_elapsed_time(\u001b[38;5;124m\"\u001b[39m\u001b[38;5;124mPipeline\u001b[39m\u001b[38;5;124m\"\u001b[39m, \u001b[38;5;28mself\u001b[39m\u001b[38;5;241m.\u001b[39m_log_message(\u001b[38;5;28mlen\u001b[39m(\u001b[38;5;28mself\u001b[39m\u001b[38;5;241m.\u001b[39msteps) \u001b[38;5;241m-\u001b[39m \u001b[38;5;241m1\u001b[39m)):\n",
      "File \u001b[1;32m~\\anaconda3\\lib\\site-packages\\sklearn\\pipeline.py:297\u001b[0m, in \u001b[0;36mPipeline._check_fit_params\u001b[1;34m(self, **fit_params)\u001b[0m\n\u001b[0;32m    296\u001b[0m \u001b[38;5;28;01mdef\u001b[39;00m \u001b[38;5;21m_check_fit_params\u001b[39m(\u001b[38;5;28mself\u001b[39m, \u001b[38;5;241m*\u001b[39m\u001b[38;5;241m*\u001b[39mfit_params):\n\u001b[1;32m--> 297\u001b[0m     fit_params_steps \u001b[38;5;241m=\u001b[39m {name: {} \u001b[38;5;28;01mfor\u001b[39;00m name, step \u001b[38;5;129;01min\u001b[39;00m \u001b[38;5;28mself\u001b[39m\u001b[38;5;241m.\u001b[39msteps \u001b[38;5;28;01mif\u001b[39;00m step \u001b[38;5;129;01mis\u001b[39;00m \u001b[38;5;129;01mnot\u001b[39;00m \u001b[38;5;28;01mNone\u001b[39;00m}\n\u001b[0;32m    298\u001b[0m     \u001b[38;5;28;01mfor\u001b[39;00m pname, pval \u001b[38;5;129;01min\u001b[39;00m fit_params\u001b[38;5;241m.\u001b[39mitems():\n\u001b[0;32m    299\u001b[0m         \u001b[38;5;28;01mif\u001b[39;00m \u001b[38;5;124m\"\u001b[39m\u001b[38;5;124m__\u001b[39m\u001b[38;5;124m\"\u001b[39m \u001b[38;5;129;01mnot\u001b[39;00m \u001b[38;5;129;01min\u001b[39;00m pname:\n",
      "File \u001b[1;32m~\\anaconda3\\lib\\site-packages\\sklearn\\pipeline.py:297\u001b[0m, in \u001b[0;36m<dictcomp>\u001b[1;34m(.0)\u001b[0m\n\u001b[0;32m    296\u001b[0m \u001b[38;5;28;01mdef\u001b[39;00m \u001b[38;5;21m_check_fit_params\u001b[39m(\u001b[38;5;28mself\u001b[39m, \u001b[38;5;241m*\u001b[39m\u001b[38;5;241m*\u001b[39mfit_params):\n\u001b[1;32m--> 297\u001b[0m     fit_params_steps \u001b[38;5;241m=\u001b[39m {name: {} \u001b[38;5;28;01mfor\u001b[39;00m name, step \u001b[38;5;129;01min\u001b[39;00m \u001b[38;5;28mself\u001b[39m\u001b[38;5;241m.\u001b[39msteps \u001b[38;5;28;01mif\u001b[39;00m step \u001b[38;5;129;01mis\u001b[39;00m \u001b[38;5;129;01mnot\u001b[39;00m \u001b[38;5;28;01mNone\u001b[39;00m}\n\u001b[0;32m    298\u001b[0m     \u001b[38;5;28;01mfor\u001b[39;00m pname, pval \u001b[38;5;129;01min\u001b[39;00m fit_params\u001b[38;5;241m.\u001b[39mitems():\n\u001b[0;32m    299\u001b[0m         \u001b[38;5;28;01mif\u001b[39;00m \u001b[38;5;124m\"\u001b[39m\u001b[38;5;124m__\u001b[39m\u001b[38;5;124m\"\u001b[39m \u001b[38;5;129;01mnot\u001b[39;00m \u001b[38;5;129;01min\u001b[39;00m pname:\n",
      "\u001b[1;31mValueError\u001b[0m: too many values to unpack (expected 2)"
     ]
    },
    {
     "data": {
      "image/png": "[encoded data removed]",
      "text/plain": [
       "<Figure size 1080x576 with 1 Axes>"
      ]
     },
     "metadata": {
      "needs_background": "light"
     },
     "output_type": "display_data"
    }
   ],
   "source": [
    "# We Create a Pipeline to do three things to the training FOLDS:\n",
    "#1- Apply Smote to it\n",
    "#2- Apply a MinMax Scaler to the data\n",
    "#3- Apply the KNN9rrrrrrrrrrrrrrrrrr\n",
    "\n",
    "pipeline = imbpipeline(steps = [['smote', SMOTE(random_state=random_state)],\n",
    "                                ['scaler', MinMaxScaler()],\n",
    "                                ['classifier', LogisticRegression(penalty=\"l1\",\n",
    "                                                                    solver=\"liblinear\",\n",
    "                                                                    max_iter=int(1e6),\n",
    "                                                                    warm_start=True), \n",
    "                                ]])\n",
    "cv = KFold(n_splits=3, shuffle=True, random_state=random_state)\n",
    "plot = plot_cv_indices(cv, X_train, y_train, 3)\n",
    "\n",
    "param_grid = {'smote__k_neighbors': [1, 2, 3, 4, 5, 10]}\n",
    "grid_search = GridSearchCV(estimator=pipeline,\n",
    "                            param_grid=param_grid,\n",
    "                            scoring='average_precision',\n",
    "                            cv=cv,\n",
    "                            verbose=True,\n",
    "                            n_jobs=-1)\n",
    "grid_search.fit(X_train, y_train)\n",
    "cv_score = grid_search.best_score_\n",
    "test_score = grid_search.score(X_test, y_test)\n",
    "print(f'Cross-validation score - Logistic Regression: {cv_score}\\nTest score - Logistic Regression: {test_score}')"
   ]
  },
  {
   "cell_type": "code",
   "execution_count": 53,
   "metadata": {},
   "outputs": [
    {
     "name": "stdout",
     "output_type": "stream",
     "text": [
      "SMOTE(k_neighbors=1, random_state=809)\n",
      "0.6532258647486174\n",
      "0.7243719955181263\n"
     ]
    }
   ],
   "source": [
    "# Retreive best model \n",
    "optimal_logistic = grid_search.best_estimator_[\"classifier\"]\n",
    "print(grid_search.best_estimator_[\"smote\"])\n",
    "print(model_imb.score(X_test, y_test))"
   ]
  },
  {
   "cell_type": "code",
   "execution_count": 9,
   "metadata": {},
   "outputs": [
    {
     "data": {
      "text/plain": [
       "array([-2.96657097e-01, -5.86283800e-01, -2.80318795e+00, -5.96372051e-01,\n",
       "        2.09761240e-02,  4.28770477e-01,  8.11435062e-02, -5.56734067e-02,\n",
       "       -9.66676312e-02, -3.13927130e-01,  5.38974095e-02,  7.69917397e-02,\n",
       "        4.13221431e-01, -8.71408228e-01, -5.52185128e-01, -1.72769318e-02,\n",
       "       -6.60234757e-01,  1.86404027e+00, -1.07455530e+00,  1.06912298e-01,\n",
       "       -2.62326423e+00, -5.76274957e-01, -1.44607109e+00, -2.87884080e+00,\n",
       "       -1.16074675e+00,  9.49736408e-02, -4.67916074e-02, -7.05135119e-01,\n",
       "       -3.59766009e-01,  3.48769575e-01,  8.27025941e-02,  0.00000000e+00,\n",
       "       -4.51029412e-01,  4.52459381e-01,  2.63046396e+00, -9.95951162e-02,\n",
       "        9.62728684e-01, -5.92317509e-01,  7.25475238e-01,  1.18562413e-03])"
      ]
     },
     "execution_count": 9,
     "metadata": {},
     "output_type": "execute_result"
    }
   ],
   "source": [
    "grid_search.best_estimator_[\"classifier\"].coef_[0]"
   ]
  },
  {
   "cell_type": "code",
   "execution_count": 10,
   "metadata": {
    "scrolled": true
   },
   "outputs": [
    {
     "data": {
      "text/plain": [
       "['logistic_forest.joblib']"
      ]
     },
     "execution_count": 10,
     "metadata": {},
     "output_type": "execute_result"
    }
   ],
   "source": [
    "dump(grid_search, 'logistic_forest.joblib') "
   ]
  },
  {
   "cell_type": "markdown",
   "metadata": {},
   "source": [
    "Let's see the effect of smote in the training set:"
   ]
  },
  {
   "cell_type": "markdown",
   "metadata": {},
   "source": [
    "### Logistic coefficients"
   ]
  },
  {
   "cell_type": "code",
   "execution_count": 11,
   "metadata": {},
   "outputs": [
    {
     "data": {
      "text/html": [
       "<div>\n",
       "<style scoped>\n",
       "    .dataframe tbody tr th:only-of-type {\n",
       "        vertical-align: middle;\n",
       "    }\n",
       "\n",
       "    .dataframe tbody tr th {\n",
       "        vertical-align: top;\n",
       "    }\n",
       "\n",
       "    .dataframe thead th {\n",
       "        text-align: right;\n",
       "    }\n",
       "</style>\n",
       "<table border=\"1\" class=\"dataframe\">\n",
       "  <thead>\n",
       "    <tr style=\"text-align: right;\">\n",
       "      <th></th>\n",
       "      <th>Predictor</th>\n",
       "      <th>Logistic COEF</th>\n",
       "    </tr>\n",
       "  </thead>\n",
       "  <tbody>\n",
       "    <tr>\n",
       "      <th>0</th>\n",
       "      <td>loan_amnt</td>\n",
       "      <td>-0.30</td>\n",
       "    </tr>\n",
       "    <tr>\n",
       "      <th>1</th>\n",
       "      <td>term</td>\n",
       "      <td>-0.59</td>\n",
       "    </tr>\n",
       "    <tr>\n",
       "      <th>2</th>\n",
       "      <td>sub_grade</td>\n",
       "      <td>-2.80</td>\n",
       "    </tr>\n",
       "    <tr>\n",
       "      <th>3</th>\n",
       "      <td>installment</td>\n",
       "      <td>-0.60</td>\n",
       "    </tr>\n",
       "    <tr>\n",
       "      <th>4</th>\n",
       "      <td>issue_d</td>\n",
       "      <td>0.02</td>\n",
       "    </tr>\n",
       "    <tr>\n",
       "      <th>5</th>\n",
       "      <td>annual_inc</td>\n",
       "      <td>0.43</td>\n",
       "    </tr>\n",
       "    <tr>\n",
       "      <th>6</th>\n",
       "      <td>emp_length</td>\n",
       "      <td>0.08</td>\n",
       "    </tr>\n",
       "    <tr>\n",
       "      <th>7</th>\n",
       "      <td>verification_status</td>\n",
       "      <td>-0.06</td>\n",
       "    </tr>\n",
       "    <tr>\n",
       "      <th>8</th>\n",
       "      <td>purpose</td>\n",
       "      <td>-0.10</td>\n",
       "    </tr>\n",
       "    <tr>\n",
       "      <th>9</th>\n",
       "      <td>home_ownership</td>\n",
       "      <td>-0.31</td>\n",
       "    </tr>\n",
       "    <tr>\n",
       "      <th>10</th>\n",
       "      <td>addr_state</td>\n",
       "      <td>0.05</td>\n",
       "    </tr>\n",
       "    <tr>\n",
       "      <th>11</th>\n",
       "      <td>zip_code</td>\n",
       "      <td>0.08</td>\n",
       "    </tr>\n",
       "    <tr>\n",
       "      <th>12</th>\n",
       "      <td>avg_cur_bal</td>\n",
       "      <td>0.41</td>\n",
       "    </tr>\n",
       "    <tr>\n",
       "      <th>13</th>\n",
       "      <td>delinq_2yrs</td>\n",
       "      <td>-0.87</td>\n",
       "    </tr>\n",
       "    <tr>\n",
       "      <th>14</th>\n",
       "      <td>delinq_amnt</td>\n",
       "      <td>-0.55</td>\n",
       "    </tr>\n",
       "    <tr>\n",
       "      <th>15</th>\n",
       "      <td>earliest_cr_line</td>\n",
       "      <td>-0.02</td>\n",
       "    </tr>\n",
       "    <tr>\n",
       "      <th>16</th>\n",
       "      <td>inq_last_6mths</td>\n",
       "      <td>-0.66</td>\n",
       "    </tr>\n",
       "    <tr>\n",
       "      <th>17</th>\n",
       "      <td>open_acc</td>\n",
       "      <td>1.86</td>\n",
       "    </tr>\n",
       "    <tr>\n",
       "      <th>18</th>\n",
       "      <td>open_il_12m</td>\n",
       "      <td>-1.07</td>\n",
       "    </tr>\n",
       "    <tr>\n",
       "      <th>19</th>\n",
       "      <td>num_accts_ever_120_pd</td>\n",
       "      <td>0.11</td>\n",
       "    </tr>\n",
       "    <tr>\n",
       "      <th>20</th>\n",
       "      <td>num_actv_bc_tl</td>\n",
       "      <td>-2.62</td>\n",
       "    </tr>\n",
       "    <tr>\n",
       "      <th>21</th>\n",
       "      <td>num_bc_tl</td>\n",
       "      <td>-0.58</td>\n",
       "    </tr>\n",
       "    <tr>\n",
       "      <th>22</th>\n",
       "      <td>num_il_tl</td>\n",
       "      <td>-1.45</td>\n",
       "    </tr>\n",
       "    <tr>\n",
       "      <th>23</th>\n",
       "      <td>num_op_rev_tl</td>\n",
       "      <td>-2.88</td>\n",
       "    </tr>\n",
       "    <tr>\n",
       "      <th>24</th>\n",
       "      <td>num_rev_accts</td>\n",
       "      <td>-1.16</td>\n",
       "    </tr>\n",
       "    <tr>\n",
       "      <th>25</th>\n",
       "      <td>num_tl_90g_dpd_24m</td>\n",
       "      <td>0.09</td>\n",
       "    </tr>\n",
       "    <tr>\n",
       "      <th>26</th>\n",
       "      <td>percent_bc_gt_75</td>\n",
       "      <td>-0.05</td>\n",
       "    </tr>\n",
       "    <tr>\n",
       "      <th>27</th>\n",
       "      <td>pub_rec</td>\n",
       "      <td>-0.71</td>\n",
       "    </tr>\n",
       "    <tr>\n",
       "      <th>28</th>\n",
       "      <td>pub_rec_bankruptcies</td>\n",
       "      <td>-0.36</td>\n",
       "    </tr>\n",
       "    <tr>\n",
       "      <th>29</th>\n",
       "      <td>revol_bal</td>\n",
       "      <td>0.35</td>\n",
       "    </tr>\n",
       "    <tr>\n",
       "      <th>30</th>\n",
       "      <td>revol_util</td>\n",
       "      <td>0.08</td>\n",
       "    </tr>\n",
       "    <tr>\n",
       "      <th>31</th>\n",
       "      <td>tax_liens</td>\n",
       "      <td>0.00</td>\n",
       "    </tr>\n",
       "    <tr>\n",
       "      <th>32</th>\n",
       "      <td>tot_cur_bal</td>\n",
       "      <td>-0.45</td>\n",
       "    </tr>\n",
       "    <tr>\n",
       "      <th>33</th>\n",
       "      <td>tot_hi_cred_lim</td>\n",
       "      <td>0.45</td>\n",
       "    </tr>\n",
       "    <tr>\n",
       "      <th>34</th>\n",
       "      <td>total_acc</td>\n",
       "      <td>2.63</td>\n",
       "    </tr>\n",
       "    <tr>\n",
       "      <th>35</th>\n",
       "      <td>total_bal_ex_mort</td>\n",
       "      <td>-0.10</td>\n",
       "    </tr>\n",
       "    <tr>\n",
       "      <th>36</th>\n",
       "      <td>total_bc_limit</td>\n",
       "      <td>0.96</td>\n",
       "    </tr>\n",
       "    <tr>\n",
       "      <th>37</th>\n",
       "      <td>revol_bal_joint</td>\n",
       "      <td>-0.59</td>\n",
       "    </tr>\n",
       "    <tr>\n",
       "      <th>38</th>\n",
       "      <td>annual_inc_joint</td>\n",
       "      <td>0.73</td>\n",
       "    </tr>\n",
       "    <tr>\n",
       "      <th>39</th>\n",
       "      <td>verification_status_joint</td>\n",
       "      <td>0.00</td>\n",
       "    </tr>\n",
       "  </tbody>\n",
       "</table>\n",
       "</div>"
      ],
      "text/plain": [
       "                    Predictor  Logistic COEF\n",
       "0                   loan_amnt          -0.30\n",
       "1                        term          -0.59\n",
       "2                   sub_grade          -2.80\n",
       "3                 installment          -0.60\n",
       "4                     issue_d           0.02\n",
       "5                  annual_inc           0.43\n",
       "6                  emp_length           0.08\n",
       "7         verification_status          -0.06\n",
       "8                     purpose          -0.10\n",
       "9              home_ownership          -0.31\n",
       "10                 addr_state           0.05\n",
       "11                   zip_code           0.08\n",
       "12                avg_cur_bal           0.41\n",
       "13                delinq_2yrs          -0.87\n",
       "14                delinq_amnt          -0.55\n",
       "15           earliest_cr_line          -0.02\n",
       "16             inq_last_6mths          -0.66\n",
       "17                   open_acc           1.86\n",
       "18                open_il_12m          -1.07\n",
       "19      num_accts_ever_120_pd           0.11\n",
       "20             num_actv_bc_tl          -2.62\n",
       "21                  num_bc_tl          -0.58\n",
       "22                  num_il_tl          -1.45\n",
       "23              num_op_rev_tl          -2.88\n",
       "24              num_rev_accts          -1.16\n",
       "25         num_tl_90g_dpd_24m           0.09\n",
       "26           percent_bc_gt_75          -0.05\n",
       "27                    pub_rec          -0.71\n",
       "28       pub_rec_bankruptcies          -0.36\n",
       "29                  revol_bal           0.35\n",
       "30                 revol_util           0.08\n",
       "31                  tax_liens           0.00\n",
       "32                tot_cur_bal          -0.45\n",
       "33            tot_hi_cred_lim           0.45\n",
       "34                  total_acc           2.63\n",
       "35          total_bal_ex_mort          -0.10\n",
       "36             total_bc_limit           0.96\n",
       "37            revol_bal_joint          -0.59\n",
       "38           annual_inc_joint           0.73\n",
       "39  verification_status_joint           0.00"
      ]
     },
     "execution_count": 11,
     "metadata": {},
     "output_type": "execute_result"
    }
   ],
   "source": [
    "list_tuples = list(zip(variables, np.round(optimal_logistic.coef_[0], 2), np.round(LDA_coef.coef_[0], 2) ))\n",
    "coef_df = pd.DataFrame(list_tuples, columns =['Predictor', 'Logistic COEF', 'LDA COEF'])\n",
    "coef_df"
   ]
  },
  {
   "cell_type": "markdown",
   "metadata": {},
   "source": [
    "### Omitted predictors by Logistic model\n",
    "\n",
    "Note that we are using l1 norm as penalty in the logistic model. Therefore, the shrinkage is performed, allogwing variable selection."
   ]
  },
  {
   "cell_type": "code",
   "execution_count": 4,
   "metadata": {},
   "outputs": [
    {
     "data": {
      "text/html": [
       "<div>\n",
       "<style scoped>\n",
       "    .dataframe tbody tr th:only-of-type {\n",
       "        vertical-align: middle;\n",
       "    }\n",
       "\n",
       "    .dataframe tbody tr th {\n",
       "        vertical-align: top;\n",
       "    }\n",
       "\n",
       "    .dataframe thead th {\n",
       "        text-align: right;\n",
       "    }\n",
       "</style>\n",
       "<table border=\"1\" class=\"dataframe\">\n",
       "  <thead>\n",
       "    <tr style=\"text-align: right;\">\n",
       "      <th></th>\n",
       "      <th>Predictor</th>\n",
       "      <th>Logistic COEF</th>\n",
       "    </tr>\n",
       "  </thead>\n",
       "  <tbody>\n",
       "    <tr>\n",
       "      <th>31</th>\n",
       "      <td>tax_liens</td>\n",
       "      <td>0.0</td>\n",
       "    </tr>\n",
       "    <tr>\n",
       "      <th>39</th>\n",
       "      <td>verification_status_joint</td>\n",
       "      <td>0.0</td>\n",
       "    </tr>\n",
       "  </tbody>\n",
       "</table>\n",
       "</div>"
      ],
      "text/plain": [
       "                    Predictor  Logistic COEF\n",
       "31                  tax_liens            0.0\n",
       "39  verification_status_joint            0.0"
      ]
     },
     "execution_count": 4,
     "metadata": {},
     "output_type": "execute_result"
    }
   ],
   "source": [
    "# Omitted\n",
    "coef_df[coef_df['Logistic COEF'] == 0]"
   ]
  },
  {
   "cell_type": "markdown",
   "metadata": {},
   "source": [
    "### Selected predictors by Logistic model"
   ]
  },
  {
   "cell_type": "code",
   "execution_count": 13,
   "metadata": {},
   "outputs": [
    {
     "data": {
      "text/html": [
       "<div>\n",
       "<style scoped>\n",
       "    .dataframe tbody tr th:only-of-type {\n",
       "        vertical-align: middle;\n",
       "    }\n",
       "\n",
       "    .dataframe tbody tr th {\n",
       "        vertical-align: top;\n",
       "    }\n",
       "\n",
       "    .dataframe thead th {\n",
       "        text-align: right;\n",
       "    }\n",
       "</style>\n",
       "<table border=\"1\" class=\"dataframe\">\n",
       "  <thead>\n",
       "    <tr style=\"text-align: right;\">\n",
       "      <th></th>\n",
       "      <th>Predictor</th>\n",
       "      <th>Logistic COEF</th>\n",
       "    </tr>\n",
       "  </thead>\n",
       "  <tbody>\n",
       "    <tr>\n",
       "      <th>0</th>\n",
       "      <td>loan_amnt</td>\n",
       "      <td>-0.30</td>\n",
       "    </tr>\n",
       "    <tr>\n",
       "      <th>1</th>\n",
       "      <td>term</td>\n",
       "      <td>-0.59</td>\n",
       "    </tr>\n",
       "    <tr>\n",
       "      <th>2</th>\n",
       "      <td>sub_grade</td>\n",
       "      <td>-2.80</td>\n",
       "    </tr>\n",
       "    <tr>\n",
       "      <th>3</th>\n",
       "      <td>installment</td>\n",
       "      <td>-0.60</td>\n",
       "    </tr>\n",
       "    <tr>\n",
       "      <th>4</th>\n",
       "      <td>issue_d</td>\n",
       "      <td>0.02</td>\n",
       "    </tr>\n",
       "    <tr>\n",
       "      <th>5</th>\n",
       "      <td>annual_inc</td>\n",
       "      <td>0.43</td>\n",
       "    </tr>\n",
       "    <tr>\n",
       "      <th>6</th>\n",
       "      <td>emp_length</td>\n",
       "      <td>0.08</td>\n",
       "    </tr>\n",
       "    <tr>\n",
       "      <th>7</th>\n",
       "      <td>verification_status</td>\n",
       "      <td>-0.06</td>\n",
       "    </tr>\n",
       "    <tr>\n",
       "      <th>8</th>\n",
       "      <td>purpose</td>\n",
       "      <td>-0.10</td>\n",
       "    </tr>\n",
       "    <tr>\n",
       "      <th>9</th>\n",
       "      <td>home_ownership</td>\n",
       "      <td>-0.31</td>\n",
       "    </tr>\n",
       "    <tr>\n",
       "      <th>10</th>\n",
       "      <td>addr_state</td>\n",
       "      <td>0.05</td>\n",
       "    </tr>\n",
       "    <tr>\n",
       "      <th>11</th>\n",
       "      <td>zip_code</td>\n",
       "      <td>0.08</td>\n",
       "    </tr>\n",
       "    <tr>\n",
       "      <th>12</th>\n",
       "      <td>avg_cur_bal</td>\n",
       "      <td>0.41</td>\n",
       "    </tr>\n",
       "    <tr>\n",
       "      <th>13</th>\n",
       "      <td>delinq_2yrs</td>\n",
       "      <td>-0.87</td>\n",
       "    </tr>\n",
       "    <tr>\n",
       "      <th>14</th>\n",
       "      <td>delinq_amnt</td>\n",
       "      <td>-0.55</td>\n",
       "    </tr>\n",
       "    <tr>\n",
       "      <th>15</th>\n",
       "      <td>earliest_cr_line</td>\n",
       "      <td>-0.02</td>\n",
       "    </tr>\n",
       "    <tr>\n",
       "      <th>16</th>\n",
       "      <td>inq_last_6mths</td>\n",
       "      <td>-0.66</td>\n",
       "    </tr>\n",
       "    <tr>\n",
       "      <th>17</th>\n",
       "      <td>open_acc</td>\n",
       "      <td>1.86</td>\n",
       "    </tr>\n",
       "    <tr>\n",
       "      <th>18</th>\n",
       "      <td>open_il_12m</td>\n",
       "      <td>-1.07</td>\n",
       "    </tr>\n",
       "    <tr>\n",
       "      <th>19</th>\n",
       "      <td>num_accts_ever_120_pd</td>\n",
       "      <td>0.11</td>\n",
       "    </tr>\n",
       "    <tr>\n",
       "      <th>20</th>\n",
       "      <td>num_actv_bc_tl</td>\n",
       "      <td>-2.62</td>\n",
       "    </tr>\n",
       "    <tr>\n",
       "      <th>21</th>\n",
       "      <td>num_bc_tl</td>\n",
       "      <td>-0.58</td>\n",
       "    </tr>\n",
       "    <tr>\n",
       "      <th>22</th>\n",
       "      <td>num_il_tl</td>\n",
       "      <td>-1.45</td>\n",
       "    </tr>\n",
       "    <tr>\n",
       "      <th>23</th>\n",
       "      <td>num_op_rev_tl</td>\n",
       "      <td>-2.88</td>\n",
       "    </tr>\n",
       "    <tr>\n",
       "      <th>24</th>\n",
       "      <td>num_rev_accts</td>\n",
       "      <td>-1.16</td>\n",
       "    </tr>\n",
       "    <tr>\n",
       "      <th>25</th>\n",
       "      <td>num_tl_90g_dpd_24m</td>\n",
       "      <td>0.09</td>\n",
       "    </tr>\n",
       "    <tr>\n",
       "      <th>26</th>\n",
       "      <td>percent_bc_gt_75</td>\n",
       "      <td>-0.05</td>\n",
       "    </tr>\n",
       "    <tr>\n",
       "      <th>27</th>\n",
       "      <td>pub_rec</td>\n",
       "      <td>-0.71</td>\n",
       "    </tr>\n",
       "    <tr>\n",
       "      <th>28</th>\n",
       "      <td>pub_rec_bankruptcies</td>\n",
       "      <td>-0.36</td>\n",
       "    </tr>\n",
       "    <tr>\n",
       "      <th>29</th>\n",
       "      <td>revol_bal</td>\n",
       "      <td>0.35</td>\n",
       "    </tr>\n",
       "    <tr>\n",
       "      <th>30</th>\n",
       "      <td>revol_util</td>\n",
       "      <td>0.08</td>\n",
       "    </tr>\n",
       "    <tr>\n",
       "      <th>32</th>\n",
       "      <td>tot_cur_bal</td>\n",
       "      <td>-0.45</td>\n",
       "    </tr>\n",
       "    <tr>\n",
       "      <th>33</th>\n",
       "      <td>tot_hi_cred_lim</td>\n",
       "      <td>0.45</td>\n",
       "    </tr>\n",
       "    <tr>\n",
       "      <th>34</th>\n",
       "      <td>total_acc</td>\n",
       "      <td>2.63</td>\n",
       "    </tr>\n",
       "    <tr>\n",
       "      <th>35</th>\n",
       "      <td>total_bal_ex_mort</td>\n",
       "      <td>-0.10</td>\n",
       "    </tr>\n",
       "    <tr>\n",
       "      <th>36</th>\n",
       "      <td>total_bc_limit</td>\n",
       "      <td>0.96</td>\n",
       "    </tr>\n",
       "    <tr>\n",
       "      <th>37</th>\n",
       "      <td>revol_bal_joint</td>\n",
       "      <td>-0.59</td>\n",
       "    </tr>\n",
       "    <tr>\n",
       "      <th>38</th>\n",
       "      <td>annual_inc_joint</td>\n",
       "      <td>0.73</td>\n",
       "    </tr>\n",
       "  </tbody>\n",
       "</table>\n",
       "</div>"
      ],
      "text/plain": [
       "                Predictor  Logistic COEF\n",
       "0               loan_amnt          -0.30\n",
       "1                    term          -0.59\n",
       "2               sub_grade          -2.80\n",
       "3             installment          -0.60\n",
       "4                 issue_d           0.02\n",
       "5              annual_inc           0.43\n",
       "6              emp_length           0.08\n",
       "7     verification_status          -0.06\n",
       "8                 purpose          -0.10\n",
       "9          home_ownership          -0.31\n",
       "10             addr_state           0.05\n",
       "11               zip_code           0.08\n",
       "12            avg_cur_bal           0.41\n",
       "13            delinq_2yrs          -0.87\n",
       "14            delinq_amnt          -0.55\n",
       "15       earliest_cr_line          -0.02\n",
       "16         inq_last_6mths          -0.66\n",
       "17               open_acc           1.86\n",
       "18            open_il_12m          -1.07\n",
       "19  num_accts_ever_120_pd           0.11\n",
       "20         num_actv_bc_tl          -2.62\n",
       "21              num_bc_tl          -0.58\n",
       "22              num_il_tl          -1.45\n",
       "23          num_op_rev_tl          -2.88\n",
       "24          num_rev_accts          -1.16\n",
       "25     num_tl_90g_dpd_24m           0.09\n",
       "26       percent_bc_gt_75          -0.05\n",
       "27                pub_rec          -0.71\n",
       "28   pub_rec_bankruptcies          -0.36\n",
       "29              revol_bal           0.35\n",
       "30             revol_util           0.08\n",
       "32            tot_cur_bal          -0.45\n",
       "33        tot_hi_cred_lim           0.45\n",
       "34              total_acc           2.63\n",
       "35      total_bal_ex_mort          -0.10\n",
       "36         total_bc_limit           0.96\n",
       "37        revol_bal_joint          -0.59\n",
       "38       annual_inc_joint           0.73"
      ]
     },
     "execution_count": 13,
     "metadata": {},
     "output_type": "execute_result"
    }
   ],
   "source": [
    "# Selected\n",
    "coef_df[coef_df['Logistic COEF'] != 0]"
   ]
  },
  {
   "cell_type": "markdown",
   "metadata": {},
   "source": [
    "### Retrieve oversampled dataset "
   ]
  },
  {
   "cell_type": "code",
   "execution_count": 86,
   "metadata": {},
   "outputs": [],
   "source": [
    "smote_oversampler = grid_search.best_estimator_[\"smote\"]\n",
    "smote_x, smote_y = smote_oversampler.fit_resample(df.drop(['loan_status'], axis=1), df['loan_status'])"
   ]
  },
  {
   "cell_type": "code",
   "execution_count": 87,
   "metadata": {},
   "outputs": [
    {
     "data": {
      "image/png": "[encoded data removed]",
      "text/plain": [
       "<Figure size 720x576 with 1 Axes>"
      ]
     },
     "metadata": {
      "needs_background": "light"
     },
     "output_type": "display_data"
    }
   ],
   "source": [
    "df_smote = pd.DataFrame(smote_x, columns = variables)\n",
    "df_smote['loan_status'] = smote_y\n",
    "fig, ax = plt.subplots(figsize=(10, 8))\n",
    "df_smote['loan_status'].value_counts().plot(kind='bar', ax=ax, fontsize=14)\n",
    "ax.set_title('SMOTE Dataset', fontsize=16)\n",
    "ax.set_ylabel('Observation counts', fontsize=14)\n",
    "ax.set_xlabel('Class', fontsize=14)\n",
    "plt.show()"
   ]
  },
  {
   "cell_type": "code",
   "execution_count": 98,
   "metadata": {},
   "outputs": [
    {
     "data": {
      "text/html": [
       "<div>\n",
       "<style scoped>\n",
       "    .dataframe tbody tr th:only-of-type {\n",
       "        vertical-align: middle;\n",
       "    }\n",
       "\n",
       "    .dataframe tbody tr th {\n",
       "        vertical-align: top;\n",
       "    }\n",
       "\n",
       "    .dataframe thead th {\n",
       "        text-align: right;\n",
       "    }\n",
       "</style>\n",
       "<table border=\"1\" class=\"dataframe\">\n",
       "  <thead>\n",
       "    <tr style=\"text-align: right;\">\n",
       "      <th></th>\n",
       "      <th>loan_amnt</th>\n",
       "      <th>term</th>\n",
       "      <th>sub_grade</th>\n",
       "      <th>installment</th>\n",
       "      <th>issue_d</th>\n",
       "      <th>annual_inc</th>\n",
       "      <th>emp_length</th>\n",
       "      <th>verification_status</th>\n",
       "      <th>purpose</th>\n",
       "      <th>home_ownership</th>\n",
       "      <th>...</th>\n",
       "      <th>revol_util</th>\n",
       "      <th>tax_liens</th>\n",
       "      <th>tot_cur_bal</th>\n",
       "      <th>tot_hi_cred_lim</th>\n",
       "      <th>total_acc</th>\n",
       "      <th>total_bal_ex_mort</th>\n",
       "      <th>total_bc_limit</th>\n",
       "      <th>revol_bal_joint</th>\n",
       "      <th>annual_inc_joint</th>\n",
       "      <th>verification_status_joint</th>\n",
       "    </tr>\n",
       "  </thead>\n",
       "  <tbody>\n",
       "    <tr>\n",
       "      <th>276768</th>\n",
       "      <td>0.115385</td>\n",
       "      <td>0.0</td>\n",
       "      <td>0.117647</td>\n",
       "      <td>0.120181</td>\n",
       "      <td>0.278689</td>\n",
       "      <td>0.050583</td>\n",
       "      <td>0.000000</td>\n",
       "      <td>1.0</td>\n",
       "      <td>0.250000</td>\n",
       "      <td>0.75</td>\n",
       "      <td>...</td>\n",
       "      <td>0.409579</td>\n",
       "      <td>0.0</td>\n",
       "      <td>0.002377</td>\n",
       "      <td>0.000114</td>\n",
       "      <td>0.110294</td>\n",
       "      <td>0.005003</td>\n",
       "      <td>0.009960</td>\n",
       "      <td>0.000000</td>\n",
       "      <td>0.000000</td>\n",
       "      <td>0.000000</td>\n",
       "    </tr>\n",
       "    <tr>\n",
       "      <th>544949</th>\n",
       "      <td>0.451282</td>\n",
       "      <td>0.0</td>\n",
       "      <td>0.441176</td>\n",
       "      <td>0.641604</td>\n",
       "      <td>0.606557</td>\n",
       "      <td>0.567060</td>\n",
       "      <td>0.090909</td>\n",
       "      <td>0.5</td>\n",
       "      <td>0.166667</td>\n",
       "      <td>0.25</td>\n",
       "      <td>...</td>\n",
       "      <td>0.766309</td>\n",
       "      <td>0.0</td>\n",
       "      <td>0.817756</td>\n",
       "      <td>0.771460</td>\n",
       "      <td>0.169118</td>\n",
       "      <td>0.329526</td>\n",
       "      <td>0.036976</td>\n",
       "      <td>0.000000</td>\n",
       "      <td>0.000000</td>\n",
       "      <td>0.000000</td>\n",
       "    </tr>\n",
       "    <tr>\n",
       "      <th>901970</th>\n",
       "      <td>0.487179</td>\n",
       "      <td>1.0</td>\n",
       "      <td>0.735294</td>\n",
       "      <td>0.617923</td>\n",
       "      <td>0.967213</td>\n",
       "      <td>0.180544</td>\n",
       "      <td>1.000000</td>\n",
       "      <td>0.0</td>\n",
       "      <td>0.666667</td>\n",
       "      <td>1.00</td>\n",
       "      <td>...</td>\n",
       "      <td>0.354253</td>\n",
       "      <td>0.0</td>\n",
       "      <td>0.013091</td>\n",
       "      <td>0.005911</td>\n",
       "      <td>0.095588</td>\n",
       "      <td>0.027289</td>\n",
       "      <td>0.065084</td>\n",
       "      <td>0.000000</td>\n",
       "      <td>0.000000</td>\n",
       "      <td>0.000000</td>\n",
       "    </tr>\n",
       "    <tr>\n",
       "      <th>675169</th>\n",
       "      <td>0.512821</td>\n",
       "      <td>1.0</td>\n",
       "      <td>0.352941</td>\n",
       "      <td>0.477004</td>\n",
       "      <td>0.721311</td>\n",
       "      <td>0.729828</td>\n",
       "      <td>0.363636</td>\n",
       "      <td>0.5</td>\n",
       "      <td>0.166667</td>\n",
       "      <td>1.00</td>\n",
       "      <td>...</td>\n",
       "      <td>0.868704</td>\n",
       "      <td>0.0</td>\n",
       "      <td>0.166370</td>\n",
       "      <td>0.146478</td>\n",
       "      <td>0.051471</td>\n",
       "      <td>0.345346</td>\n",
       "      <td>0.360486</td>\n",
       "      <td>0.000000</td>\n",
       "      <td>0.000000</td>\n",
       "      <td>0.000000</td>\n",
       "    </tr>\n",
       "    <tr>\n",
       "      <th>448234</th>\n",
       "      <td>1.000000</td>\n",
       "      <td>1.0</td>\n",
       "      <td>0.294118</td>\n",
       "      <td>0.860551</td>\n",
       "      <td>0.491803</td>\n",
       "      <td>0.398740</td>\n",
       "      <td>0.363636</td>\n",
       "      <td>0.5</td>\n",
       "      <td>0.083333</td>\n",
       "      <td>0.25</td>\n",
       "      <td>...</td>\n",
       "      <td>0.682907</td>\n",
       "      <td>0.0</td>\n",
       "      <td>0.923433</td>\n",
       "      <td>0.910727</td>\n",
       "      <td>0.272059</td>\n",
       "      <td>0.732322</td>\n",
       "      <td>0.145722</td>\n",
       "      <td>0.642115</td>\n",
       "      <td>0.770658</td>\n",
       "      <td>0.666667</td>\n",
       "    </tr>\n",
       "    <tr>\n",
       "      <th>...</th>\n",
       "      <td>...</td>\n",
       "      <td>...</td>\n",
       "      <td>...</td>\n",
       "      <td>...</td>\n",
       "      <td>...</td>\n",
       "      <td>...</td>\n",
       "      <td>...</td>\n",
       "      <td>...</td>\n",
       "      <td>...</td>\n",
       "      <td>...</td>\n",
       "      <td>...</td>\n",
       "      <td>...</td>\n",
       "      <td>...</td>\n",
       "      <td>...</td>\n",
       "      <td>...</td>\n",
       "      <td>...</td>\n",
       "      <td>...</td>\n",
       "      <td>...</td>\n",
       "      <td>...</td>\n",
       "      <td>...</td>\n",
       "      <td>...</td>\n",
       "    </tr>\n",
       "    <tr>\n",
       "      <th>638016</th>\n",
       "      <td>0.282051</td>\n",
       "      <td>0.0</td>\n",
       "      <td>0.205882</td>\n",
       "      <td>0.358293</td>\n",
       "      <td>0.688525</td>\n",
       "      <td>0.421776</td>\n",
       "      <td>0.909091</td>\n",
       "      <td>0.0</td>\n",
       "      <td>0.083333</td>\n",
       "      <td>0.25</td>\n",
       "      <td>...</td>\n",
       "      <td>0.813377</td>\n",
       "      <td>0.0</td>\n",
       "      <td>0.544366</td>\n",
       "      <td>0.518184</td>\n",
       "      <td>0.125000</td>\n",
       "      <td>0.344072</td>\n",
       "      <td>0.077910</td>\n",
       "      <td>0.000000</td>\n",
       "      <td>0.000000</td>\n",
       "      <td>0.000000</td>\n",
       "    </tr>\n",
       "    <tr>\n",
       "      <th>372446</th>\n",
       "      <td>0.743590</td>\n",
       "      <td>1.0</td>\n",
       "      <td>0.235294</td>\n",
       "      <td>0.648855</td>\n",
       "      <td>0.393443</td>\n",
       "      <td>0.861556</td>\n",
       "      <td>0.181818</td>\n",
       "      <td>0.0</td>\n",
       "      <td>0.166667</td>\n",
       "      <td>0.25</td>\n",
       "      <td>...</td>\n",
       "      <td>0.733278</td>\n",
       "      <td>0.0</td>\n",
       "      <td>0.170474</td>\n",
       "      <td>0.326852</td>\n",
       "      <td>0.338235</td>\n",
       "      <td>0.128054</td>\n",
       "      <td>0.551235</td>\n",
       "      <td>0.000000</td>\n",
       "      <td>0.000000</td>\n",
       "      <td>0.000000</td>\n",
       "    </tr>\n",
       "    <tr>\n",
       "      <th>333</th>\n",
       "      <td>0.025641</td>\n",
       "      <td>0.0</td>\n",
       "      <td>0.352941</td>\n",
       "      <td>0.025181</td>\n",
       "      <td>0.000000</td>\n",
       "      <td>0.517495</td>\n",
       "      <td>1.000000</td>\n",
       "      <td>0.5</td>\n",
       "      <td>0.250000</td>\n",
       "      <td>0.25</td>\n",
       "      <td>...</td>\n",
       "      <td>0.907514</td>\n",
       "      <td>0.0</td>\n",
       "      <td>0.250046</td>\n",
       "      <td>0.209873</td>\n",
       "      <td>0.205882</td>\n",
       "      <td>0.529324</td>\n",
       "      <td>0.015828</td>\n",
       "      <td>0.000000</td>\n",
       "      <td>0.000000</td>\n",
       "      <td>0.000000</td>\n",
       "    </tr>\n",
       "    <tr>\n",
       "      <th>35394</th>\n",
       "      <td>0.871795</td>\n",
       "      <td>0.0</td>\n",
       "      <td>0.323529</td>\n",
       "      <td>0.965803</td>\n",
       "      <td>0.016393</td>\n",
       "      <td>0.674068</td>\n",
       "      <td>0.181818</td>\n",
       "      <td>1.0</td>\n",
       "      <td>0.166667</td>\n",
       "      <td>1.00</td>\n",
       "      <td>...</td>\n",
       "      <td>0.882742</td>\n",
       "      <td>0.0</td>\n",
       "      <td>0.146923</td>\n",
       "      <td>0.151459</td>\n",
       "      <td>0.161765</td>\n",
       "      <td>0.304351</td>\n",
       "      <td>0.405785</td>\n",
       "      <td>0.000000</td>\n",
       "      <td>0.000000</td>\n",
       "      <td>0.000000</td>\n",
       "    </tr>\n",
       "    <tr>\n",
       "      <th>287647</th>\n",
       "      <td>0.066667</td>\n",
       "      <td>0.0</td>\n",
       "      <td>0.735294</td>\n",
       "      <td>0.098531</td>\n",
       "      <td>0.295082</td>\n",
       "      <td>0.224911</td>\n",
       "      <td>0.090909</td>\n",
       "      <td>1.0</td>\n",
       "      <td>0.166667</td>\n",
       "      <td>1.00</td>\n",
       "      <td>...</td>\n",
       "      <td>0.718415</td>\n",
       "      <td>0.0</td>\n",
       "      <td>0.023932</td>\n",
       "      <td>0.038223</td>\n",
       "      <td>0.088235</td>\n",
       "      <td>0.049716</td>\n",
       "      <td>0.083095</td>\n",
       "      <td>0.261950</td>\n",
       "      <td>0.240816</td>\n",
       "      <td>1.000000</td>\n",
       "    </tr>\n",
       "  </tbody>\n",
       "</table>\n",
       "<p>276670 rows × 40 columns</p>\n",
       "</div>"
      ],
      "text/plain": [
       "        loan_amnt  term  sub_grade  installment   issue_d  annual_inc  \\\n",
       "276768   0.115385   0.0   0.117647     0.120181  0.278689    0.050583   \n",
       "544949   0.451282   0.0   0.441176     0.641604  0.606557    0.567060   \n",
       "901970   0.487179   1.0   0.735294     0.617923  0.967213    0.180544   \n",
       "675169   0.512821   1.0   0.352941     0.477004  0.721311    0.729828   \n",
       "448234   1.000000   1.0   0.294118     0.860551  0.491803    0.398740   \n",
       "...           ...   ...        ...          ...       ...         ...   \n",
       "638016   0.282051   0.0   0.205882     0.358293  0.688525    0.421776   \n",
       "372446   0.743590   1.0   0.235294     0.648855  0.393443    0.861556   \n",
       "333      0.025641   0.0   0.352941     0.025181  0.000000    0.517495   \n",
       "35394    0.871795   0.0   0.323529     0.965803  0.016393    0.674068   \n",
       "287647   0.066667   0.0   0.735294     0.098531  0.295082    0.224911   \n",
       "\n",
       "        emp_length  verification_status   purpose  home_ownership  ...  \\\n",
       "276768    0.000000                  1.0  0.250000            0.75  ...   \n",
       "544949    0.090909                  0.5  0.166667            0.25  ...   \n",
       "901970    1.000000                  0.0  0.666667            1.00  ...   \n",
       "675169    0.363636                  0.5  0.166667            1.00  ...   \n",
       "448234    0.363636                  0.5  0.083333            0.25  ...   \n",
       "...            ...                  ...       ...             ...  ...   \n",
       "638016    0.909091                  0.0  0.083333            0.25  ...   \n",
       "372446    0.181818                  0.0  0.166667            0.25  ...   \n",
       "333       1.000000                  0.5  0.250000            0.25  ...   \n",
       "35394     0.181818                  1.0  0.166667            1.00  ...   \n",
       "287647    0.090909                  1.0  0.166667            1.00  ...   \n",
       "\n",
       "        revol_util  tax_liens  tot_cur_bal  tot_hi_cred_lim  total_acc  \\\n",
       "276768    0.409579        0.0     0.002377         0.000114   0.110294   \n",
       "544949    0.766309        0.0     0.817756         0.771460   0.169118   \n",
       "901970    0.354253        0.0     0.013091         0.005911   0.095588   \n",
       "675169    0.868704        0.0     0.166370         0.146478   0.051471   \n",
       "448234    0.682907        0.0     0.923433         0.910727   0.272059   \n",
       "...            ...        ...          ...              ...        ...   \n",
       "638016    0.813377        0.0     0.544366         0.518184   0.125000   \n",
       "372446    0.733278        0.0     0.170474         0.326852   0.338235   \n",
       "333       0.907514        0.0     0.250046         0.209873   0.205882   \n",
       "35394     0.882742        0.0     0.146923         0.151459   0.161765   \n",
       "287647    0.718415        0.0     0.023932         0.038223   0.088235   \n",
       "\n",
       "        total_bal_ex_mort  total_bc_limit  revol_bal_joint  annual_inc_joint  \\\n",
       "276768           0.005003        0.009960         0.000000          0.000000   \n",
       "544949           0.329526        0.036976         0.000000          0.000000   \n",
       "901970           0.027289        0.065084         0.000000          0.000000   \n",
       "675169           0.345346        0.360486         0.000000          0.000000   \n",
       "448234           0.732322        0.145722         0.642115          0.770658   \n",
       "...                   ...             ...              ...               ...   \n",
       "638016           0.344072        0.077910         0.000000          0.000000   \n",
       "372446           0.128054        0.551235         0.000000          0.000000   \n",
       "333              0.529324        0.015828         0.000000          0.000000   \n",
       "35394            0.304351        0.405785         0.000000          0.000000   \n",
       "287647           0.049716        0.083095         0.261950          0.240816   \n",
       "\n",
       "        verification_status_joint  \n",
       "276768                   0.000000  \n",
       "544949                   0.000000  \n",
       "901970                   0.000000  \n",
       "675169                   0.000000  \n",
       "448234                   0.666667  \n",
       "...                           ...  \n",
       "638016                   0.000000  \n",
       "372446                   0.000000  \n",
       "333                      0.000000  \n",
       "35394                    0.000000  \n",
       "287647                   1.000000  \n",
       "\n",
       "[276670 rows x 40 columns]"
      ]
     },
     "execution_count": 98,
     "metadata": {},
     "output_type": "execute_result"
    }
   ],
   "source": [
    "scaler = grid_search.best_estimator_[\"scaler\"]\n",
    "X_test_scaled = X_test\n",
    "X_test_scaled[X_test_scaled.columns] = scaler.fit_transform(X_test[X_test.columns])\n",
    "X_test_scaled"
   ]
  },
  {
   "cell_type": "code",
   "execution_count": 99,
   "metadata": {},
   "outputs": [
    {
     "name": "stderr",
     "output_type": "stream",
     "text": [
      "/usr/local/lib/python3.9/site-packages/sklearn/base.py:443: UserWarning: X has feature names, but LogisticRegression was fitted without feature names\n",
      "  warnings.warn(\n"
     ]
    },
    {
     "data": {
      "image/png": "[encoded data removed]",
      "text/plain": [
       "<Figure size 432x288 with 2 Axes>"
      ]
     },
     "metadata": {
      "needs_background": "light"
     },
     "output_type": "display_data"
    }
   ],
   "source": [
    "smote_predicted = optimal_logistic.predict(X_test_scaled)\n",
    "cf_matrix_smote = confusion_matrix( y_test, smote_predicted)\n",
    "ax = sns.heatmap(cf_matrix_smote, annot=True,cmap='Blues', fmt='g')\n",
    "\n",
    "ax.set_title('Seaborn Confusion Matrix with labels\\n\\n');\n",
    "ax.set_xlabel('\\nPredicted Values')\n",
    "ax.set_ylabel('Actual Values ');\n",
    "\n",
    "## Ticket labels - List must be in alphabetical order\n",
    "ax.xaxis.set_ticklabels(['False','True'])\n",
    "ax.yaxis.set_ticklabels(['False','True'])\n",
    "\n",
    "## Display the visualization of the Confusion Matrix.\n",
    "plt.show()"
   ]
  },
  {
   "cell_type": "code",
   "execution_count": 100,
   "metadata": {},
   "outputs": [
    {
     "name": "stderr",
     "output_type": "stream",
     "text": [
      "/usr/local/lib/python3.9/site-packages/sklearn/utils/deprecation.py:87: FutureWarning: Function plot_roc_curve is deprecated; Function :func:`plot_roc_curve` is deprecated in 1.0 and will be removed in 1.2. Use one of the class methods: :meth:`sklearn.metric.RocCurveDisplay.from_predictions` or :meth:`sklearn.metric.RocCurveDisplay.from_estimator`.\n",
      "  warnings.warn(msg, category=FutureWarning)\n",
      "/usr/local/lib/python3.9/site-packages/sklearn/base.py:443: UserWarning: X has feature names, but LogisticRegression was fitted without feature names\n",
      "  warnings.warn(\n",
      "/usr/local/lib/python3.9/site-packages/sklearn/utils/deprecation.py:87: FutureWarning: Function plot_precision_recall_curve is deprecated; Function `plot_precision_recall_curve` is deprecated in 1.0 and will be removed in 1.2. Use one of the class methods: PrecisionRecallDisplay.from_predictions or PrecisionRecallDisplay.from_estimator.\n",
      "  warnings.warn(msg, category=FutureWarning)\n",
      "/usr/local/lib/python3.9/site-packages/sklearn/base.py:443: UserWarning: X has feature names, but LogisticRegression was fitted without feature names\n",
      "  warnings.warn(\n"
     ]
    },
    {
     "data": {
      "image/png": "[encoded data removed]",
      "text/plain": [
       "<Figure size 1080x720 with 2 Axes>"
      ]
     },
     "metadata": {
      "needs_background": "light"
     },
     "output_type": "display_data"
    }
   ],
   "source": [
    "plot_roc_precision(optimal_logistic,  X_test, y_test)"
   ]
  },
  {
   "cell_type": "markdown",
   "metadata": {},
   "source": [
    "### Random forest"
   ]
  },
  {
   "cell_type": "markdown",
   "metadata": {},
   "source": [
    "Let's scale the oversampled data:"
   ]
  },
  {
   "cell_type": "code",
   "execution_count": 110,
   "metadata": {},
   "outputs": [],
   "source": [
    "df_smote_scaled = df_smote\n",
    "df_smote_scaled[df_smote_scaled.columns] = scaler.fit_transform(df_smote_scaled[df_smote_scaled.columns])"
   ]
  },
  {
   "cell_type": "markdown",
   "metadata": {},
   "source": [
    "Delete penalized variables by logistic"
   ]
  },
  {
   "cell_type": "code",
   "execution_count": 111,
   "metadata": {},
   "outputs": [],
   "source": [
    "df_smote_scaled = df_smote_scaled.drop([\"tax_liens\",\n",
    "              \"verification_status_joint\"], axis=1)"
   ]
  },
  {
   "cell_type": "markdown",
   "metadata": {},
   "source": [
    "#### Find optimal hyperparameters"
   ]
  },
  {
   "cell_type": "code",
   "execution_count": null,
   "metadata": {},
   "outputs": [],
   "source": [
    "# Parameter optimization\n",
    "n_estimators = [int(x) for x in np.linspace(start = 200, stop = 2000, num = 10)]\n",
    "max_features = [0.5, 'sqrt', 'auto']\n",
    "max_depth = [int(x) for x in np.linspace(10, 100, num = 10)]\n",
    "max_depth.append(None)\n",
    "min_samples_split = [2, 5, 10]\n",
    "min_samples_leaf = [1, 2, 4]\n",
    "param_grid = {'n_estimators': n_estimators,\n",
    "                'max_features': max_features,\n",
    "                'max_depth': max_depth,\n",
    "                'min_samples_split': min_samples_split,\n",
    "                'min_samples_leaf': min_samples_leaf}\n",
    "\n",
    "rfc = RandomForestClassifier()\n",
    "n_iter = 20 # Number of parameter settings that are sampled. n_iter trades off runtime vs quality of the solution.\n",
    "cv = 3 # Cross-validation folds\n",
    "n_jobs = -1 # Uses all cores available\n",
    "verbose = 5 # Controls how much the algo will print text to inform us of what is going on\n",
    "rf_random = RandomizedSearchCV(estimator = rfc, param_distributions =param_grid, n_iter = n_iter, cv = cv, verbose=verbose, random_state=random_state, n_jobs = n_jobs)\n",
    "time_start = time.time()\n",
    "rf_random.fit(X_train, y_train)\n",
    "time_end = time.time()\n",
    "print('time cost', time_end - time_start, 's')\n",
    "best_parameters = rf_random.best_params_\n",
    "print('The best Parameters are:')\n",
    "for key, item in best_parameters.items():\n",
    "    print(f'- {key}: {item}')"
   ]
  },
  {
   "cell_type": "code",
   "execution_count": 108,
   "metadata": {},
   "outputs": [],
   "source": [
    "dill.dump_session('logistic_forest.db')"
   ]
  },
  {
   "cell_type": "code",
   "execution_count": null,
   "metadata": {},
   "outputs": [],
   "source": []
  }
 ],
 "metadata": {
  "kernelspec": {
   "display_name": "Python 3 (ipykernel)",
   "language": "python",
   "name": "python3"
  },
  "language_info": {
   "codemirror_mode": {
    "name": "ipython",
    "version": 3
   },
   "file_extension": ".py",
   "mimetype": "text/x-python",
   "name": "python",
   "nbconvert_exporter": "python",
   "pygments_lexer": "ipython3",
   "version": "3.8.8"
  }
 },
 "nbformat": 4,
 "nbformat_minor": 1
}
