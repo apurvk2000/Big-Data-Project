{
 "cells": [
  {
   "cell_type": "markdown",
   "metadata": {},
   "source": [
    "## Import modules"
   ]
  },
  {
   "cell_type": "code",
   "execution_count": 8,
   "metadata": {
    "pycharm": {
     "name": "#%%\n"
    }
   },
   "outputs": [],
   "source": [
    "import imblearn\n",
    "import pandas as pd\n",
    "import sklearn\n",
    "import seaborn as sns\n",
    "import dill\n",
    "import matplotlib.pyplot as plt\n",
    "import matplotlib\n",
    "import numpy as np\n",
    "\n",
    "\n",
    "from sklearn.preprocessing import MinMaxScaler\n",
    "from sklearn.model_selection import train_test_split, KFold, GridSearchCV\n",
    "from sklearn.linear_model import LogisticRegression\n",
    "from sklearn.neighbors import KNeighborsClassifier\n",
    "from sklearn import preprocessing\n",
    "from sklearn.metrics import plot_precision_recall_curve, plot_roc_curve, confusion_matrix\n",
    "from sklearn.pipeline import Pipeline\n",
    "from joblib import dump, load\n",
    "from imblearn.pipeline import Pipeline as imbpipeline\n",
    "from imblearn.over_sampling import SMOTE"
   ]
  },
  {
   "cell_type": "markdown",
   "metadata": {},
   "source": [
    "## Data loading"
   ]
  },
  {
   "cell_type": "code",
   "execution_count": 9,
   "metadata": {
    "pycharm": {
     "name": "#%%\n"
    }
   },
   "outputs": [],
   "source": [
    "random_state=809\n",
    "# Load data from sources\n",
    "data=pd.read_csv('./Lending Club/Lending_Club_Data.csv')\n",
    "# Load jupyter session\n",
    "dill.load_session('logistic_forest.db')"
   ]
  },
  {
   "cell_type": "markdown",
   "metadata": {},
   "source": [
    "## Data preprocessing"
   ]
  },
  {
   "cell_type": "code",
   "execution_count": 15,
   "metadata": {
    "pycharm": {
     "name": "#%%\n"
    }
   },
   "outputs": [
    {
     "data": {
      "text/html": [
       "<div>\n",
       "<style scoped>\n",
       "    .dataframe tbody tr th:only-of-type {\n",
       "        vertical-align: middle;\n",
       "    }\n",
       "\n",
       "    .dataframe tbody tr th {\n",
       "        vertical-align: top;\n",
       "    }\n",
       "\n",
       "    .dataframe thead th {\n",
       "        text-align: right;\n",
       "    }\n",
       "</style>\n",
       "<table border=\"1\" class=\"dataframe\">\n",
       "  <thead>\n",
       "    <tr style=\"text-align: right;\">\n",
       "      <th></th>\n",
       "      <th>loan_status</th>\n",
       "      <th>loan_amnt</th>\n",
       "      <th>term</th>\n",
       "      <th>sub_grade</th>\n",
       "      <th>installment</th>\n",
       "      <th>issue_d</th>\n",
       "      <th>annual_inc</th>\n",
       "      <th>emp_length</th>\n",
       "      <th>verification_status</th>\n",
       "      <th>purpose</th>\n",
       "      <th>...</th>\n",
       "      <th>revol_util</th>\n",
       "      <th>tax_liens</th>\n",
       "      <th>tot_cur_bal</th>\n",
       "      <th>tot_hi_cred_lim</th>\n",
       "      <th>total_acc</th>\n",
       "      <th>total_bal_ex_mort</th>\n",
       "      <th>total_bc_limit</th>\n",
       "      <th>revol_bal_joint</th>\n",
       "      <th>annual_inc_joint</th>\n",
       "      <th>verification_status_joint</th>\n",
       "    </tr>\n",
       "  </thead>\n",
       "  <tbody>\n",
       "    <tr>\n",
       "      <th>0</th>\n",
       "      <td>1.0</td>\n",
       "      <td>1320.0</td>\n",
       "      <td>1.0</td>\n",
       "      <td>15.0</td>\n",
       "      <td>53744.0</td>\n",
       "      <td>0.0</td>\n",
       "      <td>38792.0</td>\n",
       "      <td>3.0</td>\n",
       "      <td>2.0</td>\n",
       "      <td>2.0</td>\n",
       "      <td>...</td>\n",
       "      <td>1083.0</td>\n",
       "      <td>0.0</td>\n",
       "      <td>333044.0</td>\n",
       "      <td>352334.0</td>\n",
       "      <td>29.0</td>\n",
       "      <td>144867.0</td>\n",
       "      <td>1008.0</td>\n",
       "      <td>0.0</td>\n",
       "      <td>0.0</td>\n",
       "      <td>0.0</td>\n",
       "    </tr>\n",
       "    <tr>\n",
       "      <th>1</th>\n",
       "      <td>0.0</td>\n",
       "      <td>760.0</td>\n",
       "      <td>1.0</td>\n",
       "      <td>12.0</td>\n",
       "      <td>30020.0</td>\n",
       "      <td>0.0</td>\n",
       "      <td>16885.0</td>\n",
       "      <td>3.0</td>\n",
       "      <td>2.0</td>\n",
       "      <td>2.0</td>\n",
       "      <td>...</td>\n",
       "      <td>924.0</td>\n",
       "      <td>0.0</td>\n",
       "      <td>125061.0</td>\n",
       "      <td>262323.0</td>\n",
       "      <td>29.0</td>\n",
       "      <td>30574.0</td>\n",
       "      <td>875.0</td>\n",
       "      <td>0.0</td>\n",
       "      <td>0.0</td>\n",
       "      <td>0.0</td>\n",
       "    </tr>\n",
       "    <tr>\n",
       "      <th>2</th>\n",
       "      <td>0.0</td>\n",
       "      <td>560.0</td>\n",
       "      <td>1.0</td>\n",
       "      <td>19.0</td>\n",
       "      <td>24962.0</td>\n",
       "      <td>0.0</td>\n",
       "      <td>27275.0</td>\n",
       "      <td>1.0</td>\n",
       "      <td>0.0</td>\n",
       "      <td>2.0</td>\n",
       "      <td>...</td>\n",
       "      <td>1188.0</td>\n",
       "      <td>0.0</td>\n",
       "      <td>13020.0</td>\n",
       "      <td>3148.0</td>\n",
       "      <td>5.0</td>\n",
       "      <td>13061.0</td>\n",
       "      <td>744.0</td>\n",
       "      <td>0.0</td>\n",
       "      <td>0.0</td>\n",
       "      <td>0.0</td>\n",
       "    </tr>\n",
       "    <tr>\n",
       "      <th>3</th>\n",
       "      <td>0.0</td>\n",
       "      <td>408.0</td>\n",
       "      <td>0.0</td>\n",
       "      <td>10.0</td>\n",
       "      <td>23288.0</td>\n",
       "      <td>0.0</td>\n",
       "      <td>32096.0</td>\n",
       "      <td>2.0</td>\n",
       "      <td>1.0</td>\n",
       "      <td>2.0</td>\n",
       "      <td>...</td>\n",
       "      <td>713.0</td>\n",
       "      <td>0.0</td>\n",
       "      <td>89648.0</td>\n",
       "      <td>78688.0</td>\n",
       "      <td>23.0</td>\n",
       "      <td>91867.0</td>\n",
       "      <td>435.0</td>\n",
       "      <td>0.0</td>\n",
       "      <td>0.0</td>\n",
       "      <td>0.0</td>\n",
       "    </tr>\n",
       "    <tr>\n",
       "      <th>4</th>\n",
       "      <td>0.0</td>\n",
       "      <td>623.0</td>\n",
       "      <td>0.0</td>\n",
       "      <td>8.0</td>\n",
       "      <td>35716.0</td>\n",
       "      <td>0.0</td>\n",
       "      <td>13341.0</td>\n",
       "      <td>11.0</td>\n",
       "      <td>0.0</td>\n",
       "      <td>2.0</td>\n",
       "      <td>...</td>\n",
       "      <td>325.0</td>\n",
       "      <td>0.0</td>\n",
       "      <td>15830.0</td>\n",
       "      <td>68466.0</td>\n",
       "      <td>13.0</td>\n",
       "      <td>15871.0</td>\n",
       "      <td>4067.0</td>\n",
       "      <td>0.0</td>\n",
       "      <td>0.0</td>\n",
       "      <td>0.0</td>\n",
       "    </tr>\n",
       "    <tr>\n",
       "      <th>5</th>\n",
       "      <td>0.0</td>\n",
       "      <td>1160.0</td>\n",
       "      <td>1.0</td>\n",
       "      <td>18.0</td>\n",
       "      <td>50840.0</td>\n",
       "      <td>0.0</td>\n",
       "      <td>22400.0</td>\n",
       "      <td>7.0</td>\n",
       "      <td>2.0</td>\n",
       "      <td>8.0</td>\n",
       "      <td>...</td>\n",
       "      <td>455.0</td>\n",
       "      <td>0.0</td>\n",
       "      <td>9677.0</td>\n",
       "      <td>15605.0</td>\n",
       "      <td>7.0</td>\n",
       "      <td>9717.0</td>\n",
       "      <td>1424.0</td>\n",
       "      <td>0.0</td>\n",
       "      <td>0.0</td>\n",
       "      <td>0.0</td>\n",
       "    </tr>\n",
       "    <tr>\n",
       "      <th>6</th>\n",
       "      <td>0.0</td>\n",
       "      <td>560.0</td>\n",
       "      <td>0.0</td>\n",
       "      <td>17.0</td>\n",
       "      <td>35958.0</td>\n",
       "      <td>0.0</td>\n",
       "      <td>33120.0</td>\n",
       "      <td>0.0</td>\n",
       "      <td>0.0</td>\n",
       "      <td>10.0</td>\n",
       "      <td>...</td>\n",
       "      <td>536.0</td>\n",
       "      <td>0.0</td>\n",
       "      <td>90505.0</td>\n",
       "      <td>110099.0</td>\n",
       "      <td>21.0</td>\n",
       "      <td>92790.0</td>\n",
       "      <td>232.0</td>\n",
       "      <td>0.0</td>\n",
       "      <td>0.0</td>\n",
       "      <td>0.0</td>\n",
       "    </tr>\n",
       "    <tr>\n",
       "      <th>7</th>\n",
       "      <td>0.0</td>\n",
       "      <td>560.0</td>\n",
       "      <td>0.0</td>\n",
       "      <td>0.0</td>\n",
       "      <td>29280.0</td>\n",
       "      <td>0.0</td>\n",
       "      <td>29364.0</td>\n",
       "      <td>2.0</td>\n",
       "      <td>0.0</td>\n",
       "      <td>1.0</td>\n",
       "      <td>...</td>\n",
       "      <td>689.0</td>\n",
       "      <td>0.0</td>\n",
       "      <td>109098.0</td>\n",
       "      <td>113261.0</td>\n",
       "      <td>22.0</td>\n",
       "      <td>112214.0</td>\n",
       "      <td>1721.0</td>\n",
       "      <td>0.0</td>\n",
       "      <td>0.0</td>\n",
       "      <td>0.0</td>\n",
       "    </tr>\n",
       "    <tr>\n",
       "      <th>8</th>\n",
       "      <td>0.0</td>\n",
       "      <td>361.0</td>\n",
       "      <td>0.0</td>\n",
       "      <td>33.0</td>\n",
       "      <td>26810.0</td>\n",
       "      <td>0.0</td>\n",
       "      <td>25396.0</td>\n",
       "      <td>11.0</td>\n",
       "      <td>0.0</td>\n",
       "      <td>10.0</td>\n",
       "      <td>...</td>\n",
       "      <td>838.0</td>\n",
       "      <td>0.0</td>\n",
       "      <td>40488.0</td>\n",
       "      <td>33881.0</td>\n",
       "      <td>7.0</td>\n",
       "      <td>40537.0</td>\n",
       "      <td>477.0</td>\n",
       "      <td>0.0</td>\n",
       "      <td>0.0</td>\n",
       "      <td>0.0</td>\n",
       "    </tr>\n",
       "    <tr>\n",
       "      <th>9</th>\n",
       "      <td>0.0</td>\n",
       "      <td>80.0</td>\n",
       "      <td>0.0</td>\n",
       "      <td>16.0</td>\n",
       "      <td>4003.0</td>\n",
       "      <td>0.0</td>\n",
       "      <td>3618.0</td>\n",
       "      <td>4.0</td>\n",
       "      <td>2.0</td>\n",
       "      <td>9.0</td>\n",
       "      <td>...</td>\n",
       "      <td>841.0</td>\n",
       "      <td>0.0</td>\n",
       "      <td>7003.0</td>\n",
       "      <td>1999.0</td>\n",
       "      <td>11.0</td>\n",
       "      <td>7043.0</td>\n",
       "      <td>134.0</td>\n",
       "      <td>0.0</td>\n",
       "      <td>0.0</td>\n",
       "      <td>0.0</td>\n",
       "    </tr>\n",
       "  </tbody>\n",
       "</table>\n",
       "<p>10 rows × 41 columns</p>\n",
       "</div>"
      ],
      "text/plain": [
       "   loan_status  loan_amnt  term  sub_grade  installment  issue_d  annual_inc  \\\n",
       "0          1.0     1320.0   1.0       15.0      53744.0      0.0     38792.0   \n",
       "1          0.0      760.0   1.0       12.0      30020.0      0.0     16885.0   \n",
       "2          0.0      560.0   1.0       19.0      24962.0      0.0     27275.0   \n",
       "3          0.0      408.0   0.0       10.0      23288.0      0.0     32096.0   \n",
       "4          0.0      623.0   0.0        8.0      35716.0      0.0     13341.0   \n",
       "5          0.0     1160.0   1.0       18.0      50840.0      0.0     22400.0   \n",
       "6          0.0      560.0   0.0       17.0      35958.0      0.0     33120.0   \n",
       "7          0.0      560.0   0.0        0.0      29280.0      0.0     29364.0   \n",
       "8          0.0      361.0   0.0       33.0      26810.0      0.0     25396.0   \n",
       "9          0.0       80.0   0.0       16.0       4003.0      0.0      3618.0   \n",
       "\n",
       "   emp_length  verification_status  purpose  ...  revol_util  tax_liens  \\\n",
       "0         3.0                  2.0      2.0  ...      1083.0        0.0   \n",
       "1         3.0                  2.0      2.0  ...       924.0        0.0   \n",
       "2         1.0                  0.0      2.0  ...      1188.0        0.0   \n",
       "3         2.0                  1.0      2.0  ...       713.0        0.0   \n",
       "4        11.0                  0.0      2.0  ...       325.0        0.0   \n",
       "5         7.0                  2.0      8.0  ...       455.0        0.0   \n",
       "6         0.0                  0.0     10.0  ...       536.0        0.0   \n",
       "7         2.0                  0.0      1.0  ...       689.0        0.0   \n",
       "8        11.0                  0.0     10.0  ...       838.0        0.0   \n",
       "9         4.0                  2.0      9.0  ...       841.0        0.0   \n",
       "\n",
       "   tot_cur_bal  tot_hi_cred_lim  total_acc  total_bal_ex_mort  total_bc_limit  \\\n",
       "0     333044.0         352334.0       29.0           144867.0          1008.0   \n",
       "1     125061.0         262323.0       29.0            30574.0           875.0   \n",
       "2      13020.0           3148.0        5.0            13061.0           744.0   \n",
       "3      89648.0          78688.0       23.0            91867.0           435.0   \n",
       "4      15830.0          68466.0       13.0            15871.0          4067.0   \n",
       "5       9677.0          15605.0        7.0             9717.0          1424.0   \n",
       "6      90505.0         110099.0       21.0            92790.0           232.0   \n",
       "7     109098.0         113261.0       22.0           112214.0          1721.0   \n",
       "8      40488.0          33881.0        7.0            40537.0           477.0   \n",
       "9       7003.0           1999.0       11.0             7043.0           134.0   \n",
       "\n",
       "   revol_bal_joint  annual_inc_joint  verification_status_joint  \n",
       "0              0.0               0.0                        0.0  \n",
       "1              0.0               0.0                        0.0  \n",
       "2              0.0               0.0                        0.0  \n",
       "3              0.0               0.0                        0.0  \n",
       "4              0.0               0.0                        0.0  \n",
       "5              0.0               0.0                        0.0  \n",
       "6              0.0               0.0                        0.0  \n",
       "7              0.0               0.0                        0.0  \n",
       "8              0.0               0.0                        0.0  \n",
       "9              0.0               0.0                        0.0  \n",
       "\n",
       "[10 rows x 41 columns]"
      ]
     },
     "execution_count": 15,
     "metadata": {},
     "output_type": "execute_result"
    }
   ],
   "source": [
    "# Data cleaning and processing\n",
    "data = data.fillna(0) # Fill na values with 0\n",
    "for i in data.columns:  # Transform non-numeric types to string\n",
    "    if data[i].dtypes == 'object':\n",
    "        data[i] = data[i].astype('str')\n",
    "# Enumerating categorical data\n",
    "encoder = preprocessing.OrdinalEncoder()\n",
    "encoder.fit(data)\n",
    "data_encoded = encoder.transform(data)\n",
    "# Dataframe creation\n",
    "df = pd.DataFrame(data_encoded,columns=data.columns)\n",
    "df = df.drop([\"dti\",\n",
    "              \"dti_joint\",\n",
    "              \"emp_title\",\n",
    "              \"dti_joint.1\",\n",
    "              \"loan_id\",\n",
    "              \"int_rate\",\n",
    "              \"total_pymnt\",\n",
    "              \"total_rec_int\",\n",
    "              \"total_rec_late_fee\",\n",
    "              \"total_rec_prncp\",\n",
    "              \"recoveries\"], axis=1)\n",
    "variables = list(df.columns)\n",
    "variables.remove('loan_status')\n",
    "df.head(10)"
   ]
  },
  {
   "cell_type": "markdown",
   "metadata": {
    "pycharm": {
     "name": "#%% md\n"
    }
   },
   "source": [
    "Check data balancing"
   ]
  },
  {
   "cell_type": "code",
   "execution_count": 4,
   "metadata": {
    "pycharm": {
     "name": "#%%\n"
    }
   },
   "outputs": [
    {
     "data": {
      "image/png": "[encoded data removed]",
      "text/plain": [
       "<Figure size 1080x720 with 2 Axes>"
      ]
     },
     "metadata": {
      "needs_background": "light"
     },
     "output_type": "display_data"
    }
   ],
   "source": [
    "df_0 = df[df['loan_status']==0]\n",
    "df_1 = df[df['loan_status']==1]\n",
    "\n",
    "# Plot of the outcome variable in both datasets\n",
    "fig, (ax, ax1) = plt.subplots(figsize=(15,10), ncols = 2)\n",
    "df['loan_status'].value_counts().plot(kind='bar', ax=ax, fontsize=14)\n",
    "df_0['loan_status'].value_counts().plot(kind='bar', ax=ax1, fontsize=14)\n",
    "ax.set_ylabel('Observation counts', fontsize=14)\n",
    "ax.set_xlabel('Class', fontsize=14)\n",
    "ax1.set_xlabel('Class', fontsize=14)\n",
    "ax.set_title('Original Dataset', fontsize=16)\n",
    "ax1.set_title('Imbalanced Dataset', fontsize=16)\n",
    "plt.show()"
   ]
  },
  {
   "cell_type": "markdown",
   "metadata": {
    "pycharm": {
     "name": "#%% md\n"
    }
   },
   "source": [
    "Clearly we appreciate a significant imbalance of class 0 with respect to class 1.\n",
    "\n",
    "Thus, we need to balance the data. In class we learned about several methods to balance imbalanced datasets.\n",
    "In this case, we will use smote procedure."
   ]
  },
  {
   "cell_type": "code",
   "execution_count": 5,
   "metadata": {
    "pycharm": {
     "name": "#%%\n"
    }
   },
   "outputs": [],
   "source": [
    "model_imb = LogisticRegression(penalty=\"l1\",\n",
    "                                    solver=\"liblinear\",\n",
    "                                    max_iter=int(1e6),\n",
    "                                    warm_start=True)\n",
    "model_imb.fit(df[variables], df['loan_status'])\n",
    "imbalanced_predicted = model_imb.predict(df[variables])"
   ]
  },
  {
   "cell_type": "markdown",
   "metadata": {
    "pycharm": {
     "name": "#%% md\n"
    }
   },
   "source": [
    "### Confusion matrix"
   ]
  },
  {
   "cell_type": "code",
   "execution_count": 6,
   "metadata": {
    "pycharm": {
     "name": "#%%\n"
    }
   },
   "outputs": [
    {
     "data": {
      "image/png": "[encoded data removed]",
      "text/plain": [
       "<Figure size 432x288 with 2 Axes>"
      ]
     },
     "metadata": {
      "needs_background": "light"
     },
     "output_type": "display_data"
    }
   ],
   "source": [
    "cf_matrix = confusion_matrix( df['loan_status'], imbalanced_predicted)\n",
    "ax = sns.heatmap(cf_matrix, annot=True,cmap='Blues', fmt='g')\n",
    "\n",
    "ax.set_title('Seaborn Confusion Matrix with labels\\n\\n');\n",
    "ax.set_xlabel('\\nPredicted Values')\n",
    "ax.set_ylabel('Actual Values ');\n",
    "\n",
    "## Ticket labels - List must be in alphabetical order\n",
    "ax.xaxis.set_ticklabels(['False','True'])\n",
    "ax.yaxis.set_ticklabels(['False','True'])\n",
    "\n",
    "## Display the visualization of the Confusion Matrix.\n",
    "plt.show()\n",
    "\n"
   ]
  },
  {
   "cell_type": "markdown",
   "metadata": {
    "pycharm": {
     "name": "#%% md\n"
    }
   },
   "source": [
    "### Plot ROC curves"
   ]
  },
  {
   "cell_type": "code",
   "execution_count": 7,
   "metadata": {
    "pycharm": {
     "name": "#%%\n"
    }
   },
   "outputs": [],
   "source": [
    "def plot_roc_precision(model, df):\n",
    "    fig, (ax, ax1) = plt.subplots(ncols=2, figsize=(15,10))\n",
    "    plot_roc_curve(model, df[variables], df['loan_status'], ax=ax)\n",
    "    plot_precision_recall_curve(model, df[variables],df['loan_status'], ax=ax1)\n",
    "    ax.set_title('ROC', fontsize=18)\n",
    "    ax1.set_title('Precision Recall', fontsize=18)\n",
    "    ax.legend(fontsize=15)\n",
    "    ax1.legend(fontsize=15)\n",
    "    plt.suptitle('Balanced Dataset', fontsize=20)\n",
    "    plt.show()"
   ]
  },
  {
   "cell_type": "code",
   "execution_count": 8,
   "metadata": {
    "pycharm": {
     "name": "#%%\n"
    }
   },
   "outputs": [
    {
     "name": "stderr",
     "output_type": "stream",
     "text": [
      "/usr/local/lib/python3.9/site-packages/sklearn/utils/deprecation.py:87: FutureWarning: Function plot_roc_curve is deprecated; Function :func:`plot_roc_curve` is deprecated in 1.0 and will be removed in 1.2. Use one of the class methods: :meth:`sklearn.metric.RocCurveDisplay.from_predictions` or :meth:`sklearn.metric.RocCurveDisplay.from_estimator`.\n",
      "  warnings.warn(msg, category=FutureWarning)\n",
      "/usr/local/lib/python3.9/site-packages/sklearn/utils/deprecation.py:87: FutureWarning: Function plot_precision_recall_curve is deprecated; Function `plot_precision_recall_curve` is deprecated in 1.0 and will be removed in 1.2. Use one of the class methods: PrecisionRecallDisplay.from_predictions or PrecisionRecallDisplay.from_estimator.\n",
      "  warnings.warn(msg, category=FutureWarning)\n"
     ]
    },
    {
     "data": {
      "image/png": "[encoded data removed]",
      "text/plain": [
       "<Figure size 1080x720 with 2 Axes>"
      ]
     },
     "metadata": {
      "needs_background": "light"
     },
     "output_type": "display_data"
    }
   ],
   "source": [
    "plot_roc_precision(model_imb, df)"
   ]
  },
  {
   "cell_type": "markdown",
   "metadata": {
    "pycharm": {
     "name": "#%% md\n"
    }
   },
   "source": [
    "The ROC curve confirms our thesis of the data being imbalanced. The area under the curve is far from being maximized.\n",
    "Let's try to undersample the data.\n",
    "\n",
    "### Data balancing with oversampling"
   ]
  },
  {
   "cell_type": "code",
   "execution_count": 9,
   "metadata": {
    "pycharm": {
     "name": "#%%\n"
    }
   },
   "outputs": [],
   "source": [
    "oversampler = imblearn.over_sampling.RandomOverSampler(sampling_strategy='minority')\n",
    "oversample_x, oversample_y = oversampler.fit_resample(df[variables], df['loan_status'])\n",
    "df_oversampled = pd.DataFrame(oversample_x, columns = variables)\n",
    "df_oversampled['loan_status'] = oversample_y"
   ]
  },
  {
   "cell_type": "code",
   "execution_count": 10,
   "metadata": {
    "pycharm": {
     "name": "#%%\n"
    }
   },
   "outputs": [
    {
     "data": {
      "image/png": "[encoded data removed]",
      "text/plain": [
       "<Figure size 1080x720 with 2 Axes>"
      ]
     },
     "metadata": {
      "needs_background": "light"
     },
     "output_type": "display_data"
    }
   ],
   "source": [
    "df_0_under = df_oversampled[df_oversampled['loan_status']==0]\n",
    "df_1_under = df_oversampled[df_oversampled['loan_status']==1]\n",
    "\n",
    "# Plot of the outcome variable in both datasets\n",
    "fig, (ax, ax1) = plt.subplots(figsize=(15,10), ncols = 2)\n",
    "df_oversampled['loan_status'].value_counts().plot(kind='bar', ax=ax, fontsize=14)\n",
    "df_0_under['loan_status'].value_counts().plot(kind='bar', ax=ax1, fontsize=14)\n",
    "ax.set_ylabel('Observation counts', fontsize=14)\n",
    "ax.set_xlabel('Class', fontsize=14)\n",
    "ax1.set_xlabel('Class', fontsize=14)\n",
    "ax.set_title('Original Dataset', fontsize=16)\n",
    "ax1.set_title('Imbalanced Dataset', fontsize=16)\n",
    "plt.show()"
   ]
  },
  {
   "cell_type": "code",
   "execution_count": 37,
   "metadata": {
    "pycharm": {
     "name": "#%%\n"
    }
   },
   "outputs": [],
   "source": [
    "model_balanced = LogisticRegression(penalty=\"l1\",\n",
    "                                    solver=\"liblinear\",\n",
    "                                    max_iter=int(1e6),\n",
    "                                    warm_start=True)\n",
    "model_balanced.fit(df_oversampled[variables], df_oversampled['loan_status'])\n",
    "balanced_predicted = model_balanced.predict(df_oversampled[variables])"
   ]
  },
  {
   "cell_type": "code",
   "execution_count": 38,
   "metadata": {
    "pycharm": {
     "name": "#%%\n"
    }
   },
   "outputs": [
    {
     "data": {
      "image/png": "[encoded data removed]",
      "text/plain": [
       "<Figure size 432x288 with 2 Axes>"
      ]
     },
     "metadata": {
      "needs_background": "light"
     },
     "output_type": "display_data"
    }
   ],
   "source": [
    "cf_matrix_balanced = confusion_matrix( df_oversampled['loan_status'], balanced_predicted)\n",
    "ax = sns.heatmap(cf_matrix_balanced, annot=True,cmap='Blues', fmt='g')\n",
    "\n",
    "ax.set_title('Seaborn Confusion Matrix with labels\\n\\n');\n",
    "ax.set_xlabel('\\nPredicted Values')\n",
    "ax.set_ylabel('Actual Values ');\n",
    "\n",
    "## Ticket labels - List must be in alphabetical order\n",
    "ax.xaxis.set_ticklabels(['False','True'])\n",
    "ax.yaxis.set_ticklabels(['False','True'])\n",
    "\n",
    "## Display the visualization of the Confusion Matrix.\n",
    "plt.show()"
   ]
  },
  {
   "cell_type": "code",
   "execution_count": 39,
   "metadata": {
    "pycharm": {
     "name": "#%%\n"
    }
   },
   "outputs": [
    {
     "name": "stderr",
     "output_type": "stream",
     "text": [
      "/usr/local/lib/python3.9/site-packages/sklearn/utils/deprecation.py:87: FutureWarning: Function plot_roc_curve is deprecated; Function :func:`plot_roc_curve` is deprecated in 1.0 and will be removed in 1.2. Use one of the class methods: :meth:`sklearn.metric.RocCurveDisplay.from_predictions` or :meth:`sklearn.metric.RocCurveDisplay.from_estimator`.\n",
      "  warnings.warn(msg, category=FutureWarning)\n",
      "/usr/local/lib/python3.9/site-packages/sklearn/utils/deprecation.py:87: FutureWarning: Function plot_precision_recall_curve is deprecated; Function `plot_precision_recall_curve` is deprecated in 1.0 and will be removed in 1.2. Use one of the class methods: PrecisionRecallDisplay.from_predictions or PrecisionRecallDisplay.from_estimator.\n",
      "  warnings.warn(msg, category=FutureWarning)\n"
     ]
    },
    {
     "data": {
      "image/png": "[encoded data removed]",
      "text/plain": [
       "<Figure size 1080x720 with 2 Axes>"
      ]
     },
     "metadata": {
      "needs_background": "light"
     },
     "output_type": "display_data"
    }
   ],
   "source": [
    "plot_roc_precision(model_balanced, df_oversampled)"
   ]
  },
  {
   "cell_type": "markdown",
   "metadata": {},
   "source": [
    "Note that the ROC and precission recall curves indicate that oversampoling the dataset does not improve the performance of the model. "
   ]
  },
  {
   "cell_type": "code",
   "execution_count": 13,
   "metadata": {
    "pycharm": {
     "name": "#%%\n"
    }
   },
   "outputs": [
    {
     "name": "stdout",
     "output_type": "stream",
     "text": [
      "Fitting 3 folds for each of 6 candidates, totalling 18 fits\n",
      "Cross-validation score: 0.8447545344811448\n",
      "Test score: 0.8455206061726892\n"
     ]
    }
   ],
   "source": [
    "# We Create a Pipeline to do three things to the training FOLDS:\n",
    "#1- Apply Smote to it\n",
    "#2- Apply a MinMax Scaler to the data\n",
    "#3- Apply the KNN9rrrrrrrrrrrrrrrrrr\n",
    "random_state = 809\n",
    "X_train, X_test, y_train, y_test = train_test_split(df.drop(['loan_status'], axis=1),\n",
    "                                                    df['loan_status'], test_size=0.3,\n",
    "                                                    random_state=random_state)\n",
    "pipeline = imbpipeline(steps = [['smote', SMOTE(random_state=random_state)],\n",
    "                                ['scaler', MinMaxScaler()],\n",
    "                                ['classifier', LogisticRegression(penalty=\"l1\",\n",
    "                                                                    solver=\"liblinear\",\n",
    "                                                                    max_iter=int(1e6),\n",
    "                                                                    warm_start=True)\n",
    "                                 ]])\n",
    "cv = KFold(n_splits=3, shuffle=True, random_state=random_state)\n",
    "param_grid = {'smote__k_neighbors': [1, 2, 3, 4, 5, 10]}\n",
    "grid_search = GridSearchCV(estimator=pipeline,\n",
    "                            param_grid=param_grid,\n",
    "                            scoring='average_precision',\n",
    "                            cv=cv,\n",
    "                            verbose=True,\n",
    "                            n_jobs=-1)\n",
    "grid_search.fit(X_train, y_train)\n",
    "cv_score = grid_search.best_score_\n",
    "test_score = grid_search.score(X_test, y_test)\n",
    "print(f'Cross-validation score: {cv_score}\\nTest score: {test_score}')"
   ]
  },
  {
   "cell_type": "code",
   "execution_count": 8,
   "metadata": {},
   "outputs": [],
   "source": [
    "# Retreive best model \n",
    "optimal_logistic = grid_search.best_estimator_[\"classifier\"]"
   ]
  },
  {
   "cell_type": "code",
   "execution_count": 9,
   "metadata": {},
   "outputs": [
    {
     "data": {
      "text/plain": [
       "array([-2.96657097e-01, -5.86283800e-01, -2.80318795e+00, -5.96372051e-01,\n",
       "        2.09761240e-02,  4.28770477e-01,  8.11435062e-02, -5.56734067e-02,\n",
       "       -9.66676312e-02, -3.13927130e-01,  5.38974095e-02,  7.69917397e-02,\n",
       "        4.13221431e-01, -8.71408228e-01, -5.52185128e-01, -1.72769318e-02,\n",
       "       -6.60234757e-01,  1.86404027e+00, -1.07455530e+00,  1.06912298e-01,\n",
       "       -2.62326423e+00, -5.76274957e-01, -1.44607109e+00, -2.87884080e+00,\n",
       "       -1.16074675e+00,  9.49736408e-02, -4.67916074e-02, -7.05135119e-01,\n",
       "       -3.59766009e-01,  3.48769575e-01,  8.27025941e-02,  0.00000000e+00,\n",
       "       -4.51029412e-01,  4.52459381e-01,  2.63046396e+00, -9.95951162e-02,\n",
       "        9.62728684e-01, -5.92317509e-01,  7.25475238e-01,  1.18562413e-03])"
      ]
     },
     "execution_count": 9,
     "metadata": {},
     "output_type": "execute_result"
    }
   ],
   "source": [
    "grid_search.best_estimator_[\"classifier\"].coef_[0]"
   ]
  },
  {
   "cell_type": "code",
   "execution_count": 10,
   "metadata": {},
   "outputs": [
    {
     "data": {
      "text/plain": [
       "['logistic_forest.joblib']"
      ]
     },
     "execution_count": 10,
     "metadata": {},
     "output_type": "execute_result"
    }
   ],
   "source": [
    "dump(grid_search, 'logistic_forest.joblib') "
   ]
  },
  {
   "cell_type": "markdown",
   "metadata": {},
   "source": [
    "Let's see the effect of smote in the training set:"
   ]
  },
  {
   "cell_type": "markdown",
   "metadata": {},
   "source": [
    "### Logistic coefficients"
   ]
  },
  {
   "cell_type": "code",
   "execution_count": 11,
   "metadata": {},
   "outputs": [
    {
     "data": {
      "text/html": [
       "<div>\n",
       "<style scoped>\n",
       "    .dataframe tbody tr th:only-of-type {\n",
       "        vertical-align: middle;\n",
       "    }\n",
       "\n",
       "    .dataframe tbody tr th {\n",
       "        vertical-align: top;\n",
       "    }\n",
       "\n",
       "    .dataframe thead th {\n",
       "        text-align: right;\n",
       "    }\n",
       "</style>\n",
       "<table border=\"1\" class=\"dataframe\">\n",
       "  <thead>\n",
       "    <tr style=\"text-align: right;\">\n",
       "      <th></th>\n",
       "      <th>Predictor</th>\n",
       "      <th>Logistic COEF</th>\n",
       "    </tr>\n",
       "  </thead>\n",
       "  <tbody>\n",
       "    <tr>\n",
       "      <th>0</th>\n",
       "      <td>loan_amnt</td>\n",
       "      <td>-0.30</td>\n",
       "    </tr>\n",
       "    <tr>\n",
       "      <th>1</th>\n",
       "      <td>term</td>\n",
       "      <td>-0.59</td>\n",
       "    </tr>\n",
       "    <tr>\n",
       "      <th>2</th>\n",
       "      <td>sub_grade</td>\n",
       "      <td>-2.80</td>\n",
       "    </tr>\n",
       "    <tr>\n",
       "      <th>3</th>\n",
       "      <td>installment</td>\n",
       "      <td>-0.60</td>\n",
       "    </tr>\n",
       "    <tr>\n",
       "      <th>4</th>\n",
       "      <td>issue_d</td>\n",
       "      <td>0.02</td>\n",
       "    </tr>\n",
       "    <tr>\n",
       "      <th>5</th>\n",
       "      <td>annual_inc</td>\n",
       "      <td>0.43</td>\n",
       "    </tr>\n",
       "    <tr>\n",
       "      <th>6</th>\n",
       "      <td>emp_length</td>\n",
       "      <td>0.08</td>\n",
       "    </tr>\n",
       "    <tr>\n",
       "      <th>7</th>\n",
       "      <td>verification_status</td>\n",
       "      <td>-0.06</td>\n",
       "    </tr>\n",
       "    <tr>\n",
       "      <th>8</th>\n",
       "      <td>purpose</td>\n",
       "      <td>-0.10</td>\n",
       "    </tr>\n",
       "    <tr>\n",
       "      <th>9</th>\n",
       "      <td>home_ownership</td>\n",
       "      <td>-0.31</td>\n",
       "    </tr>\n",
       "    <tr>\n",
       "      <th>10</th>\n",
       "      <td>addr_state</td>\n",
       "      <td>0.05</td>\n",
       "    </tr>\n",
       "    <tr>\n",
       "      <th>11</th>\n",
       "      <td>zip_code</td>\n",
       "      <td>0.08</td>\n",
       "    </tr>\n",
       "    <tr>\n",
       "      <th>12</th>\n",
       "      <td>avg_cur_bal</td>\n",
       "      <td>0.41</td>\n",
       "    </tr>\n",
       "    <tr>\n",
       "      <th>13</th>\n",
       "      <td>delinq_2yrs</td>\n",
       "      <td>-0.87</td>\n",
       "    </tr>\n",
       "    <tr>\n",
       "      <th>14</th>\n",
       "      <td>delinq_amnt</td>\n",
       "      <td>-0.55</td>\n",
       "    </tr>\n",
       "    <tr>\n",
       "      <th>15</th>\n",
       "      <td>earliest_cr_line</td>\n",
       "      <td>-0.02</td>\n",
       "    </tr>\n",
       "    <tr>\n",
       "      <th>16</th>\n",
       "      <td>inq_last_6mths</td>\n",
       "      <td>-0.66</td>\n",
       "    </tr>\n",
       "    <tr>\n",
       "      <th>17</th>\n",
       "      <td>open_acc</td>\n",
       "      <td>1.86</td>\n",
       "    </tr>\n",
       "    <tr>\n",
       "      <th>18</th>\n",
       "      <td>open_il_12m</td>\n",
       "      <td>-1.07</td>\n",
       "    </tr>\n",
       "    <tr>\n",
       "      <th>19</th>\n",
       "      <td>num_accts_ever_120_pd</td>\n",
       "      <td>0.11</td>\n",
       "    </tr>\n",
       "    <tr>\n",
       "      <th>20</th>\n",
       "      <td>num_actv_bc_tl</td>\n",
       "      <td>-2.62</td>\n",
       "    </tr>\n",
       "    <tr>\n",
       "      <th>21</th>\n",
       "      <td>num_bc_tl</td>\n",
       "      <td>-0.58</td>\n",
       "    </tr>\n",
       "    <tr>\n",
       "      <th>22</th>\n",
       "      <td>num_il_tl</td>\n",
       "      <td>-1.45</td>\n",
       "    </tr>\n",
       "    <tr>\n",
       "      <th>23</th>\n",
       "      <td>num_op_rev_tl</td>\n",
       "      <td>-2.88</td>\n",
       "    </tr>\n",
       "    <tr>\n",
       "      <th>24</th>\n",
       "      <td>num_rev_accts</td>\n",
       "      <td>-1.16</td>\n",
       "    </tr>\n",
       "    <tr>\n",
       "      <th>25</th>\n",
       "      <td>num_tl_90g_dpd_24m</td>\n",
       "      <td>0.09</td>\n",
       "    </tr>\n",
       "    <tr>\n",
       "      <th>26</th>\n",
       "      <td>percent_bc_gt_75</td>\n",
       "      <td>-0.05</td>\n",
       "    </tr>\n",
       "    <tr>\n",
       "      <th>27</th>\n",
       "      <td>pub_rec</td>\n",
       "      <td>-0.71</td>\n",
       "    </tr>\n",
       "    <tr>\n",
       "      <th>28</th>\n",
       "      <td>pub_rec_bankruptcies</td>\n",
       "      <td>-0.36</td>\n",
       "    </tr>\n",
       "    <tr>\n",
       "      <th>29</th>\n",
       "      <td>revol_bal</td>\n",
       "      <td>0.35</td>\n",
       "    </tr>\n",
       "    <tr>\n",
       "      <th>30</th>\n",
       "      <td>revol_util</td>\n",
       "      <td>0.08</td>\n",
       "    </tr>\n",
       "    <tr>\n",
       "      <th>31</th>\n",
       "      <td>tax_liens</td>\n",
       "      <td>0.00</td>\n",
       "    </tr>\n",
       "    <tr>\n",
       "      <th>32</th>\n",
       "      <td>tot_cur_bal</td>\n",
       "      <td>-0.45</td>\n",
       "    </tr>\n",
       "    <tr>\n",
       "      <th>33</th>\n",
       "      <td>tot_hi_cred_lim</td>\n",
       "      <td>0.45</td>\n",
       "    </tr>\n",
       "    <tr>\n",
       "      <th>34</th>\n",
       "      <td>total_acc</td>\n",
       "      <td>2.63</td>\n",
       "    </tr>\n",
       "    <tr>\n",
       "      <th>35</th>\n",
       "      <td>total_bal_ex_mort</td>\n",
       "      <td>-0.10</td>\n",
       "    </tr>\n",
       "    <tr>\n",
       "      <th>36</th>\n",
       "      <td>total_bc_limit</td>\n",
       "      <td>0.96</td>\n",
       "    </tr>\n",
       "    <tr>\n",
       "      <th>37</th>\n",
       "      <td>revol_bal_joint</td>\n",
       "      <td>-0.59</td>\n",
       "    </tr>\n",
       "    <tr>\n",
       "      <th>38</th>\n",
       "      <td>annual_inc_joint</td>\n",
       "      <td>0.73</td>\n",
       "    </tr>\n",
       "    <tr>\n",
       "      <th>39</th>\n",
       "      <td>verification_status_joint</td>\n",
       "      <td>0.00</td>\n",
       "    </tr>\n",
       "  </tbody>\n",
       "</table>\n",
       "</div>"
      ],
      "text/plain": [
       "                    Predictor  Logistic COEF\n",
       "0                   loan_amnt          -0.30\n",
       "1                        term          -0.59\n",
       "2                   sub_grade          -2.80\n",
       "3                 installment          -0.60\n",
       "4                     issue_d           0.02\n",
       "5                  annual_inc           0.43\n",
       "6                  emp_length           0.08\n",
       "7         verification_status          -0.06\n",
       "8                     purpose          -0.10\n",
       "9              home_ownership          -0.31\n",
       "10                 addr_state           0.05\n",
       "11                   zip_code           0.08\n",
       "12                avg_cur_bal           0.41\n",
       "13                delinq_2yrs          -0.87\n",
       "14                delinq_amnt          -0.55\n",
       "15           earliest_cr_line          -0.02\n",
       "16             inq_last_6mths          -0.66\n",
       "17                   open_acc           1.86\n",
       "18                open_il_12m          -1.07\n",
       "19      num_accts_ever_120_pd           0.11\n",
       "20             num_actv_bc_tl          -2.62\n",
       "21                  num_bc_tl          -0.58\n",
       "22                  num_il_tl          -1.45\n",
       "23              num_op_rev_tl          -2.88\n",
       "24              num_rev_accts          -1.16\n",
       "25         num_tl_90g_dpd_24m           0.09\n",
       "26           percent_bc_gt_75          -0.05\n",
       "27                    pub_rec          -0.71\n",
       "28       pub_rec_bankruptcies          -0.36\n",
       "29                  revol_bal           0.35\n",
       "30                 revol_util           0.08\n",
       "31                  tax_liens           0.00\n",
       "32                tot_cur_bal          -0.45\n",
       "33            tot_hi_cred_lim           0.45\n",
       "34                  total_acc           2.63\n",
       "35          total_bal_ex_mort          -0.10\n",
       "36             total_bc_limit           0.96\n",
       "37            revol_bal_joint          -0.59\n",
       "38           annual_inc_joint           0.73\n",
       "39  verification_status_joint           0.00"
      ]
     },
     "execution_count": 11,
     "metadata": {},
     "output_type": "execute_result"
    }
   ],
   "source": [
    "list_tuples = list(zip(variables, np.round(optimal_logistic.coef_[0], 2)))\n",
    "coef_df = pd.DataFrame(list_tuples, columns =['Predictor', 'Logistic COEF'])\n",
    "coef_df"
   ]
  },
  {
   "cell_type": "markdown",
   "metadata": {},
   "source": [
    "### Omitted predictors by Logistic model\n",
    "\n",
    "Note that we are using l1 norm as penalty in the logistic model. Therefore, the shrinkage is performed, allogwing variable selection."
   ]
  },
  {
   "cell_type": "code",
   "execution_count": 4,
   "metadata": {},
   "outputs": [
    {
     "data": {
      "text/html": [
       "<div>\n",
       "<style scoped>\n",
       "    .dataframe tbody tr th:only-of-type {\n",
       "        vertical-align: middle;\n",
       "    }\n",
       "\n",
       "    .dataframe tbody tr th {\n",
       "        vertical-align: top;\n",
       "    }\n",
       "\n",
       "    .dataframe thead th {\n",
       "        text-align: right;\n",
       "    }\n",
       "</style>\n",
       "<table border=\"1\" class=\"dataframe\">\n",
       "  <thead>\n",
       "    <tr style=\"text-align: right;\">\n",
       "      <th></th>\n",
       "      <th>Predictor</th>\n",
       "      <th>Logistic COEF</th>\n",
       "    </tr>\n",
       "  </thead>\n",
       "  <tbody>\n",
       "    <tr>\n",
       "      <th>31</th>\n",
       "      <td>tax_liens</td>\n",
       "      <td>0.0</td>\n",
       "    </tr>\n",
       "    <tr>\n",
       "      <th>39</th>\n",
       "      <td>verification_status_joint</td>\n",
       "      <td>0.0</td>\n",
       "    </tr>\n",
       "  </tbody>\n",
       "</table>\n",
       "</div>"
      ],
      "text/plain": [
       "                    Predictor  Logistic COEF\n",
       "31                  tax_liens            0.0\n",
       "39  verification_status_joint            0.0"
      ]
     },
     "execution_count": 4,
     "metadata": {},
     "output_type": "execute_result"
    }
   ],
   "source": [
    "# Omitted\n",
    "coef_df[coef_df['Logistic COEF'] == 0]"
   ]
  },
  {
   "cell_type": "markdown",
   "metadata": {},
   "source": [
    "### Selected predictors by Logistic model"
   ]
  },
  {
   "cell_type": "code",
   "execution_count": 13,
   "metadata": {},
   "outputs": [
    {
     "data": {
      "text/html": [
       "<div>\n",
       "<style scoped>\n",
       "    .dataframe tbody tr th:only-of-type {\n",
       "        vertical-align: middle;\n",
       "    }\n",
       "\n",
       "    .dataframe tbody tr th {\n",
       "        vertical-align: top;\n",
       "    }\n",
       "\n",
       "    .dataframe thead th {\n",
       "        text-align: right;\n",
       "    }\n",
       "</style>\n",
       "<table border=\"1\" class=\"dataframe\">\n",
       "  <thead>\n",
       "    <tr style=\"text-align: right;\">\n",
       "      <th></th>\n",
       "      <th>Predictor</th>\n",
       "      <th>Logistic COEF</th>\n",
       "    </tr>\n",
       "  </thead>\n",
       "  <tbody>\n",
       "    <tr>\n",
       "      <th>0</th>\n",
       "      <td>loan_amnt</td>\n",
       "      <td>-0.30</td>\n",
       "    </tr>\n",
       "    <tr>\n",
       "      <th>1</th>\n",
       "      <td>term</td>\n",
       "      <td>-0.59</td>\n",
       "    </tr>\n",
       "    <tr>\n",
       "      <th>2</th>\n",
       "      <td>sub_grade</td>\n",
       "      <td>-2.80</td>\n",
       "    </tr>\n",
       "    <tr>\n",
       "      <th>3</th>\n",
       "      <td>installment</td>\n",
       "      <td>-0.60</td>\n",
       "    </tr>\n",
       "    <tr>\n",
       "      <th>4</th>\n",
       "      <td>issue_d</td>\n",
       "      <td>0.02</td>\n",
       "    </tr>\n",
       "    <tr>\n",
       "      <th>5</th>\n",
       "      <td>annual_inc</td>\n",
       "      <td>0.43</td>\n",
       "    </tr>\n",
       "    <tr>\n",
       "      <th>6</th>\n",
       "      <td>emp_length</td>\n",
       "      <td>0.08</td>\n",
       "    </tr>\n",
       "    <tr>\n",
       "      <th>7</th>\n",
       "      <td>verification_status</td>\n",
       "      <td>-0.06</td>\n",
       "    </tr>\n",
       "    <tr>\n",
       "      <th>8</th>\n",
       "      <td>purpose</td>\n",
       "      <td>-0.10</td>\n",
       "    </tr>\n",
       "    <tr>\n",
       "      <th>9</th>\n",
       "      <td>home_ownership</td>\n",
       "      <td>-0.31</td>\n",
       "    </tr>\n",
       "    <tr>\n",
       "      <th>10</th>\n",
       "      <td>addr_state</td>\n",
       "      <td>0.05</td>\n",
       "    </tr>\n",
       "    <tr>\n",
       "      <th>11</th>\n",
       "      <td>zip_code</td>\n",
       "      <td>0.08</td>\n",
       "    </tr>\n",
       "    <tr>\n",
       "      <th>12</th>\n",
       "      <td>avg_cur_bal</td>\n",
       "      <td>0.41</td>\n",
       "    </tr>\n",
       "    <tr>\n",
       "      <th>13</th>\n",
       "      <td>delinq_2yrs</td>\n",
       "      <td>-0.87</td>\n",
       "    </tr>\n",
       "    <tr>\n",
       "      <th>14</th>\n",
       "      <td>delinq_amnt</td>\n",
       "      <td>-0.55</td>\n",
       "    </tr>\n",
       "    <tr>\n",
       "      <th>15</th>\n",
       "      <td>earliest_cr_line</td>\n",
       "      <td>-0.02</td>\n",
       "    </tr>\n",
       "    <tr>\n",
       "      <th>16</th>\n",
       "      <td>inq_last_6mths</td>\n",
       "      <td>-0.66</td>\n",
       "    </tr>\n",
       "    <tr>\n",
       "      <th>17</th>\n",
       "      <td>open_acc</td>\n",
       "      <td>1.86</td>\n",
       "    </tr>\n",
       "    <tr>\n",
       "      <th>18</th>\n",
       "      <td>open_il_12m</td>\n",
       "      <td>-1.07</td>\n",
       "    </tr>\n",
       "    <tr>\n",
       "      <th>19</th>\n",
       "      <td>num_accts_ever_120_pd</td>\n",
       "      <td>0.11</td>\n",
       "    </tr>\n",
       "    <tr>\n",
       "      <th>20</th>\n",
       "      <td>num_actv_bc_tl</td>\n",
       "      <td>-2.62</td>\n",
       "    </tr>\n",
       "    <tr>\n",
       "      <th>21</th>\n",
       "      <td>num_bc_tl</td>\n",
       "      <td>-0.58</td>\n",
       "    </tr>\n",
       "    <tr>\n",
       "      <th>22</th>\n",
       "      <td>num_il_tl</td>\n",
       "      <td>-1.45</td>\n",
       "    </tr>\n",
       "    <tr>\n",
       "      <th>23</th>\n",
       "      <td>num_op_rev_tl</td>\n",
       "      <td>-2.88</td>\n",
       "    </tr>\n",
       "    <tr>\n",
       "      <th>24</th>\n",
       "      <td>num_rev_accts</td>\n",
       "      <td>-1.16</td>\n",
       "    </tr>\n",
       "    <tr>\n",
       "      <th>25</th>\n",
       "      <td>num_tl_90g_dpd_24m</td>\n",
       "      <td>0.09</td>\n",
       "    </tr>\n",
       "    <tr>\n",
       "      <th>26</th>\n",
       "      <td>percent_bc_gt_75</td>\n",
       "      <td>-0.05</td>\n",
       "    </tr>\n",
       "    <tr>\n",
       "      <th>27</th>\n",
       "      <td>pub_rec</td>\n",
       "      <td>-0.71</td>\n",
       "    </tr>\n",
       "    <tr>\n",
       "      <th>28</th>\n",
       "      <td>pub_rec_bankruptcies</td>\n",
       "      <td>-0.36</td>\n",
       "    </tr>\n",
       "    <tr>\n",
       "      <th>29</th>\n",
       "      <td>revol_bal</td>\n",
       "      <td>0.35</td>\n",
       "    </tr>\n",
       "    <tr>\n",
       "      <th>30</th>\n",
       "      <td>revol_util</td>\n",
       "      <td>0.08</td>\n",
       "    </tr>\n",
       "    <tr>\n",
       "      <th>32</th>\n",
       "      <td>tot_cur_bal</td>\n",
       "      <td>-0.45</td>\n",
       "    </tr>\n",
       "    <tr>\n",
       "      <th>33</th>\n",
       "      <td>tot_hi_cred_lim</td>\n",
       "      <td>0.45</td>\n",
       "    </tr>\n",
       "    <tr>\n",
       "      <th>34</th>\n",
       "      <td>total_acc</td>\n",
       "      <td>2.63</td>\n",
       "    </tr>\n",
       "    <tr>\n",
       "      <th>35</th>\n",
       "      <td>total_bal_ex_mort</td>\n",
       "      <td>-0.10</td>\n",
       "    </tr>\n",
       "    <tr>\n",
       "      <th>36</th>\n",
       "      <td>total_bc_limit</td>\n",
       "      <td>0.96</td>\n",
       "    </tr>\n",
       "    <tr>\n",
       "      <th>37</th>\n",
       "      <td>revol_bal_joint</td>\n",
       "      <td>-0.59</td>\n",
       "    </tr>\n",
       "    <tr>\n",
       "      <th>38</th>\n",
       "      <td>annual_inc_joint</td>\n",
       "      <td>0.73</td>\n",
       "    </tr>\n",
       "  </tbody>\n",
       "</table>\n",
       "</div>"
      ],
      "text/plain": [
       "                Predictor  Logistic COEF\n",
       "0               loan_amnt          -0.30\n",
       "1                    term          -0.59\n",
       "2               sub_grade          -2.80\n",
       "3             installment          -0.60\n",
       "4                 issue_d           0.02\n",
       "5              annual_inc           0.43\n",
       "6              emp_length           0.08\n",
       "7     verification_status          -0.06\n",
       "8                 purpose          -0.10\n",
       "9          home_ownership          -0.31\n",
       "10             addr_state           0.05\n",
       "11               zip_code           0.08\n",
       "12            avg_cur_bal           0.41\n",
       "13            delinq_2yrs          -0.87\n",
       "14            delinq_amnt          -0.55\n",
       "15       earliest_cr_line          -0.02\n",
       "16         inq_last_6mths          -0.66\n",
       "17               open_acc           1.86\n",
       "18            open_il_12m          -1.07\n",
       "19  num_accts_ever_120_pd           0.11\n",
       "20         num_actv_bc_tl          -2.62\n",
       "21              num_bc_tl          -0.58\n",
       "22              num_il_tl          -1.45\n",
       "23          num_op_rev_tl          -2.88\n",
       "24          num_rev_accts          -1.16\n",
       "25     num_tl_90g_dpd_24m           0.09\n",
       "26       percent_bc_gt_75          -0.05\n",
       "27                pub_rec          -0.71\n",
       "28   pub_rec_bankruptcies          -0.36\n",
       "29              revol_bal           0.35\n",
       "30             revol_util           0.08\n",
       "32            tot_cur_bal          -0.45\n",
       "33        tot_hi_cred_lim           0.45\n",
       "34              total_acc           2.63\n",
       "35      total_bal_ex_mort          -0.10\n",
       "36         total_bc_limit           0.96\n",
       "37        revol_bal_joint          -0.59\n",
       "38       annual_inc_joint           0.73"
      ]
     },
     "execution_count": 13,
     "metadata": {},
     "output_type": "execute_result"
    }
   ],
   "source": [
    "# Selected\n",
    "coef_df[coef_df['Logistic COEF'] != 0]"
   ]
  },
  {
   "cell_type": "code",
   "execution_count": 14,
   "metadata": {},
   "outputs": [],
   "source": [
    "\n",
    "dill.dump_session('logistic_forest-2.db')"
   ]
  },
  {
   "cell_type": "markdown",
   "metadata": {},
   "source": [
    "### Retrieve oversampled dataset "
   ]
  },
  {
   "cell_type": "code",
   "execution_count": 14,
   "metadata": {},
   "outputs": [],
   "source": [
    "smote_oversampler = grid_search.best_estimator_[\"smote\"]\n",
    "smote_x, smote_y = smote_oversampler.fit_resample(df.drop(['loan_status'], axis=1), df['loan_status'])"
   ]
  },
  {
   "cell_type": "code",
   "execution_count": 15,
   "metadata": {},
   "outputs": [
    {
     "data": {
      "image/png": "[encoded data removed]",
      "text/plain": [
       "<Figure size 720x576 with 1 Axes>"
      ]
     },
     "metadata": {
      "needs_background": "light"
     },
     "output_type": "display_data"
    }
   ],
   "source": [
    "df_smote = pd.DataFrame(smote_x, columns = variables)\n",
    "df_smote['loan_status'] = smote_y\n",
    "fig, ax = plt.subplots(figsize=(10, 8))\n",
    "df_smote['loan_status'].value_counts().plot(kind='bar', ax=ax, fontsize=14)\n",
    "ax.set_title('SMOTE Dataset', fontsize=16)\n",
    "ax.set_ylabel('Observation counts', fontsize=14)\n",
    "ax.set_xlabel('Class', fontsize=14)\n",
    "plt.show()"
   ]
  },
  {
   "cell_type": "code",
   "execution_count": 16,
   "metadata": {},
   "outputs": [
    {
     "name": "stderr",
     "output_type": "stream",
     "text": [
      "/usr/local/lib/python3.9/site-packages/sklearn/utils/deprecation.py:87: FutureWarning: Function plot_roc_curve is deprecated; Function :func:`plot_roc_curve` is deprecated in 1.0 and will be removed in 1.2. Use one of the class methods: :meth:`sklearn.metric.RocCurveDisplay.from_predictions` or :meth:`sklearn.metric.RocCurveDisplay.from_estimator`.\n",
      "  warnings.warn(msg, category=FutureWarning)\n",
      "/usr/local/lib/python3.9/site-packages/sklearn/base.py:443: UserWarning: X has feature names, but LogisticRegression was fitted without feature names\n",
      "  warnings.warn(\n",
      "/usr/local/lib/python3.9/site-packages/sklearn/utils/deprecation.py:87: FutureWarning: Function plot_precision_recall_curve is deprecated; Function `plot_precision_recall_curve` is deprecated in 1.0 and will be removed in 1.2. Use one of the class methods: PrecisionRecallDisplay.from_predictions or PrecisionRecallDisplay.from_estimator.\n",
      "  warnings.warn(msg, category=FutureWarning)\n",
      "/usr/local/lib/python3.9/site-packages/sklearn/base.py:443: UserWarning: X has feature names, but LogisticRegression was fitted without feature names\n",
      "  warnings.warn(\n"
     ]
    },
    {
     "data": {
      "image/png": "[encoded data removed]",
      "text/plain": [
       "<Figure size 1080x720 with 2 Axes>"
      ]
     },
     "metadata": {
      "needs_background": "light"
     },
     "output_type": "display_data"
    }
   ],
   "source": [
    "plot_roc_precision(optimal_logistic, df_smote)"
   ]
  },
  {
   "cell_type": "code",
   "execution_count": null,
   "metadata": {},
   "outputs": [],
   "source": []
  }
 ],
 "metadata": {
  "kernelspec": {
   "display_name": "Python 3 (ipykernel)",
   "language": "python",
   "name": "python3"
  },
  "language_info": {
   "codemirror_mode": {
    "name": "ipython",
    "version": 3
   },
   "file_extension": ".py",
   "mimetype": "text/x-python",
   "name": "python",
   "nbconvert_exporter": "python",
   "pygments_lexer": "ipython3",
   "version": "3.9.7"
  }
 },
 "nbformat": 4,
 "nbformat_minor": 1
}
