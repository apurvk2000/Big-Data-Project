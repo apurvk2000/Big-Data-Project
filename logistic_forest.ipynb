{
 "cells": [
  {
   "cell_type": "markdown",
   "metadata": {},
   "source": [
    "## Import modules"
   ]
  },
  {
   "cell_type": "code",
   "execution_count": 1,
   "metadata": {
    "pycharm": {
     "name": "#%%\n"
    }
   },
   "outputs": [],
   "source": [
    "import imblearn\n",
    "import pandas as pd\n",
    "import seaborn as sns\n",
    "import dill\n",
    "import matplotlib.pyplot as plt\n",
    "import numpy as np\n",
    "import time\n",
    "\n",
    "\n",
    "from sklearn.preprocessing import MinMaxScaler\n",
    "from sklearn.model_selection import train_test_split, KFold, GridSearchCV, RandomizedSearchCV\n",
    "from sklearn.linear_model import LogisticRegression\n",
    "from sklearn import preprocessing\n",
    "from sklearn.metrics import plot_precision_recall_curve, plot_roc_curve, confusion_matrix\n",
    "from imblearn.pipeline import Pipeline as imbpipeline\n",
    "from imblearn.over_sampling import SMOTE\n",
    "from sklearn.ensemble import RandomForestClassifier\n",
    "from sklearn.metrics import plot_confusion_matrix"
   ]
  },
  {
   "cell_type": "markdown",
   "metadata": {},
   "source": [
    "## Data loading"
   ]
  },
  {
   "cell_type": "code",
   "execution_count": 2,
   "metadata": {
    "pycharm": {
     "name": "#%%\n"
    }
   },
   "outputs": [],
   "source": [
    "random_state=809\n",
    "# Load data from sources\n",
    "data=pd.read_csv('/Users/ignacioaranguren/Library/Mobile Documents/com~apple~CloudDocs/Imperial/modules/spring_term/big_data/Assignments/Big-Data-Project/Lending_Club_Data.csv')\n",
    "# Load jupyter session\n",
    "dill.load_session('/Users/ignacioaranguren/Library/Mobile Documents/com~apple~CloudDocs/Imperial/modules/spring_term/big_data/Assignments/Big-Data-Project/logistic_forest.db')\n",
    "# Create test andd train\n",
    "random_state = 809"
   ]
  },
  {
   "cell_type": "markdown",
   "metadata": {},
   "source": [
    "## Data preprocessing"
   ]
  },
  {
   "cell_type": "code",
   "execution_count": 3,
   "metadata": {
    "pycharm": {
     "name": "#%%\n"
    }
   },
   "outputs": [
    {
     "data": {
      "text/html": [
       "<div>\n",
       "<style scoped>\n",
       "    .dataframe tbody tr th:only-of-type {\n",
       "        vertical-align: middle;\n",
       "    }\n",
       "\n",
       "    .dataframe tbody tr th {\n",
       "        vertical-align: top;\n",
       "    }\n",
       "\n",
       "    .dataframe thead th {\n",
       "        text-align: right;\n",
       "    }\n",
       "</style>\n",
       "<table border=\"1\" class=\"dataframe\">\n",
       "  <thead>\n",
       "    <tr style=\"text-align: right;\">\n",
       "      <th></th>\n",
       "      <th>loan_status</th>\n",
       "      <th>loan_amnt</th>\n",
       "      <th>term</th>\n",
       "      <th>sub_grade</th>\n",
       "      <th>installment</th>\n",
       "      <th>issue_d</th>\n",
       "      <th>annual_inc</th>\n",
       "      <th>emp_length</th>\n",
       "      <th>verification_status</th>\n",
       "      <th>purpose</th>\n",
       "      <th>...</th>\n",
       "      <th>revol_util</th>\n",
       "      <th>tax_liens</th>\n",
       "      <th>tot_cur_bal</th>\n",
       "      <th>tot_hi_cred_lim</th>\n",
       "      <th>total_acc</th>\n",
       "      <th>total_bal_ex_mort</th>\n",
       "      <th>total_bc_limit</th>\n",
       "      <th>revol_bal_joint</th>\n",
       "      <th>annual_inc_joint</th>\n",
       "      <th>verification_status_joint</th>\n",
       "    </tr>\n",
       "  </thead>\n",
       "  <tbody>\n",
       "    <tr>\n",
       "      <th>0</th>\n",
       "      <td>1.0</td>\n",
       "      <td>1320.0</td>\n",
       "      <td>1.0</td>\n",
       "      <td>15.0</td>\n",
       "      <td>53744.0</td>\n",
       "      <td>0.0</td>\n",
       "      <td>38792.0</td>\n",
       "      <td>3.0</td>\n",
       "      <td>2.0</td>\n",
       "      <td>2.0</td>\n",
       "      <td>...</td>\n",
       "      <td>1083.0</td>\n",
       "      <td>0.0</td>\n",
       "      <td>333044.0</td>\n",
       "      <td>352334.0</td>\n",
       "      <td>29.0</td>\n",
       "      <td>144867.0</td>\n",
       "      <td>1008.0</td>\n",
       "      <td>0.0</td>\n",
       "      <td>0.0</td>\n",
       "      <td>0.0</td>\n",
       "    </tr>\n",
       "    <tr>\n",
       "      <th>1</th>\n",
       "      <td>0.0</td>\n",
       "      <td>760.0</td>\n",
       "      <td>1.0</td>\n",
       "      <td>12.0</td>\n",
       "      <td>30020.0</td>\n",
       "      <td>0.0</td>\n",
       "      <td>16885.0</td>\n",
       "      <td>3.0</td>\n",
       "      <td>2.0</td>\n",
       "      <td>2.0</td>\n",
       "      <td>...</td>\n",
       "      <td>924.0</td>\n",
       "      <td>0.0</td>\n",
       "      <td>125061.0</td>\n",
       "      <td>262323.0</td>\n",
       "      <td>29.0</td>\n",
       "      <td>30574.0</td>\n",
       "      <td>875.0</td>\n",
       "      <td>0.0</td>\n",
       "      <td>0.0</td>\n",
       "      <td>0.0</td>\n",
       "    </tr>\n",
       "    <tr>\n",
       "      <th>2</th>\n",
       "      <td>0.0</td>\n",
       "      <td>560.0</td>\n",
       "      <td>1.0</td>\n",
       "      <td>19.0</td>\n",
       "      <td>24962.0</td>\n",
       "      <td>0.0</td>\n",
       "      <td>27275.0</td>\n",
       "      <td>1.0</td>\n",
       "      <td>0.0</td>\n",
       "      <td>2.0</td>\n",
       "      <td>...</td>\n",
       "      <td>1188.0</td>\n",
       "      <td>0.0</td>\n",
       "      <td>13020.0</td>\n",
       "      <td>3148.0</td>\n",
       "      <td>5.0</td>\n",
       "      <td>13061.0</td>\n",
       "      <td>744.0</td>\n",
       "      <td>0.0</td>\n",
       "      <td>0.0</td>\n",
       "      <td>0.0</td>\n",
       "    </tr>\n",
       "    <tr>\n",
       "      <th>3</th>\n",
       "      <td>0.0</td>\n",
       "      <td>408.0</td>\n",
       "      <td>0.0</td>\n",
       "      <td>10.0</td>\n",
       "      <td>23288.0</td>\n",
       "      <td>0.0</td>\n",
       "      <td>32096.0</td>\n",
       "      <td>2.0</td>\n",
       "      <td>1.0</td>\n",
       "      <td>2.0</td>\n",
       "      <td>...</td>\n",
       "      <td>713.0</td>\n",
       "      <td>0.0</td>\n",
       "      <td>89648.0</td>\n",
       "      <td>78688.0</td>\n",
       "      <td>23.0</td>\n",
       "      <td>91867.0</td>\n",
       "      <td>435.0</td>\n",
       "      <td>0.0</td>\n",
       "      <td>0.0</td>\n",
       "      <td>0.0</td>\n",
       "    </tr>\n",
       "    <tr>\n",
       "      <th>4</th>\n",
       "      <td>0.0</td>\n",
       "      <td>623.0</td>\n",
       "      <td>0.0</td>\n",
       "      <td>8.0</td>\n",
       "      <td>35716.0</td>\n",
       "      <td>0.0</td>\n",
       "      <td>13341.0</td>\n",
       "      <td>11.0</td>\n",
       "      <td>0.0</td>\n",
       "      <td>2.0</td>\n",
       "      <td>...</td>\n",
       "      <td>325.0</td>\n",
       "      <td>0.0</td>\n",
       "      <td>15830.0</td>\n",
       "      <td>68466.0</td>\n",
       "      <td>13.0</td>\n",
       "      <td>15871.0</td>\n",
       "      <td>4067.0</td>\n",
       "      <td>0.0</td>\n",
       "      <td>0.0</td>\n",
       "      <td>0.0</td>\n",
       "    </tr>\n",
       "    <tr>\n",
       "      <th>5</th>\n",
       "      <td>0.0</td>\n",
       "      <td>1160.0</td>\n",
       "      <td>1.0</td>\n",
       "      <td>18.0</td>\n",
       "      <td>50840.0</td>\n",
       "      <td>0.0</td>\n",
       "      <td>22400.0</td>\n",
       "      <td>7.0</td>\n",
       "      <td>2.0</td>\n",
       "      <td>8.0</td>\n",
       "      <td>...</td>\n",
       "      <td>455.0</td>\n",
       "      <td>0.0</td>\n",
       "      <td>9677.0</td>\n",
       "      <td>15605.0</td>\n",
       "      <td>7.0</td>\n",
       "      <td>9717.0</td>\n",
       "      <td>1424.0</td>\n",
       "      <td>0.0</td>\n",
       "      <td>0.0</td>\n",
       "      <td>0.0</td>\n",
       "    </tr>\n",
       "    <tr>\n",
       "      <th>6</th>\n",
       "      <td>0.0</td>\n",
       "      <td>560.0</td>\n",
       "      <td>0.0</td>\n",
       "      <td>17.0</td>\n",
       "      <td>35958.0</td>\n",
       "      <td>0.0</td>\n",
       "      <td>33120.0</td>\n",
       "      <td>0.0</td>\n",
       "      <td>0.0</td>\n",
       "      <td>10.0</td>\n",
       "      <td>...</td>\n",
       "      <td>536.0</td>\n",
       "      <td>0.0</td>\n",
       "      <td>90505.0</td>\n",
       "      <td>110099.0</td>\n",
       "      <td>21.0</td>\n",
       "      <td>92790.0</td>\n",
       "      <td>232.0</td>\n",
       "      <td>0.0</td>\n",
       "      <td>0.0</td>\n",
       "      <td>0.0</td>\n",
       "    </tr>\n",
       "    <tr>\n",
       "      <th>7</th>\n",
       "      <td>0.0</td>\n",
       "      <td>560.0</td>\n",
       "      <td>0.0</td>\n",
       "      <td>0.0</td>\n",
       "      <td>29280.0</td>\n",
       "      <td>0.0</td>\n",
       "      <td>29364.0</td>\n",
       "      <td>2.0</td>\n",
       "      <td>0.0</td>\n",
       "      <td>1.0</td>\n",
       "      <td>...</td>\n",
       "      <td>689.0</td>\n",
       "      <td>0.0</td>\n",
       "      <td>109098.0</td>\n",
       "      <td>113261.0</td>\n",
       "      <td>22.0</td>\n",
       "      <td>112214.0</td>\n",
       "      <td>1721.0</td>\n",
       "      <td>0.0</td>\n",
       "      <td>0.0</td>\n",
       "      <td>0.0</td>\n",
       "    </tr>\n",
       "    <tr>\n",
       "      <th>8</th>\n",
       "      <td>0.0</td>\n",
       "      <td>361.0</td>\n",
       "      <td>0.0</td>\n",
       "      <td>33.0</td>\n",
       "      <td>26810.0</td>\n",
       "      <td>0.0</td>\n",
       "      <td>25396.0</td>\n",
       "      <td>11.0</td>\n",
       "      <td>0.0</td>\n",
       "      <td>10.0</td>\n",
       "      <td>...</td>\n",
       "      <td>838.0</td>\n",
       "      <td>0.0</td>\n",
       "      <td>40488.0</td>\n",
       "      <td>33881.0</td>\n",
       "      <td>7.0</td>\n",
       "      <td>40537.0</td>\n",
       "      <td>477.0</td>\n",
       "      <td>0.0</td>\n",
       "      <td>0.0</td>\n",
       "      <td>0.0</td>\n",
       "    </tr>\n",
       "    <tr>\n",
       "      <th>9</th>\n",
       "      <td>0.0</td>\n",
       "      <td>80.0</td>\n",
       "      <td>0.0</td>\n",
       "      <td>16.0</td>\n",
       "      <td>4003.0</td>\n",
       "      <td>0.0</td>\n",
       "      <td>3618.0</td>\n",
       "      <td>4.0</td>\n",
       "      <td>2.0</td>\n",
       "      <td>9.0</td>\n",
       "      <td>...</td>\n",
       "      <td>841.0</td>\n",
       "      <td>0.0</td>\n",
       "      <td>7003.0</td>\n",
       "      <td>1999.0</td>\n",
       "      <td>11.0</td>\n",
       "      <td>7043.0</td>\n",
       "      <td>134.0</td>\n",
       "      <td>0.0</td>\n",
       "      <td>0.0</td>\n",
       "      <td>0.0</td>\n",
       "    </tr>\n",
       "  </tbody>\n",
       "</table>\n",
       "<p>10 rows × 41 columns</p>\n",
       "</div>"
      ],
      "text/plain": [
       "   loan_status  loan_amnt  term  sub_grade  installment  issue_d  annual_inc  \\\n",
       "0          1.0     1320.0   1.0       15.0      53744.0      0.0     38792.0   \n",
       "1          0.0      760.0   1.0       12.0      30020.0      0.0     16885.0   \n",
       "2          0.0      560.0   1.0       19.0      24962.0      0.0     27275.0   \n",
       "3          0.0      408.0   0.0       10.0      23288.0      0.0     32096.0   \n",
       "4          0.0      623.0   0.0        8.0      35716.0      0.0     13341.0   \n",
       "5          0.0     1160.0   1.0       18.0      50840.0      0.0     22400.0   \n",
       "6          0.0      560.0   0.0       17.0      35958.0      0.0     33120.0   \n",
       "7          0.0      560.0   0.0        0.0      29280.0      0.0     29364.0   \n",
       "8          0.0      361.0   0.0       33.0      26810.0      0.0     25396.0   \n",
       "9          0.0       80.0   0.0       16.0       4003.0      0.0      3618.0   \n",
       "\n",
       "   emp_length  verification_status  purpose  ...  revol_util  tax_liens  \\\n",
       "0         3.0                  2.0      2.0  ...      1083.0        0.0   \n",
       "1         3.0                  2.0      2.0  ...       924.0        0.0   \n",
       "2         1.0                  0.0      2.0  ...      1188.0        0.0   \n",
       "3         2.0                  1.0      2.0  ...       713.0        0.0   \n",
       "4        11.0                  0.0      2.0  ...       325.0        0.0   \n",
       "5         7.0                  2.0      8.0  ...       455.0        0.0   \n",
       "6         0.0                  0.0     10.0  ...       536.0        0.0   \n",
       "7         2.0                  0.0      1.0  ...       689.0        0.0   \n",
       "8        11.0                  0.0     10.0  ...       838.0        0.0   \n",
       "9         4.0                  2.0      9.0  ...       841.0        0.0   \n",
       "\n",
       "   tot_cur_bal  tot_hi_cred_lim  total_acc  total_bal_ex_mort  total_bc_limit  \\\n",
       "0     333044.0         352334.0       29.0           144867.0          1008.0   \n",
       "1     125061.0         262323.0       29.0            30574.0           875.0   \n",
       "2      13020.0           3148.0        5.0            13061.0           744.0   \n",
       "3      89648.0          78688.0       23.0            91867.0           435.0   \n",
       "4      15830.0          68466.0       13.0            15871.0          4067.0   \n",
       "5       9677.0          15605.0        7.0             9717.0          1424.0   \n",
       "6      90505.0         110099.0       21.0            92790.0           232.0   \n",
       "7     109098.0         113261.0       22.0           112214.0          1721.0   \n",
       "8      40488.0          33881.0        7.0            40537.0           477.0   \n",
       "9       7003.0           1999.0       11.0             7043.0           134.0   \n",
       "\n",
       "   revol_bal_joint  annual_inc_joint  verification_status_joint  \n",
       "0              0.0               0.0                        0.0  \n",
       "1              0.0               0.0                        0.0  \n",
       "2              0.0               0.0                        0.0  \n",
       "3              0.0               0.0                        0.0  \n",
       "4              0.0               0.0                        0.0  \n",
       "5              0.0               0.0                        0.0  \n",
       "6              0.0               0.0                        0.0  \n",
       "7              0.0               0.0                        0.0  \n",
       "8              0.0               0.0                        0.0  \n",
       "9              0.0               0.0                        0.0  \n",
       "\n",
       "[10 rows x 41 columns]"
      ]
     },
     "execution_count": 3,
     "metadata": {},
     "output_type": "execute_result"
    }
   ],
   "source": [
    "# Data cleaning and processing\n",
    "data = data.fillna(0) # Fill na values with 0\n",
    "for i in data.columns:  # Transform non-numeric types to string\n",
    "    if data[i].dtypes == 'object':\n",
    "        data[i] = data[i].astype('str')\n",
    "# Enumerating categorical data\n",
    "encoder = preprocessing.OrdinalEncoder()\n",
    "encoder.fit(data)\n",
    "data_encoded = encoder.transform(data)\n",
    "# Dataframe creation\n",
    "df = pd.DataFrame(data_encoded,columns=data.columns)\n",
    "df = df.drop([\"dti\", \"dti_joint\", \"emp_title\", \"dti_joint.1\", \"loan_id\", \"int_rate\", \"total_pymnt\", \"total_rec_int\",\n",
    "              \"total_rec_late_fee\", \"total_rec_prncp\", \"recoveries\"], axis=1)\n",
    "variables = list(df.columns)\n",
    "variables.remove('loan_status')\n",
    "df.head(10)"
   ]
  },
  {
   "cell_type": "markdown",
   "metadata": {},
   "source": [
    "## Original dataset reduction for reduced models"
   ]
  },
  {
   "cell_type": "code",
   "execution_count": 101,
   "metadata": {},
   "outputs": [
    {
     "name": "stdout",
     "output_type": "stream",
     "text": [
      "(922233, 41)\n",
      "(461116, 41)\n"
     ]
    }
   ],
   "source": [
    "# Randomly sample 50% of your dataframe\n",
    "df_reduced = df.copy().sample(frac=0.5)\n",
    "print(df.shape)\n",
    "print(df_reduced.shape)"
   ]
  },
  {
   "cell_type": "markdown",
   "metadata": {},
   "source": [
    "## Split data"
   ]
  },
  {
   "cell_type": "code",
   "execution_count": 4,
   "metadata": {},
   "outputs": [],
   "source": [
    "X_train, X_test, y_train, y_test = train_test_split(df.drop(['loan_status'], axis=1),\n",
    "                                                    df['loan_status'], test_size=0.3,\n",
    "                                                    random_state=random_state)"
   ]
  },
  {
   "cell_type": "code",
   "execution_count": 103,
   "metadata": {},
   "outputs": [],
   "source": [
    "df = pd.DataFrame(X_train, columns = variables)\n",
    "df['loan_status'] = y_train"
   ]
  },
  {
   "cell_type": "markdown",
   "metadata": {},
   "source": [
    "## Split data for reduced models"
   ]
  },
  {
   "cell_type": "code",
   "execution_count": 107,
   "metadata": {},
   "outputs": [],
   "source": [
    "X_train_reduced, X_test_reduced, y_train_reduced, y_test_reduced = train_test_split(df_reduced.drop(['loan_status'], axis=1),\n",
    "                                                    df_reduced['loan_status'], test_size=0.3,\n",
    "                                                    random_state=random_state)"
   ]
  },
  {
   "cell_type": "code",
   "execution_count": 108,
   "metadata": {},
   "outputs": [],
   "source": [
    "df_reduced = pd.DataFrame(X_train_reduced, columns = variables)\n",
    "df_reduced['loan_status'] = y_train_reduced"
   ]
  },
  {
   "cell_type": "markdown",
   "metadata": {
    "pycharm": {
     "name": "#%% md\n"
    }
   },
   "source": [
    "## Check data balancing for original and reduced dataset\n",
    "\n",
    "### Original"
   ]
  },
  {
   "cell_type": "code",
   "execution_count": 109,
   "metadata": {
    "pycharm": {
     "name": "#%%\n"
    }
   },
   "outputs": [
    {
     "data": {
      "image/png": "[encoded data removed]",
      "text/plain": [
       "<Figure size 1080x720 with 2 Axes>"
      ]
     },
     "metadata": {
      "needs_background": "light"
     },
     "output_type": "display_data"
    }
   ],
   "source": [
    "df_0 = df[df['loan_status']==0]\n",
    "df_1 = df[df['loan_status']==1]\n",
    "\n",
    "# Plot of the outcome variable in both datasets\n",
    "fig, (ax, ax1) = plt.subplots(figsize=(15,10), ncols = 2)\n",
    "df['loan_status'].value_counts().plot(kind='bar', ax=ax, fontsize=14)\n",
    "df_0['loan_status'].value_counts().plot(kind='bar', ax=ax1, fontsize=14)\n",
    "ax.set_ylabel('Observation counts', fontsize=14)\n",
    "ax.set_xlabel('Class', fontsize=14)\n",
    "ax1.set_xlabel('Class', fontsize=14)\n",
    "ax.set_title('Original Dataset', fontsize=16)\n",
    "ax1.set_title('Imbalanced Dataset', fontsize=16)\n",
    "plt.show()"
   ]
  },
  {
   "cell_type": "code",
   "execution_count": 110,
   "metadata": {},
   "outputs": [
    {
     "data": {
      "image/png": "[encoded data removed]",
      "text/plain": [
       "<Figure size 1080x720 with 2 Axes>"
      ]
     },
     "metadata": {
      "needs_background": "light"
     },
     "output_type": "display_data"
    }
   ],
   "source": [
    "df_0_reduced = df_reduced[df_reduced['loan_status']==0]\n",
    "df_1_reduced = df_reduced[df_reduced['loan_status']==1]\n",
    "\n",
    "# Plot of the outcome variable in both datasets\n",
    "fig, (ax, ax1) = plt.subplots(figsize=(15,10), ncols = 2)\n",
    "df_reduced['loan_status'].value_counts().plot(kind='bar', ax=ax, fontsize=14)\n",
    "df_0_reduced['loan_status'].value_counts().plot(kind='bar', ax=ax1, fontsize=14)\n",
    "ax.set_ylabel('Observation counts', fontsize=14)\n",
    "ax.set_xlabel('Class', fontsize=14)\n",
    "ax1.set_xlabel('Class', fontsize=14)\n",
    "ax.set_title('Original Dataset', fontsize=16)\n",
    "ax1.set_title('Imbalanced Dataset', fontsize=16)\n",
    "plt.show()"
   ]
  },
  {
   "cell_type": "markdown",
   "metadata": {
    "pycharm": {
     "name": "#%% md\n"
    }
   },
   "source": [
    "**Important note: In our model class 1 referes to the non-defaulters and class 0 to defaulters.**\n",
    "\n",
    "Clearly we appreciate a significant imbalance of class 0 with respect to class 1.\n",
    "\n",
    "Thus, we need to balance the data. In class we learned about several methods to balance imbalanced datasets.\n",
    "In this case, we will use smote procedure.In the following sections we will perfomr data balancing with regular oversampling and with SMOTE oversampling."
   ]
  },
  {
   "cell_type": "markdown",
   "metadata": {},
   "source": [
    "# Logit with imbalanced data"
   ]
  },
  {
   "cell_type": "markdown",
   "metadata": {},
   "source": [
    "Before performing oevesampling, let's look into the performance of the model with the original imbalanced data:"
   ]
  },
  {
   "cell_type": "code",
   "execution_count": 111,
   "metadata": {
    "pycharm": {
     "name": "#%%\n"
    }
   },
   "outputs": [
    {
     "name": "stdout",
     "output_type": "stream",
     "text": [
      "Fitting 3 folds for each of 5 candidates, totalling 15 fits\n"
     ]
    },
    {
     "data": {
      "text/plain": [
       "GridSearchCV(cv=3,\n",
       "             estimator=LogisticRegression(max_iter=1000000, penalty='l1',\n",
       "                                          solver='liblinear', warm_start=True),\n",
       "             n_jobs=-1, param_grid={'C': [0.1, 0.5, 1, 2, 10]}, verbose=10)"
      ]
     },
     "execution_count": 111,
     "metadata": {},
     "output_type": "execute_result"
    }
   ],
   "source": [
    "# Parameter optimisation\n",
    "C = [1/10, 1/2, 1, 2, 10]\n",
    "param_grid = {'C': C}\n",
    "logit_imb = LogisticRegression(penalty=\"l1\",\n",
    "                         solver=\"liblinear\",\n",
    "                         max_iter=int(1e6),\n",
    "                         warm_start=True)\n",
    "cv = 3  # Cross-validation folds\n",
    "cv_logit_imb = GridSearchCV(estimator=logit_imb, param_grid=param_grid, verbose=10, cv=cv, n_jobs=-1)\n",
    "cv_logit_imb.fit(df_reduced[variables], df_reduced['loan_status'])"
   ]
  },
  {
   "cell_type": "markdown",
   "metadata": {},
   "source": [
    "### Optimal paramaters"
   ]
  },
  {
   "cell_type": "code",
   "execution_count": 112,
   "metadata": {},
   "outputs": [
    {
     "name": "stdout",
     "output_type": "stream",
     "text": [
      "The best Parameters are:\n",
      "- C: 10\n"
     ]
    }
   ],
   "source": [
    "optimal_logit_imb = cv_logit_imb.best_estimator_\n",
    "best_parameters_logit_imb = cv_logit_imb.best_params_\n",
    "print('The best Parameters are:')\n",
    "for key, item in best_parameters_logit_imb.items():\n",
    "    print(f'- {key}: {item}')"
   ]
  },
  {
   "cell_type": "code",
   "execution_count": 113,
   "metadata": {},
   "outputs": [
    {
     "name": "stdout",
     "output_type": "stream",
     "text": [
      "Logistic score imbalanced: 0.7253265864615067\n"
     ]
    }
   ],
   "source": [
    "print(f'Logistic score imbalanced: {optimal_logit_imb.score(X_test_reduced, y_test_reduced)}')"
   ]
  },
  {
   "cell_type": "markdown",
   "metadata": {
    "pycharm": {
     "name": "#%% md\n"
    }
   },
   "source": [
    "### Confusion matrix"
   ]
  },
  {
   "cell_type": "code",
   "execution_count": 114,
   "metadata": {
    "pycharm": {
     "name": "#%%\n"
    }
   },
   "outputs": [
    {
     "name": "stderr",
     "output_type": "stream",
     "text": [
      "/usr/local/lib/python3.9/site-packages/sklearn/utils/deprecation.py:87: FutureWarning: Function plot_confusion_matrix is deprecated; Function `plot_confusion_matrix` is deprecated in 1.0 and will be removed in 1.2. Use one of the class methods: ConfusionMatrixDisplay.from_predictions or ConfusionMatrixDisplay.from_estimator.\n",
      "  warnings.warn(msg, category=FutureWarning)\n"
     ]
    },
    {
     "data": {
      "text/plain": [
       "<sklearn.metrics._plot.confusion_matrix.ConfusionMatrixDisplay at 0x13534c6d0>"
      ]
     },
     "execution_count": 114,
     "metadata": {},
     "output_type": "execute_result"
    },
    {
     "data": {
      "image/png": "[encoded data removed]",
      "text/plain": [
       "<Figure size 432x288 with 2 Axes>"
      ]
     },
     "metadata": {
      "needs_background": "light"
     },
     "output_type": "display_data"
    }
   ],
   "source": [
    "plot_confusion_matrix(optimal_logit_imb, X_test_reduced, y_test_reduced, normalize='true')"
   ]
  },
  {
   "cell_type": "markdown",
   "metadata": {
    "pycharm": {
     "name": "#%% md\n"
    }
   },
   "source": [
    "### Plot ROC curves"
   ]
  },
  {
   "cell_type": "code",
   "execution_count": 115,
   "metadata": {
    "pycharm": {
     "name": "#%%\n"
    }
   },
   "outputs": [],
   "source": [
    "def plot_roc_precision(model, X_test, y_test):\n",
    "    fig, (ax, ax1) = plt.subplots(ncols=2, figsize=(15,10))\n",
    "    plot_roc_curve(model, X_test, y_test, ax=ax)\n",
    "    plot_precision_recall_curve(model, X_test, y_test, ax=ax1)\n",
    "    ax.set_title('ROC', fontsize=18)\n",
    "    ax1.set_title('Precision Recall', fontsize=18)\n",
    "    ax.legend(fontsize=15)\n",
    "    ax1.legend(fontsize=15)\n",
    "    plt.suptitle('Balanced Dataset', fontsize=20)\n",
    "    plt.show()"
   ]
  },
  {
   "cell_type": "code",
   "execution_count": 116,
   "metadata": {
    "pycharm": {
     "name": "#%%\n"
    }
   },
   "outputs": [
    {
     "name": "stderr",
     "output_type": "stream",
     "text": [
      "/usr/local/lib/python3.9/site-packages/sklearn/utils/deprecation.py:87: FutureWarning: Function plot_roc_curve is deprecated; Function :func:`plot_roc_curve` is deprecated in 1.0 and will be removed in 1.2. Use one of the class methods: :meth:`sklearn.metric.RocCurveDisplay.from_predictions` or :meth:`sklearn.metric.RocCurveDisplay.from_estimator`.\n",
      "  warnings.warn(msg, category=FutureWarning)\n",
      "/usr/local/lib/python3.9/site-packages/sklearn/utils/deprecation.py:87: FutureWarning: Function plot_precision_recall_curve is deprecated; Function `plot_precision_recall_curve` is deprecated in 1.0 and will be removed in 1.2. Use one of the class methods: PrecisionRecallDisplay.from_predictions or PrecisionRecallDisplay.from_estimator.\n",
      "  warnings.warn(msg, category=FutureWarning)\n"
     ]
    },
    {
     "data": {
      "image/png": "[encoded data removed]",
      "text/plain": [
       "<Figure size 1080x720 with 2 Axes>"
      ]
     },
     "metadata": {
      "needs_background": "light"
     },
     "output_type": "display_data"
    }
   ],
   "source": [
    "plot_roc_precision(optimal_logit_imb,  X_test_reduced, y_test_reduced)"
   ]
  },
  {
   "cell_type": "markdown",
   "metadata": {
    "pycharm": {
     "name": "#%% md\n"
    }
   },
   "source": [
    "The area under the curve is far from being maximized.\n",
    "\n",
    "# Logit with ovesampled data"
   ]
  },
  {
   "cell_type": "code",
   "execution_count": 117,
   "metadata": {
    "pycharm": {
     "name": "#%%\n"
    }
   },
   "outputs": [],
   "source": [
    "oversampler = imblearn.over_sampling.RandomOverSampler(sampling_strategy='minority')\n",
    "oversample_x, oversample_y = oversampler.fit_resample(df_reduced[variables], df_reduced['loan_status'])\n",
    "df_oversampled = pd.DataFrame(oversample_x, columns = variables)\n",
    "df_oversampled['loan_status'] = oversample_y"
   ]
  },
  {
   "cell_type": "code",
   "execution_count": 118,
   "metadata": {
    "pycharm": {
     "name": "#%%\n"
    }
   },
   "outputs": [
    {
     "data": {
      "image/png": "[encoded data removed]",
      "text/plain": [
       "<Figure size 1080x720 with 2 Axes>"
      ]
     },
     "metadata": {
      "needs_background": "light"
     },
     "output_type": "display_data"
    }
   ],
   "source": [
    "df_0_under = df_oversampled[df_oversampled['loan_status']==0]\n",
    "df_1_under = df_oversampled[df_oversampled['loan_status']==1]\n",
    "\n",
    "# Plot of the outcome variable in both datasets\n",
    "fig, (ax, ax1) = plt.subplots(figsize=(15,10), ncols = 2)\n",
    "df_oversampled['loan_status'].value_counts().plot(kind='bar', ax=ax, fontsize=14)\n",
    "df_0_under['loan_status'].value_counts().plot(kind='bar', ax=ax1, fontsize=14)\n",
    "ax.set_ylabel('Observation counts', fontsize=14)\n",
    "ax.set_xlabel('Class', fontsize=14)\n",
    "ax1.set_xlabel('Class', fontsize=14)\n",
    "ax.set_title('Original Dataset', fontsize=16)\n",
    "ax1.set_title('Imbalanced Dataset', fontsize=16)\n",
    "plt.show()"
   ]
  },
  {
   "cell_type": "code",
   "execution_count": 119,
   "metadata": {
    "pycharm": {
     "name": "#%%\n"
    }
   },
   "outputs": [
    {
     "name": "stdout",
     "output_type": "stream",
     "text": [
      "Fitting 3 folds for each of 5 candidates, totalling 15 fits\n"
     ]
    },
    {
     "data": {
      "text/plain": [
       "GridSearchCV(cv=3,\n",
       "             estimator=LogisticRegression(max_iter=1000000, penalty='l1',\n",
       "                                          solver='liblinear', warm_start=True),\n",
       "             n_jobs=-1, param_grid={'C': [0.1, 0.5, 1, 2, 10]}, verbose=10)"
      ]
     },
     "execution_count": 119,
     "metadata": {},
     "output_type": "execute_result"
    }
   ],
   "source": [
    "# Parameter optimisation\n",
    "C = [1/10, 1/2, 1, 2, 10]\n",
    "param_grid = {'C': C}\n",
    "logit_balanced = LogisticRegression(penalty=\"l1\",\n",
    "                         solver=\"liblinear\",\n",
    "                         max_iter=int(1e6),\n",
    "                         warm_start=True)\n",
    "cv = 3  # Cross-validation folds\n",
    "cv_logit_balanced = GridSearchCV(estimator=logit_balanced, param_grid=param_grid, verbose=10, cv=cv, n_jobs=-1)\n",
    "cv_logit_balanced.fit(df_oversampled[variables], df_oversampled['loan_status'])"
   ]
  },
  {
   "cell_type": "code",
   "execution_count": 120,
   "metadata": {},
   "outputs": [
    {
     "name": "stdout",
     "output_type": "stream",
     "text": [
      "The best Parameters are:\n",
      "- C: 10\n"
     ]
    }
   ],
   "source": [
    "optimal_logit_balanced = cv_logit_balanced.best_estimator_\n",
    "best_parameters_logit_balanced = cv_logit_balanced.best_params_\n",
    "print('The best Parameters are:')\n",
    "for key, item in best_parameters_logit_imb.items():\n",
    "    print(f'- {key}: {item}')"
   ]
  },
  {
   "cell_type": "code",
   "execution_count": 121,
   "metadata": {},
   "outputs": [
    {
     "name": "stdout",
     "output_type": "stream",
     "text": [
      "Logistic score oversampled: 0.6541403115625113\n"
     ]
    }
   ],
   "source": [
    "print(f'Logistic score oversampled: {optimal_logit_balanced.score(X_test, y_test)}')"
   ]
  },
  {
   "cell_type": "code",
   "execution_count": 122,
   "metadata": {
    "pycharm": {
     "name": "#%%\n"
    }
   },
   "outputs": [
    {
     "name": "stderr",
     "output_type": "stream",
     "text": [
      "/usr/local/lib/python3.9/site-packages/sklearn/utils/deprecation.py:87: FutureWarning: Function plot_confusion_matrix is deprecated; Function `plot_confusion_matrix` is deprecated in 1.0 and will be removed in 1.2. Use one of the class methods: ConfusionMatrixDisplay.from_predictions or ConfusionMatrixDisplay.from_estimator.\n",
      "  warnings.warn(msg, category=FutureWarning)\n"
     ]
    },
    {
     "data": {
      "text/plain": [
       "<sklearn.metrics._plot.confusion_matrix.ConfusionMatrixDisplay at 0x1374e8130>"
      ]
     },
     "execution_count": 122,
     "metadata": {},
     "output_type": "execute_result"
    },
    {
     "data": {
      "image/png": "[encoded data removed]",
      "text/plain": [
       "<Figure size 432x288 with 2 Axes>"
      ]
     },
     "metadata": {
      "needs_background": "light"
     },
     "output_type": "display_data"
    }
   ],
   "source": [
    "plot_confusion_matrix(optimal_logit_balanced, X_test_reduced, y_test_reduced, normalize='true')"
   ]
  },
  {
   "cell_type": "code",
   "execution_count": 123,
   "metadata": {
    "pycharm": {
     "name": "#%%\n"
    }
   },
   "outputs": [
    {
     "name": "stderr",
     "output_type": "stream",
     "text": [
      "/usr/local/lib/python3.9/site-packages/sklearn/utils/deprecation.py:87: FutureWarning: Function plot_roc_curve is deprecated; Function :func:`plot_roc_curve` is deprecated in 1.0 and will be removed in 1.2. Use one of the class methods: :meth:`sklearn.metric.RocCurveDisplay.from_predictions` or :meth:`sklearn.metric.RocCurveDisplay.from_estimator`.\n",
      "  warnings.warn(msg, category=FutureWarning)\n",
      "/usr/local/lib/python3.9/site-packages/sklearn/utils/deprecation.py:87: FutureWarning: Function plot_precision_recall_curve is deprecated; Function `plot_precision_recall_curve` is deprecated in 1.0 and will be removed in 1.2. Use one of the class methods: PrecisionRecallDisplay.from_predictions or PrecisionRecallDisplay.from_estimator.\n",
      "  warnings.warn(msg, category=FutureWarning)\n"
     ]
    },
    {
     "data": {
      "image/png": "[encoded data removed]",
      "text/plain": [
       "<Figure size 1080x720 with 2 Axes>"
      ]
     },
     "metadata": {
      "needs_background": "light"
     },
     "output_type": "display_data"
    },
    {
     "name": "stdout",
     "output_type": "stream",
     "text": [
      "[CV 2/3; 1/5] START C=0.1.......................................................\n",
      "[CV 2/3; 1/5] END ........................C=0.1;, score=0.724 total time= 1.9min\n",
      "[CV 2/3; 4/5] START C=2.........................................................\n",
      "[CV 2/3; 4/5] END ..........................C=2;, score=0.652 total time= 3.4min\n",
      "[CV 1/3; 1/5] START C=0.1.......................................................\n",
      "[CV 1/3; 1/5] END ........................C=0.1;, score=0.724 total time= 1.9min\n",
      "[CV 1/3; 2/5] START C=0.5.......................................................\n",
      "[CV 1/3; 2/5] END ........................C=0.5;, score=0.651 total time= 3.8min\n",
      "[CV 1/3; 3/5] START C=1.........................................................\n",
      "[CV 1/3; 3/5] END ..........................C=1;, score=0.724 total time= 1.8min\n",
      "[CV 3/3; 1/5] START C=0.1.......................................................\n",
      "[CV 3/3; 1/5] END ........................C=0.1;, score=0.653 total time= 3.9min\n",
      "[CV 3/3; 2/5] START C=0.5.......................................................\n",
      "[CV 3/3; 2/5] END ........................C=0.5;, score=0.724 total time= 1.3min\n",
      "[CV 1/3; 5/5] START C=10........................................................\n",
      "[CV 1/3; 5/5] END .........................C=10;, score=0.724 total time=  45.9s\n",
      "[CV 1/3; 4/5] START C=2.........................................................\n",
      "[CV 1/3; 4/5] END ..........................C=2;, score=0.651 total time= 3.9min\n",
      "[CV 2/3; 2/5] START C=0.5.......................................................\n",
      "[CV 2/3; 2/5] END ........................C=0.5;, score=0.724 total time= 1.8min\n",
      "[CV 2/3; 2/5] START C=0.5.......................................................\n",
      "[CV 2/3; 2/5] END ........................C=0.5;, score=0.652 total time= 4.0min\n",
      "[CV 3/3; 4/5] START C=2.........................................................\n",
      "[CV 3/3; 4/5] END ..........................C=2;, score=0.724 total time= 1.8min\n",
      "[CV 2/3; 3/5] START C=1.........................................................\n",
      "[CV 2/3; 3/5] END ..........................C=1;, score=0.652 total time= 4.0min\n",
      "[CV 2/3; 4/5] START C=2.........................................................\n",
      "[CV 2/3; 4/5] END ..........................C=2;, score=0.724 total time= 1.8min\n",
      "[CV 1/3; 3/5] START C=1.........................................................\n",
      "[CV 1/3; 3/5] END ..........................C=1;, score=0.651 total time= 4.0min\n",
      "[CV 1/3; 2/5] START C=0.5.......................................................\n",
      "[CV 1/3; 2/5] END ........................C=0.5;, score=0.724 total time= 1.8min\n",
      "[CV 2/3; 1/5] START C=0.1.......................................................\n",
      "[CV 2/3; 1/5] END ........................C=0.1;, score=0.652 total time= 4.1min\n",
      "[CV 1/3; 4/5] START C=2.........................................................\n",
      "[CV 1/3; 4/5] END ..........................C=2;, score=0.724 total time= 1.6min\n",
      "[CV 3/3; 5/5] START C=10........................................................\n",
      "[CV 3/3; 5/5] END .........................C=10;, score=0.724 total time=  25.8s\n",
      "[CV 3/3; 2/5] START C=0.5.......................................................\n",
      "[CV 3/3; 2/5] END ........................C=0.5;, score=0.653 total time= 4.1min\n",
      "[CV 2/3; 3/5] START C=1.........................................................\n",
      "[CV 2/3; 3/5] END ..........................C=1;, score=0.724 total time= 1.7min\n",
      "[CV 1/3; 1/5] START C=0.1.......................................................\n",
      "[CV 1/3; 1/5] END ........................C=0.1;, score=0.651 total time= 3.2min\n",
      "[CV 2/3; 5/5] START C=10........................................................\n",
      "[CV 2/3; 5/5] END .........................C=10;, score=0.652 total time= 1.3min\n",
      "[CV 3/3; 1/5] START C=0.1.......................................................\n",
      "[CV 3/3; 1/5] END ........................C=0.1;, score=0.724 total time= 1.3min\n",
      "[CV 2/3; 5/5] START C=10........................................................\n",
      "[CV 2/3; 5/5] END .........................C=10;, score=0.724 total time=  51.1s\n",
      "[CV 3/3; 3/5] START C=1.........................................................\n",
      "[CV 3/3; 3/5] END ..........................C=1;, score=0.653 total time= 3.4min\n",
      "[CV 3/3; 5/5] START C=10........................................................\n",
      "[CV 3/3; 5/5] END .........................C=10;, score=0.653 total time= 1.2min\n",
      "[CV 3/3; 3/5] START C=1.........................................................\n",
      "[CV 3/3; 3/5] END ..........................C=1;, score=0.724 total time= 1.9min\n",
      "[CV 3/3; 4/5] START C=2.........................................................\n",
      "[CV 3/3; 4/5] END ..........................C=2;, score=0.653 total time= 3.2min\n",
      "[CV 1/3; 5/5] START C=10........................................................\n",
      "[CV 1/3; 5/5] END .........................C=10;, score=0.651 total time= 1.5min\n"
     ]
    }
   ],
   "source": [
    "plot_roc_precision(optimal_logit_balanced,  X_test_reduced, y_test_reduced)"
   ]
  },
  {
   "cell_type": "markdown",
   "metadata": {},
   "source": [
    "Note that the ROC and precission recall curves indicate that oversampoling the dataset does not improve the performance of the model with the original dataset."
   ]
  },
  {
   "cell_type": "markdown",
   "metadata": {},
   "source": [
    "## Logistic with SMOTE oversampling"
   ]
  },
  {
   "cell_type": "markdown",
   "metadata": {},
   "source": [
    "It is worth mentioning that we did run smote with 50% of the original dataset not obtaining significative improvement. In fact, the score with 50% of the total dataset was 48%. As we shall see in this section using 100% of the data implies a score of 84%, a significant improvement with respect imbalanced logisitic and oversampled logistic."
   ]
  },
  {
   "cell_type": "code",
   "execution_count": 8,
   "metadata": {
    "pycharm": {
     "name": "#%%\n"
    }
   },
   "outputs": [
    {
     "name": "stdout",
     "output_type": "stream",
     "text": [
      "Fitting 3 folds for each of 30 candidates, totalling 90 fits\n",
      "Cross-validation score: 0.8447719453884158\n",
      "Test score: 0.8455199394855287\n"
     ]
    }
   ],
   "source": [
    "C = [1/10, 1/2, 1, 2, 5, 10]\n",
    "pipeline = imbpipeline(steps = [('smote', SMOTE(random_state=random_state)), ('scaler', MinMaxScaler()),\n",
    "                                ('classifier', LogisticRegression(penalty=\"l1\",solver=\"liblinear\",max_iter=int(1e6),warm_start=True))])\n",
    "cv = KFold(n_splits=3, shuffle=True, random_state=random_state)\n",
    "param_grid = {'smote__k_neighbors': [1, 3, 4, 5, 10],\n",
    "              \"classifier__C\":C\n",
    "             }\n",
    "grid_search = GridSearchCV(estimator=pipeline,\n",
    "                            param_grid=param_grid,\n",
    "                            scoring='average_precision',\n",
    "                            cv=cv,\n",
    "                            verbose=True,\n",
    "                            n_jobs=-1)\n",
    "grid_search.fit(X_train, y_train)\n",
    "cv_score = grid_search.best_score_\n",
    "test_score = grid_search.score(X_test, y_test)\n",
    "print(f'Cross-validation score: {cv_score}\\nTest score: {test_score}')"
   ]
  },
  {
   "cell_type": "code",
   "execution_count": 9,
   "metadata": {},
   "outputs": [],
   "source": [
    "# Retreive best model \n",
    "optimal_logit_smote = grid_search.best_estimator_[\"classifier\"]"
   ]
  },
  {
   "cell_type": "code",
   "execution_count": 12,
   "metadata": {},
   "outputs": [
    {
     "data": {
      "text/plain": [
       "{'classifier__C': 0.1, 'smote__k_neighbors': 1}"
      ]
     },
     "execution_count": 12,
     "metadata": {},
     "output_type": "execute_result"
    }
   ],
   "source": [
    "# Retreive best params \n",
    "grid_search.best_params_"
   ]
  },
  {
   "cell_type": "markdown",
   "metadata": {},
   "source": [
    "### Scale test data for performance"
   ]
  },
  {
   "cell_type": "code",
   "execution_count": 13,
   "metadata": {},
   "outputs": [],
   "source": [
    "scaler = grid_search.best_estimator_[\"scaler\"]\n",
    "X_test_scaled = X_test\n",
    "X_test_scaled[X_test_scaled.columns] = scaler.fit_transform(X_test[X_test.columns])\n",
    "y_test_scaled = scaler.fit_transform(np.array(y_test).reshape(-1, 1))\n"
   ]
  },
  {
   "cell_type": "code",
   "execution_count": 14,
   "metadata": {},
   "outputs": [
    {
     "name": "stderr",
     "output_type": "stream",
     "text": [
      "/usr/local/lib/python3.9/site-packages/sklearn/utils/deprecation.py:87: FutureWarning: Function plot_confusion_matrix is deprecated; Function `plot_confusion_matrix` is deprecated in 1.0 and will be removed in 1.2. Use one of the class methods: ConfusionMatrixDisplay.from_predictions or ConfusionMatrixDisplay.from_estimator.\n",
      "  warnings.warn(msg, category=FutureWarning)\n",
      "/usr/local/lib/python3.9/site-packages/sklearn/base.py:443: UserWarning: X has feature names, but LogisticRegression was fitted without feature names\n",
      "  warnings.warn(\n"
     ]
    },
    {
     "data": {
      "text/plain": [
       "<sklearn.metrics._plot.confusion_matrix.ConfusionMatrixDisplay at 0x138c8afd0>"
      ]
     },
     "execution_count": 14,
     "metadata": {},
     "output_type": "execute_result"
    },
    {
     "data": {
      "image/png": "[encoded data removed]",
      "text/plain": [
       "<Figure size 432x288 with 2 Axes>"
      ]
     },
     "metadata": {
      "needs_background": "light"
     },
     "output_type": "display_data"
    }
   ],
   "source": [
    "plot_confusion_matrix(optimal_logit_smote, X_test_scaled, y_test_scaled, normalize='true')"
   ]
  },
  {
   "cell_type": "code",
   "execution_count": 15,
   "metadata": {},
   "outputs": [
    {
     "name": "stderr",
     "output_type": "stream",
     "text": [
      "/usr/local/lib/python3.9/site-packages/sklearn/utils/deprecation.py:87: FutureWarning: Function plot_roc_curve is deprecated; Function :func:`plot_roc_curve` is deprecated in 1.0 and will be removed in 1.2. Use one of the class methods: :meth:`sklearn.metric.RocCurveDisplay.from_predictions` or :meth:`sklearn.metric.RocCurveDisplay.from_estimator`.\n",
      "  warnings.warn(msg, category=FutureWarning)\n",
      "/usr/local/lib/python3.9/site-packages/sklearn/base.py:443: UserWarning: X has feature names, but LogisticRegression was fitted without feature names\n",
      "  warnings.warn(\n",
      "/usr/local/lib/python3.9/site-packages/sklearn/utils/deprecation.py:87: FutureWarning: Function plot_precision_recall_curve is deprecated; Function `plot_precision_recall_curve` is deprecated in 1.0 and will be removed in 1.2. Use one of the class methods: PrecisionRecallDisplay.from_predictions or PrecisionRecallDisplay.from_estimator.\n",
      "  warnings.warn(msg, category=FutureWarning)\n",
      "/usr/local/lib/python3.9/site-packages/sklearn/base.py:443: UserWarning: X has feature names, but LogisticRegression was fitted without feature names\n",
      "  warnings.warn(\n"
     ]
    },
    {
     "data": {
      "image/png": "[encoded data removed]",
      "text/plain": [
       "<Figure size 1080x720 with 2 Axes>"
      ]
     },
     "metadata": {
      "needs_background": "light"
     },
     "output_type": "display_data"
    }
   ],
   "source": [
    "plot_roc_precision(optimal_logit_smote,   X_test_scaled, y_test_scaled)"
   ]
  },
  {
   "cell_type": "markdown",
   "metadata": {},
   "source": [
    "## Variable selection from Logistic model with SMOTE oversampling"
   ]
  },
  {
   "cell_type": "markdown",
   "metadata": {},
   "source": [
    "### Logistic coefficients"
   ]
  },
  {
   "cell_type": "code",
   "execution_count": 19,
   "metadata": {},
   "outputs": [
    {
     "data": {
      "text/html": [
       "<div>\n",
       "<style scoped>\n",
       "    .dataframe tbody tr th:only-of-type {\n",
       "        vertical-align: middle;\n",
       "    }\n",
       "\n",
       "    .dataframe tbody tr th {\n",
       "        vertical-align: top;\n",
       "    }\n",
       "\n",
       "    .dataframe thead th {\n",
       "        text-align: right;\n",
       "    }\n",
       "</style>\n",
       "<table border=\"1\" class=\"dataframe\">\n",
       "  <thead>\n",
       "    <tr style=\"text-align: right;\">\n",
       "      <th></th>\n",
       "      <th>Predictor</th>\n",
       "      <th>Logistic COEF</th>\n",
       "    </tr>\n",
       "  </thead>\n",
       "  <tbody>\n",
       "    <tr>\n",
       "      <th>0</th>\n",
       "      <td>loan_amnt</td>\n",
       "      <td>-0.3</td>\n",
       "    </tr>\n",
       "    <tr>\n",
       "      <th>1</th>\n",
       "      <td>term</td>\n",
       "      <td>-0.6</td>\n",
       "    </tr>\n",
       "    <tr>\n",
       "      <th>2</th>\n",
       "      <td>sub_grade</td>\n",
       "      <td>-2.8</td>\n",
       "    </tr>\n",
       "    <tr>\n",
       "      <th>3</th>\n",
       "      <td>installment</td>\n",
       "      <td>-0.6</td>\n",
       "    </tr>\n",
       "    <tr>\n",
       "      <th>4</th>\n",
       "      <td>issue_d</td>\n",
       "      <td>0.0</td>\n",
       "    </tr>\n",
       "    <tr>\n",
       "      <th>5</th>\n",
       "      <td>annual_inc</td>\n",
       "      <td>0.4</td>\n",
       "    </tr>\n",
       "    <tr>\n",
       "      <th>6</th>\n",
       "      <td>emp_length</td>\n",
       "      <td>0.1</td>\n",
       "    </tr>\n",
       "    <tr>\n",
       "      <th>7</th>\n",
       "      <td>verification_status</td>\n",
       "      <td>-0.1</td>\n",
       "    </tr>\n",
       "    <tr>\n",
       "      <th>8</th>\n",
       "      <td>purpose</td>\n",
       "      <td>-0.1</td>\n",
       "    </tr>\n",
       "    <tr>\n",
       "      <th>9</th>\n",
       "      <td>home_ownership</td>\n",
       "      <td>-0.3</td>\n",
       "    </tr>\n",
       "    <tr>\n",
       "      <th>10</th>\n",
       "      <td>addr_state</td>\n",
       "      <td>0.1</td>\n",
       "    </tr>\n",
       "    <tr>\n",
       "      <th>11</th>\n",
       "      <td>zip_code</td>\n",
       "      <td>0.1</td>\n",
       "    </tr>\n",
       "    <tr>\n",
       "      <th>12</th>\n",
       "      <td>avg_cur_bal</td>\n",
       "      <td>0.4</td>\n",
       "    </tr>\n",
       "    <tr>\n",
       "      <th>13</th>\n",
       "      <td>delinq_2yrs</td>\n",
       "      <td>-0.7</td>\n",
       "    </tr>\n",
       "    <tr>\n",
       "      <th>14</th>\n",
       "      <td>delinq_amnt</td>\n",
       "      <td>-0.5</td>\n",
       "    </tr>\n",
       "    <tr>\n",
       "      <th>15</th>\n",
       "      <td>earliest_cr_line</td>\n",
       "      <td>-0.0</td>\n",
       "    </tr>\n",
       "    <tr>\n",
       "      <th>16</th>\n",
       "      <td>inq_last_6mths</td>\n",
       "      <td>-0.7</td>\n",
       "    </tr>\n",
       "    <tr>\n",
       "      <th>17</th>\n",
       "      <td>open_acc</td>\n",
       "      <td>1.7</td>\n",
       "    </tr>\n",
       "    <tr>\n",
       "      <th>18</th>\n",
       "      <td>open_il_12m</td>\n",
       "      <td>-1.0</td>\n",
       "    </tr>\n",
       "    <tr>\n",
       "      <th>19</th>\n",
       "      <td>num_accts_ever_120_pd</td>\n",
       "      <td>0.1</td>\n",
       "    </tr>\n",
       "    <tr>\n",
       "      <th>20</th>\n",
       "      <td>num_actv_bc_tl</td>\n",
       "      <td>-2.6</td>\n",
       "    </tr>\n",
       "    <tr>\n",
       "      <th>21</th>\n",
       "      <td>num_bc_tl</td>\n",
       "      <td>-0.6</td>\n",
       "    </tr>\n",
       "    <tr>\n",
       "      <th>22</th>\n",
       "      <td>num_il_tl</td>\n",
       "      <td>-0.3</td>\n",
       "    </tr>\n",
       "    <tr>\n",
       "      <th>23</th>\n",
       "      <td>num_op_rev_tl</td>\n",
       "      <td>-2.8</td>\n",
       "    </tr>\n",
       "    <tr>\n",
       "      <th>24</th>\n",
       "      <td>num_rev_accts</td>\n",
       "      <td>-0.1</td>\n",
       "    </tr>\n",
       "    <tr>\n",
       "      <th>25</th>\n",
       "      <td>num_tl_90g_dpd_24m</td>\n",
       "      <td>0.0</td>\n",
       "    </tr>\n",
       "    <tr>\n",
       "      <th>26</th>\n",
       "      <td>percent_bc_gt_75</td>\n",
       "      <td>-0.0</td>\n",
       "    </tr>\n",
       "    <tr>\n",
       "      <th>27</th>\n",
       "      <td>pub_rec</td>\n",
       "      <td>-0.5</td>\n",
       "    </tr>\n",
       "    <tr>\n",
       "      <th>28</th>\n",
       "      <td>pub_rec_bankruptcies</td>\n",
       "      <td>-0.4</td>\n",
       "    </tr>\n",
       "    <tr>\n",
       "      <th>29</th>\n",
       "      <td>revol_bal</td>\n",
       "      <td>0.3</td>\n",
       "    </tr>\n",
       "    <tr>\n",
       "      <th>30</th>\n",
       "      <td>revol_util</td>\n",
       "      <td>0.1</td>\n",
       "    </tr>\n",
       "    <tr>\n",
       "      <th>31</th>\n",
       "      <td>tax_liens</td>\n",
       "      <td>0.0</td>\n",
       "    </tr>\n",
       "    <tr>\n",
       "      <th>32</th>\n",
       "      <td>tot_cur_bal</td>\n",
       "      <td>-0.4</td>\n",
       "    </tr>\n",
       "    <tr>\n",
       "      <th>33</th>\n",
       "      <td>tot_hi_cred_lim</td>\n",
       "      <td>0.4</td>\n",
       "    </tr>\n",
       "    <tr>\n",
       "      <th>34</th>\n",
       "      <td>total_acc</td>\n",
       "      <td>1.3</td>\n",
       "    </tr>\n",
       "    <tr>\n",
       "      <th>35</th>\n",
       "      <td>total_bal_ex_mort</td>\n",
       "      <td>-0.1</td>\n",
       "    </tr>\n",
       "    <tr>\n",
       "      <th>36</th>\n",
       "      <td>total_bc_limit</td>\n",
       "      <td>1.0</td>\n",
       "    </tr>\n",
       "    <tr>\n",
       "      <th>37</th>\n",
       "      <td>revol_bal_joint</td>\n",
       "      <td>-0.6</td>\n",
       "    </tr>\n",
       "    <tr>\n",
       "      <th>38</th>\n",
       "      <td>annual_inc_joint</td>\n",
       "      <td>0.7</td>\n",
       "    </tr>\n",
       "    <tr>\n",
       "      <th>39</th>\n",
       "      <td>verification_status_joint</td>\n",
       "      <td>0.0</td>\n",
       "    </tr>\n",
       "  </tbody>\n",
       "</table>\n",
       "</div>"
      ],
      "text/plain": [
       "                    Predictor  Logistic COEF\n",
       "0                   loan_amnt           -0.3\n",
       "1                        term           -0.6\n",
       "2                   sub_grade           -2.8\n",
       "3                 installment           -0.6\n",
       "4                     issue_d            0.0\n",
       "5                  annual_inc            0.4\n",
       "6                  emp_length            0.1\n",
       "7         verification_status           -0.1\n",
       "8                     purpose           -0.1\n",
       "9              home_ownership           -0.3\n",
       "10                 addr_state            0.1\n",
       "11                   zip_code            0.1\n",
       "12                avg_cur_bal            0.4\n",
       "13                delinq_2yrs           -0.7\n",
       "14                delinq_amnt           -0.5\n",
       "15           earliest_cr_line           -0.0\n",
       "16             inq_last_6mths           -0.7\n",
       "17                   open_acc            1.7\n",
       "18                open_il_12m           -1.0\n",
       "19      num_accts_ever_120_pd            0.1\n",
       "20             num_actv_bc_tl           -2.6\n",
       "21                  num_bc_tl           -0.6\n",
       "22                  num_il_tl           -0.3\n",
       "23              num_op_rev_tl           -2.8\n",
       "24              num_rev_accts           -0.1\n",
       "25         num_tl_90g_dpd_24m            0.0\n",
       "26           percent_bc_gt_75           -0.0\n",
       "27                    pub_rec           -0.5\n",
       "28       pub_rec_bankruptcies           -0.4\n",
       "29                  revol_bal            0.3\n",
       "30                 revol_util            0.1\n",
       "31                  tax_liens            0.0\n",
       "32                tot_cur_bal           -0.4\n",
       "33            tot_hi_cred_lim            0.4\n",
       "34                  total_acc            1.3\n",
       "35          total_bal_ex_mort           -0.1\n",
       "36             total_bc_limit            1.0\n",
       "37            revol_bal_joint           -0.6\n",
       "38           annual_inc_joint            0.7\n",
       "39  verification_status_joint            0.0"
      ]
     },
     "execution_count": 19,
     "metadata": {},
     "output_type": "execute_result"
    }
   ],
   "source": [
    "list_tuples = list(zip(variables, np.round(optimal_logit_smote.coef_[0], 1)))\n",
    "coef_df = pd.DataFrame(list_tuples, columns =['Predictor', 'Logistic COEF'])\n",
    "coef_df"
   ]
  },
  {
   "cell_type": "markdown",
   "metadata": {},
   "source": [
    "### Omitted predictors by Logistic model\n",
    "\n",
    "Note that we are using l1 norm as penalty in the logistic model. Therefore, coefficient shrinkage is performed, alloging variable selection."
   ]
  },
  {
   "cell_type": "code",
   "execution_count": 20,
   "metadata": {
    "scrolled": true
   },
   "outputs": [
    {
     "data": {
      "text/html": [
       "<div>\n",
       "<style scoped>\n",
       "    .dataframe tbody tr th:only-of-type {\n",
       "        vertical-align: middle;\n",
       "    }\n",
       "\n",
       "    .dataframe tbody tr th {\n",
       "        vertical-align: top;\n",
       "    }\n",
       "\n",
       "    .dataframe thead th {\n",
       "        text-align: right;\n",
       "    }\n",
       "</style>\n",
       "<table border=\"1\" class=\"dataframe\">\n",
       "  <thead>\n",
       "    <tr style=\"text-align: right;\">\n",
       "      <th></th>\n",
       "      <th>Predictor</th>\n",
       "      <th>Logistic COEF</th>\n",
       "    </tr>\n",
       "  </thead>\n",
       "  <tbody>\n",
       "    <tr>\n",
       "      <th>4</th>\n",
       "      <td>issue_d</td>\n",
       "      <td>0.0</td>\n",
       "    </tr>\n",
       "    <tr>\n",
       "      <th>15</th>\n",
       "      <td>earliest_cr_line</td>\n",
       "      <td>-0.0</td>\n",
       "    </tr>\n",
       "    <tr>\n",
       "      <th>25</th>\n",
       "      <td>num_tl_90g_dpd_24m</td>\n",
       "      <td>0.0</td>\n",
       "    </tr>\n",
       "    <tr>\n",
       "      <th>26</th>\n",
       "      <td>percent_bc_gt_75</td>\n",
       "      <td>-0.0</td>\n",
       "    </tr>\n",
       "    <tr>\n",
       "      <th>31</th>\n",
       "      <td>tax_liens</td>\n",
       "      <td>0.0</td>\n",
       "    </tr>\n",
       "    <tr>\n",
       "      <th>39</th>\n",
       "      <td>verification_status_joint</td>\n",
       "      <td>0.0</td>\n",
       "    </tr>\n",
       "  </tbody>\n",
       "</table>\n",
       "</div>"
      ],
      "text/plain": [
       "                    Predictor  Logistic COEF\n",
       "4                     issue_d            0.0\n",
       "15           earliest_cr_line           -0.0\n",
       "25         num_tl_90g_dpd_24m            0.0\n",
       "26           percent_bc_gt_75           -0.0\n",
       "31                  tax_liens            0.0\n",
       "39  verification_status_joint            0.0"
      ]
     },
     "execution_count": 20,
     "metadata": {},
     "output_type": "execute_result"
    }
   ],
   "source": [
    "# Omitted\n",
    "coef_df[coef_df['Logistic COEF'] == 0]"
   ]
  },
  {
   "cell_type": "markdown",
   "metadata": {},
   "source": [
    "### Selected predictors by Logistic model"
   ]
  },
  {
   "cell_type": "code",
   "execution_count": 21,
   "metadata": {},
   "outputs": [
    {
     "data": {
      "text/html": [
       "<div>\n",
       "<style scoped>\n",
       "    .dataframe tbody tr th:only-of-type {\n",
       "        vertical-align: middle;\n",
       "    }\n",
       "\n",
       "    .dataframe tbody tr th {\n",
       "        vertical-align: top;\n",
       "    }\n",
       "\n",
       "    .dataframe thead th {\n",
       "        text-align: right;\n",
       "    }\n",
       "</style>\n",
       "<table border=\"1\" class=\"dataframe\">\n",
       "  <thead>\n",
       "    <tr style=\"text-align: right;\">\n",
       "      <th></th>\n",
       "      <th>Predictor</th>\n",
       "      <th>Logistic COEF</th>\n",
       "    </tr>\n",
       "  </thead>\n",
       "  <tbody>\n",
       "    <tr>\n",
       "      <th>0</th>\n",
       "      <td>loan_amnt</td>\n",
       "      <td>-0.3</td>\n",
       "    </tr>\n",
       "    <tr>\n",
       "      <th>1</th>\n",
       "      <td>term</td>\n",
       "      <td>-0.6</td>\n",
       "    </tr>\n",
       "    <tr>\n",
       "      <th>2</th>\n",
       "      <td>sub_grade</td>\n",
       "      <td>-2.8</td>\n",
       "    </tr>\n",
       "    <tr>\n",
       "      <th>3</th>\n",
       "      <td>installment</td>\n",
       "      <td>-0.6</td>\n",
       "    </tr>\n",
       "    <tr>\n",
       "      <th>5</th>\n",
       "      <td>annual_inc</td>\n",
       "      <td>0.4</td>\n",
       "    </tr>\n",
       "    <tr>\n",
       "      <th>6</th>\n",
       "      <td>emp_length</td>\n",
       "      <td>0.1</td>\n",
       "    </tr>\n",
       "    <tr>\n",
       "      <th>7</th>\n",
       "      <td>verification_status</td>\n",
       "      <td>-0.1</td>\n",
       "    </tr>\n",
       "    <tr>\n",
       "      <th>8</th>\n",
       "      <td>purpose</td>\n",
       "      <td>-0.1</td>\n",
       "    </tr>\n",
       "    <tr>\n",
       "      <th>9</th>\n",
       "      <td>home_ownership</td>\n",
       "      <td>-0.3</td>\n",
       "    </tr>\n",
       "    <tr>\n",
       "      <th>10</th>\n",
       "      <td>addr_state</td>\n",
       "      <td>0.1</td>\n",
       "    </tr>\n",
       "    <tr>\n",
       "      <th>11</th>\n",
       "      <td>zip_code</td>\n",
       "      <td>0.1</td>\n",
       "    </tr>\n",
       "    <tr>\n",
       "      <th>12</th>\n",
       "      <td>avg_cur_bal</td>\n",
       "      <td>0.4</td>\n",
       "    </tr>\n",
       "    <tr>\n",
       "      <th>13</th>\n",
       "      <td>delinq_2yrs</td>\n",
       "      <td>-0.7</td>\n",
       "    </tr>\n",
       "    <tr>\n",
       "      <th>14</th>\n",
       "      <td>delinq_amnt</td>\n",
       "      <td>-0.5</td>\n",
       "    </tr>\n",
       "    <tr>\n",
       "      <th>16</th>\n",
       "      <td>inq_last_6mths</td>\n",
       "      <td>-0.7</td>\n",
       "    </tr>\n",
       "    <tr>\n",
       "      <th>17</th>\n",
       "      <td>open_acc</td>\n",
       "      <td>1.7</td>\n",
       "    </tr>\n",
       "    <tr>\n",
       "      <th>18</th>\n",
       "      <td>open_il_12m</td>\n",
       "      <td>-1.0</td>\n",
       "    </tr>\n",
       "    <tr>\n",
       "      <th>19</th>\n",
       "      <td>num_accts_ever_120_pd</td>\n",
       "      <td>0.1</td>\n",
       "    </tr>\n",
       "    <tr>\n",
       "      <th>20</th>\n",
       "      <td>num_actv_bc_tl</td>\n",
       "      <td>-2.6</td>\n",
       "    </tr>\n",
       "    <tr>\n",
       "      <th>21</th>\n",
       "      <td>num_bc_tl</td>\n",
       "      <td>-0.6</td>\n",
       "    </tr>\n",
       "    <tr>\n",
       "      <th>22</th>\n",
       "      <td>num_il_tl</td>\n",
       "      <td>-0.3</td>\n",
       "    </tr>\n",
       "    <tr>\n",
       "      <th>23</th>\n",
       "      <td>num_op_rev_tl</td>\n",
       "      <td>-2.8</td>\n",
       "    </tr>\n",
       "    <tr>\n",
       "      <th>24</th>\n",
       "      <td>num_rev_accts</td>\n",
       "      <td>-0.1</td>\n",
       "    </tr>\n",
       "    <tr>\n",
       "      <th>27</th>\n",
       "      <td>pub_rec</td>\n",
       "      <td>-0.5</td>\n",
       "    </tr>\n",
       "    <tr>\n",
       "      <th>28</th>\n",
       "      <td>pub_rec_bankruptcies</td>\n",
       "      <td>-0.4</td>\n",
       "    </tr>\n",
       "    <tr>\n",
       "      <th>29</th>\n",
       "      <td>revol_bal</td>\n",
       "      <td>0.3</td>\n",
       "    </tr>\n",
       "    <tr>\n",
       "      <th>30</th>\n",
       "      <td>revol_util</td>\n",
       "      <td>0.1</td>\n",
       "    </tr>\n",
       "    <tr>\n",
       "      <th>32</th>\n",
       "      <td>tot_cur_bal</td>\n",
       "      <td>-0.4</td>\n",
       "    </tr>\n",
       "    <tr>\n",
       "      <th>33</th>\n",
       "      <td>tot_hi_cred_lim</td>\n",
       "      <td>0.4</td>\n",
       "    </tr>\n",
       "    <tr>\n",
       "      <th>34</th>\n",
       "      <td>total_acc</td>\n",
       "      <td>1.3</td>\n",
       "    </tr>\n",
       "    <tr>\n",
       "      <th>35</th>\n",
       "      <td>total_bal_ex_mort</td>\n",
       "      <td>-0.1</td>\n",
       "    </tr>\n",
       "    <tr>\n",
       "      <th>36</th>\n",
       "      <td>total_bc_limit</td>\n",
       "      <td>1.0</td>\n",
       "    </tr>\n",
       "    <tr>\n",
       "      <th>37</th>\n",
       "      <td>revol_bal_joint</td>\n",
       "      <td>-0.6</td>\n",
       "    </tr>\n",
       "    <tr>\n",
       "      <th>38</th>\n",
       "      <td>annual_inc_joint</td>\n",
       "      <td>0.7</td>\n",
       "    </tr>\n",
       "  </tbody>\n",
       "</table>\n",
       "</div>"
      ],
      "text/plain": [
       "                Predictor  Logistic COEF\n",
       "0               loan_amnt           -0.3\n",
       "1                    term           -0.6\n",
       "2               sub_grade           -2.8\n",
       "3             installment           -0.6\n",
       "5              annual_inc            0.4\n",
       "6              emp_length            0.1\n",
       "7     verification_status           -0.1\n",
       "8                 purpose           -0.1\n",
       "9          home_ownership           -0.3\n",
       "10             addr_state            0.1\n",
       "11               zip_code            0.1\n",
       "12            avg_cur_bal            0.4\n",
       "13            delinq_2yrs           -0.7\n",
       "14            delinq_amnt           -0.5\n",
       "16         inq_last_6mths           -0.7\n",
       "17               open_acc            1.7\n",
       "18            open_il_12m           -1.0\n",
       "19  num_accts_ever_120_pd            0.1\n",
       "20         num_actv_bc_tl           -2.6\n",
       "21              num_bc_tl           -0.6\n",
       "22              num_il_tl           -0.3\n",
       "23          num_op_rev_tl           -2.8\n",
       "24          num_rev_accts           -0.1\n",
       "27                pub_rec           -0.5\n",
       "28   pub_rec_bankruptcies           -0.4\n",
       "29              revol_bal            0.3\n",
       "30             revol_util            0.1\n",
       "32            tot_cur_bal           -0.4\n",
       "33        tot_hi_cred_lim            0.4\n",
       "34              total_acc            1.3\n",
       "35      total_bal_ex_mort           -0.1\n",
       "36         total_bc_limit            1.0\n",
       "37        revol_bal_joint           -0.6\n",
       "38       annual_inc_joint            0.7"
      ]
     },
     "execution_count": 21,
     "metadata": {},
     "output_type": "execute_result"
    }
   ],
   "source": [
    "# Selected\n",
    "coef_df[coef_df['Logistic COEF'] != 0]"
   ]
  },
  {
   "cell_type": "markdown",
   "metadata": {},
   "source": [
    "# Random forest"
   ]
  },
  {
   "cell_type": "markdown",
   "metadata": {},
   "source": [
    "This is the final part of our model. After eliminating the non-significant variables indicated by Logit model with SMOTE oversampling, we will fit a random forest model to get the final results.\n",
    "\n",
    "We aslo must note that we will use the original data set and the orginal train and test sets."
   ]
  },
  {
   "cell_type": "markdown",
   "metadata": {},
   "source": [
    "### Delete penalized variables by Logit model"
   ]
  },
  {
   "cell_type": "code",
   "execution_count": 22,
   "metadata": {},
   "outputs": [],
   "source": [
    "X_train_mod = X_train.copy()\n",
    "X_test_mod = X_test.copy()\n",
    "X_train_mod = X_train_mod.drop([\"tax_liens\", \n",
    "                                \"verification_status_joint\", \n",
    "                                \"issue_d\",\n",
    "                                \"num_tl_90g_dpd_24m\",\n",
    "                                \"percent_bc_gt_75\"\n",
    "                               ], axis=1)\n",
    "X_test_mod = X_test_mod.drop([\"tax_liens\", \n",
    "                                \"verification_status_joint\", \n",
    "                                \"issue_d\",\n",
    "                                \"num_tl_90g_dpd_24m\",\n",
    "                                \"percent_bc_gt_75\"\n",
    "                               ], axis=1)"
   ]
  },
  {
   "cell_type": "markdown",
   "metadata": {},
   "source": [
    "#### Find optimal hyperparameters"
   ]
  },
  {
   "cell_type": "code",
   "execution_count": 155,
   "metadata": {},
   "outputs": [],
   "source": [
    "# Parameter optimisation\n",
    "n_estimators = [200, 500, 1000]\n",
    "max_features = ['sqrt', 0.5]\n",
    "max_depth = [20, 50, 100]\n",
    "min_samples_split = [2, 5, 10]\n",
    "min_samples_leaf = [1, 2, 4]\n",
    "param_grid = {'n_estimators': n_estimators, 'max_features': max_features, 'max_depth': max_depth,\n",
    "              'min_samples_split': min_samples_split, 'min_samples_leaf': min_samples_leaf}\n",
    "rfc = RandomForestClassifier(random_state=random_state, n_jobs=-1)\n",
    "n_iter = 10  # Number of parameter settings that are sampled. n_iter trades off runtime vs quality of the solution.\n",
    "cv = 3  # Cross-validation folds\n",
    "rf_random = RandomizedSearchCV(estimator=rfc, param_distributions=param_grid, n_iter=n_iter, cv=cv,\n",
    "                               random_state=random_state, n_jobs=-1, scoring='average_precision')\n",
    "\n",
    "rf_random.fit(X_train_scaled, smote_y)\n",
    "best_parameters = rf_random.best_params_\n",
    "print('The best Parameters are:')\n",
    "for key, item in best_parameters.items():\n",
    "    print(f'- {key}: {item}')"
   ]
  },
  {
   "cell_type": "code",
   "execution_count": 23,
   "metadata": {},
   "outputs": [
    {
     "data": {
      "text/plain": [
       "0.7066071493114541"
      ]
     },
     "execution_count": 23,
     "metadata": {},
     "output_type": "execute_result"
    }
   ],
   "source": [
    "rfc_opt = RandomForestClassifier(n_estimators=1000, min_samples_split=2, min_samples_leaf=1, max_features = 'sqrt',\n",
    "                                 max_depth=100, random_state=random_state, n_jobs=-1)\n",
    "rfc_opt.fit(X_train_mod, y_train)\n",
    "rfc_opt.score(X_test_mod,y_test)"
   ]
  },
  {
   "cell_type": "code",
   "execution_count": null,
   "metadata": {},
   "outputs": [],
   "source": []
  }
 ],
 "metadata": {
  "kernelspec": {
   "display_name": "Python 3 (ipykernel)",
   "language": "python",
   "name": "python3"
  },
  "language_info": {
   "codemirror_mode": {
    "name": "ipython",
    "version": 3
   },
   "file_extension": ".py",
   "mimetype": "text/x-python",
   "name": "python",
   "nbconvert_exporter": "python",
   "pygments_lexer": "ipython3",
   "version": "3.9.7"
  }
 },
 "nbformat": 4,
 "nbformat_minor": 1
}
